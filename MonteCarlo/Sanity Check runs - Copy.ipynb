{
 "cells": [
  {
   "cell_type": "code",
   "execution_count": 1,
   "metadata": {},
   "outputs": [
    {
     "data": {
      "text/plain": [
       "L2vdwRealSpace (generic function with 1 method)"
      ]
     },
     "execution_count": 1,
     "metadata": {},
     "output_type": "execute_result"
    }
   ],
   "source": [
    "using Plots\n",
    "using LinearAlgebra\n",
    "using SparseArrays\n",
    "using LightGraphs\n",
    "using GraphPlot\n",
    "using DisplayAs\n",
    "using DelimitedFiles\n",
    "using FFTW\n",
    "using Random\n",
    "using LightLattices\n",
    "using StaticArrays\n",
    "using Base.Threads\n",
    "using Dates\n",
    "\n",
    "include(\"WormPyrochlore.jl\")\n",
    "include(\"wormsanitychecks.jl\")\n",
    "include(\"W3W4functions.jl\")"
   ]
  },
  {
   "cell_type": "code",
   "execution_count": 2,
   "metadata": {},
   "outputs": [],
   "source": [
    "Nlist=[8,8,8];"
   ]
  },
  {
   "cell_type": "code",
   "execution_count": 3,
   "metadata": {},
   "outputs": [],
   "source": [
    "config0=zeros(4,Nlist[1],Nlist[2],Nlist[3]);\n",
    "for k in 1:Nlist[3]\n",
    "    for j in 1:Nlist[2]\n",
    "        for i in 1:Nlist[1]\n",
    "            config0[1,i,j,k]=1\n",
    "            config0[2,i,j,k]=1\n",
    "            config0[3,i,j,k]=-1\n",
    "            config0[4,i,j,k]=-1\n",
    "        end\n",
    "    end\n",
    "end"
   ]
  },
  {
   "cell_type": "code",
   "execution_count": 4,
   "metadata": {},
   "outputs": [],
   "source": [
    "configpipi0=zeros(4,Nlist[1],Nlist[2],Nlist[3]);\n",
    "for k in 1:Nlist[3]\n",
    "    for j in 1:Nlist[2]\n",
    "        for i in 1:Nlist[1]\n",
    "            configpipi0[1,i,j,k]=1*(1-2*mod(i+j-2,2))\n",
    "            configpipi0[2,i,j,k]=1*(1-2*mod(i+j-2,2))\n",
    "            configpipi0[3,i,j,k]=-1*(1-2*mod(i+j-2,2))\n",
    "            configpipi0[4,i,j,k]=-1*(1-2*mod(i+j-2,2))\n",
    "        end\n",
    "    end\n",
    "end"
   ]
  },
  {
   "cell_type": "code",
   "execution_count": 5,
   "metadata": {},
   "outputs": [],
   "source": [
    "configpi0pi=zeros(4,Nlist[1],Nlist[2],Nlist[3]);\n",
    "for k in 1:Nlist[3]\n",
    "    for j in 1:Nlist[2]\n",
    "        for i in 1:Nlist[1]\n",
    "            configpi0pi[1,i,j,k]=1*(1-2*mod(i+k-2,2))\n",
    "            configpi0pi[2,i,j,k]=1*(1-2*mod(i+k-2,2))\n",
    "            configpi0pi[3,i,j,k]=-1*(1-2*mod(i+k-2,2))\n",
    "            configpi0pi[4,i,j,k]=-1*(1-2*mod(i+k-2,2))\n",
    "        end\n",
    "    end\n",
    "end"
   ]
  },
  {
   "cell_type": "code",
   "execution_count": 6,
   "metadata": {},
   "outputs": [],
   "source": [
    "loopbag=findshortflippableloop(config0,Nlist);"
   ]
  },
  {
   "cell_type": "code",
   "execution_count": 7,
   "metadata": {},
   "outputs": [
    {
     "data": {
      "text/plain": [
       "33"
      ]
     },
     "execution_count": 7,
     "metadata": {},
     "output_type": "execute_result"
    }
   ],
   "source": [
    "length(loopbag[1])"
   ]
  },
  {
   "cell_type": "code",
   "execution_count": 8,
   "metadata": {},
   "outputs": [
    {
     "data": {
      "text/plain": [
       "33-element Array{Array{Any,1},1}:\n",
       " [[1, 8, 7], 1]\n",
       " [[8, 8, 7], -1]\n",
       " [[8, 8, 8], 1]\n",
       " [[8, 8, 8], -1]\n",
       " [[8, 1, 8], 1]\n",
       " [[8, 1, 8], -1]\n",
       " [[8, 1, 1], 1]\n",
       " [[8, 1, 1], -1]\n",
       " [[8, 1, 2], 1]\n",
       " [[8, 1, 2], -1]\n",
       " [[8, 2, 2], 1]\n",
       " [[8, 2, 2], -1]\n",
       " [[8, 3, 2], 1]\n",
       " ⋮\n",
       " [[5, 4, 5], -1]\n",
       " [[5, 5, 5], 1]\n",
       " [[4, 5, 5], -1]\n",
       " [[4, 6, 5], 1]\n",
       " [[4, 6, 5], -1]\n",
       " [[4, 7, 5], 1]\n",
       " [[3, 7, 5], -1]\n",
       " [[3, 8, 5], 1]\n",
       " [[2, 8, 5], -1]\n",
       " [[2, 8, 6], 1]\n",
       " [[1, 8, 6], -1]\n",
       " [[1, 8, 7], 1]"
      ]
     },
     "execution_count": 8,
     "metadata": {},
     "output_type": "execute_result"
    }
   ],
   "source": [
    "loopbag[1]"
   ]
  },
  {
   "cell_type": "code",
   "execution_count": 9,
   "metadata": {},
   "outputs": [
    {
     "data": {
      "text/plain": [
       "32-element Array{Int64,1}:\n",
       " 1\n",
       " 3\n",
       " 0\n",
       " 2\n",
       " 0\n",
       " 3\n",
       " 0\n",
       " 3\n",
       " 0\n",
       " 2\n",
       " 0\n",
       " 2\n",
       " 1\n",
       " ⋮\n",
       " 0\n",
       " 2\n",
       " 1\n",
       " 2\n",
       " 0\n",
       " 2\n",
       " 1\n",
       " 2\n",
       " 1\n",
       " 3\n",
       " 1\n",
       " 3"
      ]
     },
     "execution_count": 9,
     "metadata": {},
     "output_type": "execute_result"
    }
   ],
   "source": [
    "loopbag[2]"
   ]
  },
  {
   "cell_type": "code",
   "execution_count": 10,
   "metadata": {},
   "outputs": [
    {
     "data": {
      "text/plain": [
       "32-element Array{Array{Int64,1},1}:\n",
       " [2, 1, 8, 7]\n",
       " [4, 8, 8, 8]\n",
       " [1, 8, 8, 8]\n",
       " [3, 8, 1, 8]\n",
       " [1, 8, 1, 8]\n",
       " [4, 8, 1, 1]\n",
       " [1, 8, 1, 1]\n",
       " [4, 8, 1, 2]\n",
       " [1, 8, 1, 2]\n",
       " [3, 8, 2, 2]\n",
       " [1, 8, 2, 2]\n",
       " [3, 8, 3, 2]\n",
       " [2, 8, 3, 2]\n",
       " ⋮\n",
       " [1, 5, 4, 5]\n",
       " [3, 5, 5, 5]\n",
       " [2, 5, 5, 5]\n",
       " [3, 4, 6, 5]\n",
       " [1, 4, 6, 5]\n",
       " [3, 4, 7, 5]\n",
       " [2, 4, 7, 5]\n",
       " [3, 3, 8, 5]\n",
       " [2, 3, 8, 5]\n",
       " [4, 2, 8, 6]\n",
       " [2, 2, 8, 6]\n",
       " [4, 1, 8, 7]"
      ]
     },
     "execution_count": 10,
     "metadata": {},
     "output_type": "execute_result"
    }
   ],
   "source": [
    "loopbag[3]"
   ]
  },
  {
   "cell_type": "code",
   "execution_count": null,
   "metadata": {},
   "outputs": [],
   "source": []
  },
  {
   "cell_type": "code",
   "execution_count": 11,
   "metadata": {},
   "outputs": [
    {
     "data": {
      "text/plain": [
       "-1.0"
      ]
     },
     "execution_count": 11,
     "metadata": {},
     "output_type": "execute_result"
    }
   ],
   "source": [
    "config0[3, 1, 2, 2]"
   ]
  },
  {
   "cell_type": "code",
   "execution_count": 12,
   "metadata": {},
   "outputs": [
    {
     "data": {
      "text/plain": [
       "3-element Array{Int64,1}:\n",
       " -8\n",
       "  8\n",
       "  8"
      ]
     },
     "execution_count": 12,
     "metadata": {},
     "output_type": "execute_result"
    }
   ],
   "source": [
    "winding(loopbag[2],1,1)"
   ]
  },
  {
   "cell_type": "code",
   "execution_count": 14,
   "metadata": {},
   "outputs": [
    {
     "data": {
      "text/plain": [
       "32-element Array{Array{Int64,1},1}:\n",
       " [2, 1, 8, 7]\n",
       " [4, 8, 8, 8]\n",
       " [1, 8, 8, 8]\n",
       " [3, 8, 1, 8]\n",
       " [1, 8, 1, 8]\n",
       " [4, 8, 1, 1]\n",
       " [1, 8, 1, 1]\n",
       " [4, 8, 1, 2]\n",
       " [1, 8, 1, 2]\n",
       " [3, 8, 2, 2]\n",
       " [1, 8, 2, 2]\n",
       " [3, 8, 3, 2]\n",
       " [2, 8, 3, 2]\n",
       " ⋮\n",
       " [1, 5, 4, 5]\n",
       " [3, 5, 5, 5]\n",
       " [2, 5, 5, 5]\n",
       " [3, 4, 6, 5]\n",
       " [1, 4, 6, 5]\n",
       " [3, 4, 7, 5]\n",
       " [2, 4, 7, 5]\n",
       " [3, 3, 8, 5]\n",
       " [2, 3, 8, 5]\n",
       " [4, 2, 8, 6]\n",
       " [2, 2, 8, 6]\n",
       " [4, 1, 8, 7]"
      ]
     },
     "execution_count": 14,
     "metadata": {},
     "output_type": "execute_result"
    }
   ],
   "source": [
    "loopbag[3]"
   ]
  },
  {
   "cell_type": "code",
   "execution_count": 15,
   "metadata": {},
   "outputs": [],
   "source": [
    "confignew=newloopflip_config(config0,loopbag[3],Nlist);"
   ]
  },
  {
   "cell_type": "code",
   "execution_count": 16,
   "metadata": {},
   "outputs": [
    {
     "data": {
      "text/plain": [
       "32.0"
      ]
     },
     "execution_count": 16,
     "metadata": {},
     "output_type": "execute_result"
    }
   ],
   "source": [
    "electricflux(config0,1,2,Nlist)"
   ]
  },
  {
   "cell_type": "code",
   "execution_count": 17,
   "metadata": {},
   "outputs": [
    {
     "data": {
      "text/plain": [
       "-31.0"
      ]
     },
     "execution_count": 17,
     "metadata": {},
     "output_type": "execute_result"
    }
   ],
   "source": [
    "electricflux(confignew,2,2,Nlist)"
   ]
  },
  {
   "cell_type": "code",
   "execution_count": 18,
   "metadata": {},
   "outputs": [],
   "source": [
    "loopbag=findLongflippableloop(configpipi0,Nlist);"
   ]
  },
  {
   "cell_type": "code",
   "execution_count": 19,
   "metadata": {},
   "outputs": [
    {
     "data": {
      "text/plain": [
       "9-element Array{Array{Any,1},1}:\n",
       " [[1, 8, 3], 1]\n",
       " [[1, 8, 3], -1]\n",
       " [[2, 8, 3], 1]\n",
       " [[2, 8, 2], -1]\n",
       " [[2, 8, 2], 1]\n",
       " [[2, 7, 2], -1]\n",
       " [[2, 7, 3], 1]\n",
       " [[1, 7, 3], -1]\n",
       " [[1, 8, 3], 1]"
      ]
     },
     "execution_count": 19,
     "metadata": {},
     "output_type": "execute_result"
    }
   ],
   "source": [
    "loopbag[1]"
   ]
  },
  {
   "cell_type": "code",
   "execution_count": 36,
   "metadata": {},
   "outputs": [
    {
     "data": {
      "text/plain": [
       "4-element Array{Array{Int64,1},1}:\n",
       " [1, 1, 1, 2]\n",
       " [4, 1, 1, 1]\n",
       " [1, 1, 1, 1]\n",
       " [4, 1, 1, 2]"
      ]
     },
     "execution_count": 36,
     "metadata": {},
     "output_type": "execute_result"
    }
   ],
   "source": [
    "loopbag[3]"
   ]
  },
  {
   "cell_type": "code",
   "execution_count": 20,
   "metadata": {},
   "outputs": [
    {
     "data": {
      "text/plain": [
       "1.0"
      ]
     },
     "execution_count": 20,
     "metadata": {},
     "output_type": "execute_result"
    }
   ],
   "source": [
    "confignew[1, 2, 2, 2]"
   ]
  },
  {
   "cell_type": "code",
   "execution_count": 21,
   "metadata": {},
   "outputs": [
    {
     "data": {
      "text/plain": [
       "3-element Array{Int64,1}:\n",
       " 0\n",
       " 0\n",
       " 0"
      ]
     },
     "execution_count": 21,
     "metadata": {},
     "output_type": "execute_result"
    }
   ],
   "source": [
    "winding(loopbag[2],1,1)"
   ]
  },
  {
   "cell_type": "code",
   "execution_count": 22,
   "metadata": {},
   "outputs": [],
   "source": [
    "confignew2=newloopflip_config(confignew,loopbag[3],Nlist);"
   ]
  },
  {
   "cell_type": "code",
   "execution_count": 23,
   "metadata": {},
   "outputs": [
    {
     "data": {
      "text/plain": [
       "-31.0"
      ]
     },
     "execution_count": 23,
     "metadata": {},
     "output_type": "execute_result"
    }
   ],
   "source": [
    "electricflux(confignew2,3,2,Nlist)"
   ]
  },
  {
   "cell_type": "code",
   "execution_count": 24,
   "metadata": {},
   "outputs": [
    {
     "data": {
      "text/plain": [
       "0.0"
      ]
     },
     "execution_count": 24,
     "metadata": {},
     "output_type": "execute_result"
    }
   ],
   "source": [
    "icerulecost(confignew,Nlist)"
   ]
  },
  {
   "cell_type": "code",
   "execution_count": 25,
   "metadata": {},
   "outputs": [
    {
     "ename": "LoadError",
     "evalue": "\u001b[91mMethodError: no method matching rem(::Array{Int64,1}, ::Int64)\u001b[39m\n\u001b[91m\u001b[0mClosest candidates are:\u001b[39m\n\u001b[91m\u001b[0m  rem(::Any, ::Any, \u001b[91m::RoundingMode{:ToZero}\u001b[39m) at div.jl:67\u001b[39m\n\u001b[91m\u001b[0m  rem(::Any, ::Any, \u001b[91m::RoundingMode{:Down}\u001b[39m) at div.jl:68\u001b[39m\n\u001b[91m\u001b[0m  rem(::Any, ::Any, \u001b[91m::RoundingMode{:Up}\u001b[39m) at div.jl:69\u001b[39m\n\u001b[91m\u001b[0m  ...\u001b[39m",
     "output_type": "error",
     "traceback": [
      "\u001b[91mMethodError: no method matching rem(::Array{Int64,1}, ::Int64)\u001b[39m\n\u001b[91m\u001b[0mClosest candidates are:\u001b[39m\n\u001b[91m\u001b[0m  rem(::Any, ::Any, \u001b[91m::RoundingMode{:ToZero}\u001b[39m) at div.jl:67\u001b[39m\n\u001b[91m\u001b[0m  rem(::Any, ::Any, \u001b[91m::RoundingMode{:Down}\u001b[39m) at div.jl:68\u001b[39m\n\u001b[91m\u001b[0m  rem(::Any, ::Any, \u001b[91m::RoundingMode{:Up}\u001b[39m) at div.jl:69\u001b[39m\n\u001b[91m\u001b[0m  ...\u001b[39m",
      "",
      "Stacktrace:",
      " [1] checkflippable(::Array{Array{T,1} where T,1}, ::Array{Float64,4}, ::Array{Int64,1}) at C:\\Users\\gauta\\Google Drive\\My Drive\\Research coding and data\\3D Spin Liquid\\WormPyrochlore.jl:134",
      " [2] countflippablehex(::Array{Float64,4}, ::Array{Int64,1}) at C:\\Users\\gauta\\Google Drive\\My Drive\\Research coding and data\\3D Spin Liquid\\WormPyrochlore.jl:857",
      " [3] top-level scope at In[25]:1"
     ]
    }
   ],
   "source": [
    "countflippablehex(configpipi0,Nlist)"
   ]
  },
  {
   "cell_type": "code",
   "execution_count": null,
   "metadata": {},
   "outputs": [],
   "source": [
    "countflippablehex(configpipi0,Nlist)"
   ]
  },
  {
   "cell_type": "code",
   "execution_count": 122,
   "metadata": {},
   "outputs": [
    {
     "data": {
      "text/plain": [
       "-1"
      ]
     },
     "execution_count": 122,
     "metadata": {},
     "output_type": "execute_result"
    }
   ],
   "source": [
    "((loopbag[1])[1])[2]"
   ]
  },
  {
   "cell_type": "code",
   "execution_count": 25,
   "metadata": {},
   "outputs": [
    {
     "data": {
      "text/plain": [
       "0.0"
      ]
     },
     "execution_count": 25,
     "metadata": {},
     "output_type": "execute_result"
    }
   ],
   "source": [
    "electricflux(configpipi0,3,1,Nlist)"
   ]
  },
  {
   "cell_type": "code",
   "execution_count": 80,
   "metadata": {},
   "outputs": [
    {
     "name": "stdout",
     "output_type": "stream",
     "text": [
      "2th added, icerulecost=0.0, nflip=8\n",
      "3th added, icerulecost=0.0, nflip=8\n",
      "4th added, icerulecost=0.0, nflip=8\n",
      "5th added, icerulecost=0.0, nflip=8\n",
      "6th added, icerulecost=0.0, nflip=8\n",
      "7th added, icerulecost=0.0, nflip=8\n",
      "8th added, icerulecost=0.0, nflip=8\n",
      "9th added, icerulecost=0.0, nflip=8\n",
      "10th added, icerulecost=0.0, nflip=8\n",
      "11th added, icerulecost=0.0, nflip=8\n",
      "12th added, icerulecost=0.0, nflip=8\n",
      "13th added, icerulecost=0.0, nflip=8\n",
      "14th added, icerulecost=0.0, nflip=8\n",
      "15th added, icerulecost=0.0, nflip=8\n",
      "16th added, icerulecost=0.0, nflip=8\n",
      "17th added, icerulecost=0.0, nflip=8\n",
      "18th added, icerulecost=0.0, nflip=8\n",
      "19th added, icerulecost=0.0, nflip=8\n",
      "20th added, icerulecost=0.0, nflip=8\n",
      "21th added, icerulecost=0.0, nflip=8\n",
      "22th added, icerulecost=0.0, nflip=8\n",
      "23th added, icerulecost=0.0, nflip=8\n",
      "24th added, icerulecost=0.0, nflip=8\n",
      "25th added, icerulecost=0.0, nflip=8\n",
      "26th added, icerulecost=0.0, nflip=8\n",
      "27th added, icerulecost=0.0, nflip=8\n",
      "28th added, icerulecost=0.0, nflip=8\n",
      "29th added, icerulecost=0.0, nflip=8\n",
      "30th added, icerulecost=0.0, nflip=8\n",
      "31th added, icerulecost=0.0, nflip=8\n",
      "32th added, icerulecost=0.0, nflip=8\n",
      "33th added, icerulecost=0.0, nflip=8\n",
      "34th added, icerulecost=0.0, nflip=8\n",
      "35th added, icerulecost=0.0, nflip=8\n",
      "36th added, icerulecost=0.0, nflip=8\n",
      "37th added, icerulecost=0.0, nflip=8\n",
      "38th added, icerulecost=0.0, nflip=8\n",
      "39th added, icerulecost=0.0, nflip=8\n",
      "40th added, icerulecost=0.0, nflip=8\n",
      "41th added, icerulecost=0.0, nflip=8\n",
      "42th added, icerulecost=0.0, nflip=8\n",
      "43th added, icerulecost=0.0, nflip=8\n",
      "44th added, icerulecost=0.0, nflip=8\n",
      "45th added, icerulecost=0.0, nflip=8\n",
      "46th added, icerulecost=0.0, nflip=8\n",
      "47th added, icerulecost=0.0, nflip=8\n",
      "48th added, icerulecost=0.0, nflip=8\n",
      "49th added, icerulecost=0.0, nflip=8\n",
      "50th added, icerulecost=0.0, nflip=8\n",
      "51th added, icerulecost=0.0, nflip=8\n",
      "52th added, icerulecost=0.0, nflip=8\n",
      "53th added, icerulecost=0.0, nflip=8\n",
      "54th added, icerulecost=0.0, nflip=8\n",
      "55th added, icerulecost=0.0, nflip=8\n",
      "56th added, icerulecost=0.0, nflip=8\n",
      "57th added, icerulecost=0.0, nflip=8\n",
      "58th added, icerulecost=0.0, nflip=8\n",
      "59th added, icerulecost=0.0, nflip=8\n",
      "60th added, icerulecost=0.0, nflip=8\n",
      "61th added, icerulecost=0.0, nflip=8\n",
      "62th added, icerulecost=0.0, nflip=8\n",
      "63th added, icerulecost=0.0, nflip=8\n",
      "64th added, icerulecost=0.0, nflip=8\n",
      "65th added, icerulecost=0.0, nflip=8\n",
      "66th added, icerulecost=0.0, nflip=8\n",
      "67th added, icerulecost=0.0, nflip=8\n",
      "68th added, icerulecost=0.0, nflip=8\n",
      "69th added, icerulecost=0.0, nflip=8\n",
      "70th added, icerulecost=0.0, nflip=8\n",
      "71th added, icerulecost=0.0, nflip=8\n",
      "72th added, icerulecost=0.0, nflip=8\n",
      "73th added, icerulecost=0.0, nflip=8\n",
      "74th added, icerulecost=0.0, nflip=8\n",
      "75th added, icerulecost=0.0, nflip=8\n",
      "76th added, icerulecost=0.0, nflip=8\n",
      "77th added, icerulecost=0.0, nflip=8\n",
      "78th added, icerulecost=0.0, nflip=8\n",
      "79th added, icerulecost=0.0, nflip=8\n",
      "80th added, icerulecost=0.0, nflip=8\n",
      "81th added, icerulecost=0.0, nflip=8\n",
      "82th added, icerulecost=0.0, nflip=8\n",
      "83th added, icerulecost=0.0, nflip=8\n",
      "84th added, icerulecost=0.0, nflip=8\n",
      "85th added, icerulecost=0.0, nflip=8\n",
      "86th added, icerulecost=0.0, nflip=8\n",
      "87th added, icerulecost=0.0, nflip=8\n",
      "88th added, icerulecost=0.0, nflip=8\n",
      "89th added, icerulecost=0.0, nflip=8\n",
      "90th added, icerulecost=0.0, nflip=8\n",
      "91th added, icerulecost=0.0, nflip=8\n",
      "92th added, icerulecost=0.0, nflip=8\n",
      "93th added, icerulecost=0.0, nflip=8\n",
      "94th added, icerulecost=0.0, nflip=8\n",
      "95th added, icerulecost=0.0, nflip=8\n",
      "96th added, icerulecost=0.0, nflip=8\n",
      "97th added, icerulecost=0.0, nflip=8\n",
      "98th added, icerulecost=0.0, nflip=8\n",
      "99th added, icerulecost=0.0, nflip=8\n",
      "100th added, icerulecost=0.0, nflip=8\n",
      "101th added, icerulecost=0.0, nflip=8\n",
      "102th added, icerulecost=0.0, nflip=8\n",
      "103th added, icerulecost=0.0, nflip=8\n",
      "104th added, icerulecost=0.0, nflip=8\n",
      "105th added, icerulecost=0.0, nflip=8\n",
      "106th added, icerulecost=0.0, nflip=8\n",
      "107th added, icerulecost=0.0, nflip=8\n",
      "108th added, icerulecost=0.0, nflip=8\n",
      "109th added, icerulecost=0.0, nflip=0\n",
      "110th added, icerulecost=0.0, nflip=8\n",
      "111th added, icerulecost=0.0, nflip=8\n",
      "112th added, icerulecost=0.0, nflip=8\n",
      "113th added, icerulecost=0.0, nflip=8\n",
      "114th added, icerulecost=0.0, nflip=8\n",
      "115th added, icerulecost=0.0, nflip=8\n",
      "116th added, icerulecost=0.0, nflip=8\n",
      "117th added, icerulecost=0.0, nflip=8\n",
      "118th added, icerulecost=0.0, nflip=8\n",
      "119th added, icerulecost=0.0, nflip=8\n",
      "120th added, icerulecost=0.0, nflip=8\n",
      "121th added, icerulecost=0.0, nflip=8\n",
      "122th added, icerulecost=0.0, nflip=8\n",
      "123th added, icerulecost=0.0, nflip=0\n",
      "124th added, icerulecost=0.0, nflip=8\n",
      "125th added, icerulecost=0.0, nflip=8\n",
      "126th added, icerulecost=0.0, nflip=8\n",
      "127th added, icerulecost=0.0, nflip=8\n",
      "128th added, icerulecost=0.0, nflip=8\n",
      "129th added, icerulecost=0.0, nflip=8\n",
      "130th added, icerulecost=0.0, nflip=8\n",
      "131th added, icerulecost=0.0, nflip=8\n",
      "132th added, icerulecost=0.0, nflip=8\n",
      "133th added, icerulecost=0.0, nflip=8\n",
      "134th added, icerulecost=0.0, nflip=8\n",
      "135th added, icerulecost=0.0, nflip=8\n",
      "136th added, icerulecost=0.0, nflip=8\n",
      "137th added, icerulecost=0.0, nflip=8\n",
      "138th added, icerulecost=0.0, nflip=8\n",
      "139th added, icerulecost=0.0, nflip=8\n",
      "140th added, icerulecost=0.0, nflip=8\n",
      "141th added, icerulecost=0.0, nflip=8\n",
      "142th added, icerulecost=0.0, nflip=8\n",
      "143th added, icerulecost=0.0, nflip=8\n",
      "144th added, icerulecost=0.0, nflip=8\n",
      "145th added, icerulecost=0.0, nflip=8\n",
      "146th added, icerulecost=0.0, nflip=8\n",
      "147th added, icerulecost=0.0, nflip=8\n",
      "148th added, icerulecost=0.0, nflip=8\n",
      "149th added, icerulecost=0.0, nflip=8\n",
      "150th added, icerulecost=0.0, nflip=8\n",
      "151th added, icerulecost=0.0, nflip=8\n",
      "152th added, icerulecost=0.0, nflip=8\n",
      "153th added, icerulecost=0.0, nflip=8\n",
      "154th added, icerulecost=0.0, nflip=8\n",
      "155th added, icerulecost=0.0, nflip=8\n",
      "156th added, icerulecost=0.0, nflip=8\n",
      "157th added, icerulecost=0.0, nflip=8\n",
      "158th added, icerulecost=0.0, nflip=8\n",
      "159th added, icerulecost=0.0, nflip=8\n",
      "160th added, icerulecost=0.0, nflip=8\n",
      "161th added, icerulecost=0.0, nflip=8\n",
      "162th added, icerulecost=0.0, nflip=8\n",
      "163th added, icerulecost=0.0, nflip=8\n",
      "164th added, icerulecost=0.0, nflip=8\n",
      "165th added, icerulecost=0.0, nflip=8\n",
      "166th added, icerulecost=0.0, nflip=8\n",
      "167th added, icerulecost=0.0, nflip=8\n",
      "168th added, icerulecost=0.0, nflip=8\n",
      "169th added, icerulecost=0.0, nflip=8\n",
      "170th added, icerulecost=0.0, nflip=8\n",
      "171th added, icerulecost=0.0, nflip=8\n",
      "172th added, icerulecost=0.0, nflip=8\n",
      "173th added, icerulecost=0.0, nflip=8\n",
      "174th added, icerulecost=0.0, nflip=8\n",
      "175th added, icerulecost=0.0, nflip=8\n",
      "176th added, icerulecost=0.0, nflip=8\n",
      "177th added, icerulecost=0.0, nflip=8\n",
      "178th added, icerulecost=0.0, nflip=8\n",
      "179th added, icerulecost=0.0, nflip=8\n",
      "180th added, icerulecost=0.0, nflip=8\n",
      "181th added, icerulecost=0.0, nflip=8\n",
      "182th added, icerulecost=0.0, nflip=8\n",
      "183th added, icerulecost=0.0, nflip=8\n",
      "184th added, icerulecost=0.0, nflip=8\n",
      "185th added, icerulecost=0.0, nflip=8\n",
      "186th added, icerulecost=0.0, nflip=8\n",
      "187th added, icerulecost=0.0, nflip=8\n",
      "188th added, icerulecost=0.0, nflip=8\n",
      "189th added, icerulecost=0.0, nflip=8\n",
      "190th added, icerulecost=0.0, nflip=8\n",
      "191th added, icerulecost=0.0, nflip=8\n",
      "192th added, icerulecost=0.0, nflip=8\n",
      "193th added, icerulecost=0.0, nflip=8\n",
      "194th added, icerulecost=0.0, nflip=8\n",
      "195th added, icerulecost=0.0, nflip=8\n",
      "196th added, icerulecost=0.0, nflip=8\n",
      "197th added, icerulecost=0.0, nflip=8\n",
      "198th added, icerulecost=0.0, nflip=8\n",
      "199th added, icerulecost=0.0, nflip=8\n",
      "200th added, icerulecost=0.0, nflip=8\n",
      "201th added, icerulecost=0.0, nflip=8\n",
      "202th added, icerulecost=0.0, nflip=8\n",
      "203th added, icerulecost=0.0, nflip=8\n",
      "204th added, icerulecost=0.0, nflip=8\n",
      "205th added, icerulecost=0.0, nflip=8\n",
      "206th added, icerulecost=0.0, nflip=8\n",
      "207th added, icerulecost=0.0, nflip=8\n",
      "208th added, icerulecost=0.0, nflip=8\n",
      "209th added, icerulecost=0.0, nflip=8\n",
      "210th added, icerulecost=0.0, nflip=8\n",
      "211th added, icerulecost=0.0, nflip=8\n",
      "212th added, icerulecost=0.0, nflip=8\n",
      "213th added, icerulecost=0.0, nflip=8\n",
      "214th added, icerulecost=0.0, nflip=8\n",
      "215th added, icerulecost=0.0, nflip=8\n",
      "216th added, icerulecost=0.0, nflip=8\n",
      "217th added, icerulecost=0.0, nflip=8\n",
      "218th added, icerulecost=0.0, nflip=8\n",
      "219th added, icerulecost=0.0, nflip=8\n",
      "220th added, icerulecost=0.0, nflip=8\n",
      "221th added, icerulecost=0.0, nflip=8\n",
      "222th added, icerulecost=0.0, nflip=8\n",
      "223th added, icerulecost=0.0, nflip=8\n",
      "224th added, icerulecost=0.0, nflip=8\n",
      "225th added, icerulecost=0.0, nflip=8\n",
      "226th added, icerulecost=0.0, nflip=8\n",
      "227th added, icerulecost=0.0, nflip=8\n",
      "228th added, icerulecost=0.0, nflip=8\n",
      "229th added, icerulecost=0.0, nflip=8\n",
      "230th added, icerulecost=0.0, nflip=8\n",
      "231th added, icerulecost=0.0, nflip=0\n",
      "232th added, icerulecost=0.0, nflip=8\n",
      "233th added, icerulecost=0.0, nflip=8\n",
      "234th added, icerulecost=0.0, nflip=8\n",
      "235th added, icerulecost=0.0, nflip=8\n",
      "236th added, icerulecost=0.0, nflip=8\n",
      "237th added, icerulecost=0.0, nflip=0\n",
      "238th added, icerulecost=0.0, nflip=8\n",
      "239th added, icerulecost=0.0, nflip=8\n",
      "240th added, icerulecost=0.0, nflip=8\n",
      "241th added, icerulecost=0.0, nflip=8\n",
      "242th added, icerulecost=0.0, nflip=8\n",
      "243th added, icerulecost=0.0, nflip=8\n",
      "244th added, icerulecost=0.0, nflip=8\n",
      "245th added, icerulecost=0.0, nflip=8\n",
      "246th added, icerulecost=0.0, nflip=8\n",
      "247th added, icerulecost=0.0, nflip=8\n",
      "248th added, icerulecost=0.0, nflip=8\n",
      "249th added, icerulecost=0.0, nflip=8\n",
      "250th added, icerulecost=0.0, nflip=8\n",
      "251th added, icerulecost=0.0, nflip=8\n",
      "252th added, icerulecost=0.0, nflip=8\n",
      "253th added, icerulecost=0.0, nflip=8\n",
      "254th added, icerulecost=0.0, nflip=8\n",
      "255th added, icerulecost=0.0, nflip=8\n",
      "256th added, icerulecost=0.0, nflip=8\n",
      "257th added, icerulecost=0.0, nflip=8\n",
      "258th added, icerulecost=0.0, nflip=8\n"
     ]
    },
    {
     "name": "stdout",
     "output_type": "stream",
     "text": [
      "259th added, icerulecost=0.0, nflip=8\n",
      "260th added, icerulecost=0.0, nflip=8\n",
      "261th added, icerulecost=0.0, nflip=8\n",
      "262th added, icerulecost=0.0, nflip=8\n",
      "263th added, icerulecost=0.0, nflip=8\n",
      "264th added, icerulecost=0.0, nflip=8\n",
      "265th added, icerulecost=0.0, nflip=8\n",
      "266th added, icerulecost=0.0, nflip=8\n",
      "267th added, icerulecost=0.0, nflip=8\n",
      "268th added, icerulecost=0.0, nflip=8\n",
      "269th added, icerulecost=0.0, nflip=8\n",
      "270th added, icerulecost=0.0, nflip=8\n",
      "271th added, icerulecost=0.0, nflip=8\n",
      "272th added, icerulecost=0.0, nflip=8\n",
      "273th added, icerulecost=0.0, nflip=8\n",
      "274th added, icerulecost=0.0, nflip=8\n",
      "275th added, icerulecost=0.0, nflip=8\n",
      "276th added, icerulecost=0.0, nflip=8\n",
      "277th added, icerulecost=0.0, nflip=8\n",
      "278th added, icerulecost=0.0, nflip=8\n",
      "279th added, icerulecost=0.0, nflip=8\n",
      "280th added, icerulecost=0.0, nflip=8\n",
      "281th added, icerulecost=0.0, nflip=8\n",
      "282th added, icerulecost=0.0, nflip=8\n",
      "283th added, icerulecost=0.0, nflip=8\n",
      "284th added, icerulecost=0.0, nflip=8\n",
      "285th added, icerulecost=0.0, nflip=8\n",
      "286th added, icerulecost=0.0, nflip=8\n",
      "287th added, icerulecost=0.0, nflip=8\n",
      "288th added, icerulecost=0.0, nflip=8\n",
      "289th added, icerulecost=0.0, nflip=8\n",
      "290th added, icerulecost=0.0, nflip=8\n",
      "291th added, icerulecost=0.0, nflip=8\n",
      "292th added, icerulecost=0.0, nflip=0\n",
      "293th added, icerulecost=0.0, nflip=8\n",
      "294th added, icerulecost=0.0, nflip=8\n",
      "295th added, icerulecost=0.0, nflip=8\n",
      "296th added, icerulecost=0.0, nflip=8\n",
      "297th added, icerulecost=0.0, nflip=8\n",
      "298th added, icerulecost=0.0, nflip=8\n",
      "299th added, icerulecost=0.0, nflip=8\n",
      "300th added, icerulecost=0.0, nflip=8\n",
      "301th added, icerulecost=0.0, nflip=8\n",
      "302th added, icerulecost=0.0, nflip=8\n",
      "303th added, icerulecost=0.0, nflip=8\n",
      "304th added, icerulecost=0.0, nflip=8\n",
      "305th added, icerulecost=0.0, nflip=8\n",
      "306th added, icerulecost=0.0, nflip=8\n",
      "307th added, icerulecost=0.0, nflip=8\n",
      "308th added, icerulecost=0.0, nflip=8\n",
      "309th added, icerulecost=0.0, nflip=0\n",
      "310th added, icerulecost=0.0, nflip=8\n",
      "311th added, icerulecost=0.0, nflip=8\n",
      "312th added, icerulecost=0.0, nflip=8\n",
      "313th added, icerulecost=0.0, nflip=8\n",
      "314th added, icerulecost=0.0, nflip=8\n",
      "315th added, icerulecost=0.0, nflip=8\n",
      "316th added, icerulecost=0.0, nflip=8\n",
      "317th added, icerulecost=0.0, nflip=8\n",
      "318th added, icerulecost=0.0, nflip=8\n",
      "319th added, icerulecost=0.0, nflip=8\n",
      "320th added, icerulecost=0.0, nflip=0\n",
      "321th added, icerulecost=0.0, nflip=8\n",
      "322th added, icerulecost=0.0, nflip=8\n",
      "323th added, icerulecost=0.0, nflip=8\n",
      "324th added, icerulecost=0.0, nflip=8\n",
      "325th added, icerulecost=0.0, nflip=0\n",
      "326th added, icerulecost=0.0, nflip=8\n",
      "327th added, icerulecost=0.0, nflip=8\n",
      "328th added, icerulecost=0.0, nflip=8\n",
      "329th added, icerulecost=0.0, nflip=8\n",
      "330th added, icerulecost=0.0, nflip=8\n",
      "331th added, icerulecost=0.0, nflip=8\n",
      "332th added, icerulecost=0.0, nflip=0\n",
      "333th added, icerulecost=0.0, nflip=8\n",
      "334th added, icerulecost=0.0, nflip=8\n",
      "335th added, icerulecost=0.0, nflip=8\n",
      "336th added, icerulecost=0.0, nflip=8\n",
      "337th added, icerulecost=0.0, nflip=8\n",
      "338th added, icerulecost=0.0, nflip=8\n",
      "339th added, icerulecost=0.0, nflip=8\n",
      "340th added, icerulecost=0.0, nflip=8\n",
      "341th added, icerulecost=0.0, nflip=8\n",
      "342th added, icerulecost=0.0, nflip=8\n",
      "343th added, icerulecost=0.0, nflip=8\n",
      "344th added, icerulecost=0.0, nflip=8\n",
      "345th added, icerulecost=0.0, nflip=8\n",
      "346th added, icerulecost=0.0, nflip=8\n",
      "347th added, icerulecost=0.0, nflip=8\n",
      "348th added, icerulecost=0.0, nflip=8\n",
      "349th added, icerulecost=0.0, nflip=8\n",
      "350th added, icerulecost=0.0, nflip=8\n",
      "351th added, icerulecost=0.0, nflip=8\n",
      "352th added, icerulecost=0.0, nflip=8\n",
      "353th added, icerulecost=0.0, nflip=8\n",
      "354th added, icerulecost=0.0, nflip=8\n",
      "355th added, icerulecost=0.0, nflip=8\n",
      "356th added, icerulecost=0.0, nflip=8\n",
      "357th added, icerulecost=0.0, nflip=8\n",
      "358th added, icerulecost=0.0, nflip=8\n",
      "359th added, icerulecost=0.0, nflip=8\n",
      "360th added, icerulecost=0.0, nflip=8\n",
      "361th added, icerulecost=0.0, nflip=8\n",
      "362th added, icerulecost=0.0, nflip=8\n",
      "363th added, icerulecost=0.0, nflip=8\n",
      "364th added, icerulecost=0.0, nflip=8\n",
      "365th added, icerulecost=0.0, nflip=8\n",
      "366th added, icerulecost=0.0, nflip=8\n",
      "367th added, icerulecost=0.0, nflip=8\n",
      "368th added, icerulecost=0.0, nflip=8\n",
      "369th added, icerulecost=0.0, nflip=8\n",
      "370th added, icerulecost=0.0, nflip=8\n",
      "371th added, icerulecost=0.0, nflip=8\n",
      "372th added, icerulecost=0.0, nflip=8\n",
      "373th added, icerulecost=0.0, nflip=8\n",
      "374th added, icerulecost=0.0, nflip=8\n",
      "375th added, icerulecost=0.0, nflip=8\n",
      "376th added, icerulecost=0.0, nflip=8\n",
      "377th added, icerulecost=0.0, nflip=8\n",
      "378th added, icerulecost=0.0, nflip=8\n",
      "379th added, icerulecost=0.0, nflip=8\n",
      "380th added, icerulecost=0.0, nflip=8\n",
      "381th added, icerulecost=0.0, nflip=0\n",
      "382th added, icerulecost=0.0, nflip=8\n",
      "383th added, icerulecost=0.0, nflip=8\n",
      "384th added, icerulecost=0.0, nflip=8\n",
      "385th added, icerulecost=0.0, nflip=8\n",
      "386th added, icerulecost=0.0, nflip=8\n",
      "387th added, icerulecost=0.0, nflip=8\n",
      "388th added, icerulecost=0.0, nflip=8\n",
      "389th added, icerulecost=0.0, nflip=8\n",
      "390th added, icerulecost=0.0, nflip=8\n",
      "391th added, icerulecost=0.0, nflip=8\n",
      "392th added, icerulecost=0.0, nflip=8\n",
      "393th added, icerulecost=0.0, nflip=8\n",
      "Oh oh 2000th repeat\n",
      "394th added, icerulecost=0.0, nflip=8\n",
      "395th added, icerulecost=0.0, nflip=8\n",
      "396th added, icerulecost=0.0, nflip=0\n",
      "Oh oh 4000th repeat\n",
      "Oh oh 6000th repeat\n",
      "Oh oh 8000th repeat\n",
      "Oh oh 10000th repeat\n",
      "Oh oh 12000th repeat\n",
      "Oh oh 14000th repeat\n",
      "Oh oh 16000th repeat\n",
      "Oh oh 18000th repeat\n",
      "Oh oh 20000th repeat\n",
      "Oh oh 22000th repeat\n",
      "Oh oh 24000th repeat\n",
      "Oh oh 26000th repeat\n",
      "Oh oh 28000th repeat\n",
      "Oh oh 30000th repeat\n",
      "Oh oh 32000th repeat\n",
      "Oh oh 34000th repeat\n",
      "Oh oh 36000th repeat\n",
      "Oh oh 38000th repeat\n",
      "Oh oh 40000th repeat\n",
      "Oh oh 42000th repeat\n",
      "Oh oh 44000th repeat\n",
      "Oh oh 46000th repeat\n",
      "Oh oh 48000th repeat\n",
      "Oh oh 50000th repeat\n",
      "Oh oh 52000th repeat\n",
      "Oh oh 54000th repeat\n",
      "Oh oh 56000th repeat\n",
      "Oh oh 58000th repeat\n",
      "Oh oh 60000th repeat\n",
      "Oh oh 62000th repeat\n",
      "Oh oh 64000th repeat\n",
      "Oh oh 66000th repeat\n",
      "Oh oh 68000th repeat\n",
      "Oh oh 70000th repeat\n",
      "Oh oh 72000th repeat\n",
      "Oh oh 74000th repeat\n",
      "Oh oh 76000th repeat\n",
      "Oh oh 78000th repeat\n",
      "Oh oh 80000th repeat\n",
      "Oh oh 82000th repeat\n",
      "Oh oh 84000th repeat\n",
      "Oh oh 86000th repeat\n",
      "Oh oh 88000th repeat\n",
      "Oh oh 90000th repeat\n",
      "Oh oh 92000th repeat\n",
      "Oh oh 94000th repeat\n",
      "Oh oh 96000th repeat\n",
      "Oh oh 98000th repeat\n",
      "Oh oh 100000th repeat\n",
      "Oh oh 102000th repeat\n",
      "Oh oh 104000th repeat\n",
      "Oh oh 106000th repeat\n",
      "Oh oh 108000th repeat\n",
      "Oh oh 110000th repeat\n",
      "Oh oh 112000th repeat\n",
      "Oh oh 114000th repeat\n",
      "Oh oh 116000th repeat\n",
      "Oh oh 118000th repeat\n",
      "Oh oh 120000th repeat\n",
      "Oh oh 122000th repeat\n",
      "Oh oh 124000th repeat\n",
      "Oh oh 126000th repeat\n",
      "Oh oh 128000th repeat\n",
      "Oh oh 130000th repeat\n",
      "Oh oh 132000th repeat\n",
      "Oh oh 134000th repeat\n",
      "Oh oh 136000th repeat\n",
      "Oh oh 138000th repeat\n",
      "Oh oh 140000th repeat\n",
      "Oh oh 142000th repeat\n",
      "Oh oh 144000th repeat\n",
      "Oh oh 146000th repeat\n",
      "Oh oh 148000th repeat\n",
      "Oh oh 150000th repeat\n",
      "Oh oh 152000th repeat\n",
      "Oh oh 154000th repeat\n",
      "Oh oh 156000th repeat\n",
      "Oh oh 158000th repeat\n",
      "Oh oh 160000th repeat\n",
      "Oh oh 162000th repeat\n",
      "Oh oh 164000th repeat\n",
      "Oh oh 166000th repeat\n",
      "Oh oh 168000th repeat\n",
      "Oh oh 170000th repeat\n",
      "Oh oh 172000th repeat\n",
      "Oh oh 174000th repeat\n",
      "Oh oh 176000th repeat\n",
      "Oh oh 178000th repeat\n",
      "Oh oh 180000th repeat\n",
      "Oh oh 182000th repeat\n",
      "Oh oh 184000th repeat\n",
      "Oh oh 186000th repeat\n",
      "Oh oh 188000th repeat\n",
      "Oh oh 190000th repeat\n",
      "Oh oh 192000th repeat\n",
      "Oh oh 194000th repeat\n",
      "Oh oh 196000th repeat\n",
      "Oh oh 198000th repeat\n",
      "Oh oh 200000th repeat\n",
      "Total 396\n"
     ]
    }
   ],
   "source": [
    "res=enumerateconfigs(configpipi0,Nlist);"
   ]
  },
  {
   "cell_type": "code",
   "execution_count": 76,
   "metadata": {},
   "outputs": [
    {
     "data": {
      "text/plain": [
       "0.25"
      ]
     },
     "execution_count": 76,
     "metadata": {},
     "output_type": "execute_result"
    }
   ],
   "source": [
    "(sum(res[2])/384)/32"
   ]
  },
  {
   "cell_type": "code",
   "execution_count": 81,
   "metadata": {},
   "outputs": [],
   "source": [
    "filename=\"4X2X2X2config.txt\"\n",
    "open(filename, \"w\") do io\n",
    "    writedlm(filename,res[3])\n",
    "end"
   ]
  },
  {
   "cell_type": "code",
   "execution_count": 19,
   "metadata": {},
   "outputs": [
    {
     "name": "stdout",
     "output_type": "stream",
     "text": [
      "Oh oh 2000th repeat\n",
      "Total 396\n"
     ]
    }
   ],
   "source": [
    "configmadeup=initializebycopying([4,4,4]);"
   ]
  },
  {
   "cell_type": "code",
   "execution_count": 83,
   "metadata": {},
   "outputs": [
    {
     "data": {
      "text/plain": [
       "512"
      ]
     },
     "execution_count": 83,
     "metadata": {},
     "output_type": "execute_result"
    }
   ],
   "source": [
    "CountFlippableHex(configmadeup,[8,8,8])"
   ]
  },
  {
   "cell_type": "code",
   "execution_count": 72,
   "metadata": {},
   "outputs": [
    {
     "name": "stdout",
     "output_type": "stream",
     "text": [
      "12\n"
     ]
    }
   ],
   "source": [
    "count1=0\n",
    "for i in 1:396\n",
    "    if (res[2])[i]==0\n",
    "        count1+=1\n",
    "    end\n",
    "end\n",
    "println(\"$count1\")"
   ]
  },
  {
   "cell_type": "code",
   "execution_count": 169,
   "metadata": {},
   "outputs": [],
   "source": [
    "loopbag=findshortflippableloop(configpipi0,Nlist);"
   ]
  },
  {
   "cell_type": "code",
   "execution_count": null,
   "metadata": {},
   "outputs": [],
   "source": []
  },
  {
   "cell_type": "code",
   "execution_count": 175,
   "metadata": {},
   "outputs": [
    {
     "data": {
      "text/plain": [
       "13-element Array{Array{Any,1},1}:\n",
       " [[1, 2, 1], 1]\n",
       " [[1, 2, 1], -1]\n",
       " [[2, 2, 1], 1]\n",
       " [[2, 2, 2], -1]\n",
       " [[2, 1, 2], 1]\n",
       " [[2, 1, 2], -1]\n",
       " [[2, 1, 1], 1]\n",
       " [[2, 1, 1], -1]\n",
       " [[1, 1, 1], 1]\n",
       " [[1, 1, 2], -1]\n",
       " [[1, 1, 2], 1]\n",
       " [[1, 1, 1], -1]\n",
       " [[1, 2, 1], 1]"
      ]
     },
     "execution_count": 175,
     "metadata": {},
     "output_type": "execute_result"
    }
   ],
   "source": [
    "loopbag[1]"
   ]
  },
  {
   "cell_type": "code",
   "execution_count": 171,
   "metadata": {},
   "outputs": [
    {
     "data": {
      "text/plain": [
       "12-element Array{Int64,1}:\n",
       " 0\n",
       " 1\n",
       " 3\n",
       " 2\n",
       " 0\n",
       " 3\n",
       " 0\n",
       " 1\n",
       " 3\n",
       " 0\n",
       " 3\n",
       " 2"
      ]
     },
     "execution_count": 171,
     "metadata": {},
     "output_type": "execute_result"
    }
   ],
   "source": [
    "loopbag[2]"
   ]
  },
  {
   "cell_type": "code",
   "execution_count": 172,
   "metadata": {},
   "outputs": [
    {
     "data": {
      "text/plain": [
       "12-element Array{Array{Int64,1},1}:\n",
       " [1, 1, 2, 1]\n",
       " [2, 2, 2, 1]\n",
       " [4, 2, 2, 1]\n",
       " [3, 2, 1, 2]\n",
       " [1, 2, 1, 2]\n",
       " [4, 2, 1, 1]\n",
       " [1, 2, 1, 1]\n",
       " [2, 1, 1, 1]\n",
       " [4, 1, 1, 1]\n",
       " [1, 1, 1, 2]\n",
       " [4, 1, 1, 2]\n",
       " [3, 1, 2, 1]"
      ]
     },
     "execution_count": 172,
     "metadata": {},
     "output_type": "execute_result"
    }
   ],
   "source": [
    "loopbag[3]"
   ]
  },
  {
   "cell_type": "code",
   "execution_count": 174,
   "metadata": {},
   "outputs": [
    {
     "data": {
      "text/plain": [
       "1.0"
      ]
     },
     "execution_count": 174,
     "metadata": {},
     "output_type": "execute_result"
    }
   ],
   "source": [
    "configpipi0[2, 2, 2, 1]"
   ]
  },
  {
   "cell_type": "code",
   "execution_count": 69,
   "metadata": {},
   "outputs": [
    {
     "data": {
      "text/plain": [
       "0"
      ]
     },
     "execution_count": 69,
     "metadata": {},
     "output_type": "execute_result"
    }
   ],
   "source": [
    "CountFlippableHex(configpipi0,Nlist)"
   ]
  },
  {
   "cell_type": "code",
   "execution_count": 85,
   "metadata": {},
   "outputs": [
    {
     "data": {
      "text/plain": [
       "0.25"
      ]
     },
     "execution_count": 85,
     "metadata": {},
     "output_type": "execute_result"
    }
   ],
   "source": [
    "RKnflipMC(configmadeup,[8,8,8],20)"
   ]
  },
  {
   "cell_type": "code",
   "execution_count": 5,
   "metadata": {},
   "outputs": [],
   "source": [
    "interactionfourier1=vdwMatrixFourier(Nlist,1);"
   ]
  },
  {
   "cell_type": "code",
   "execution_count": 7,
   "metadata": {},
   "outputs": [],
   "source": [
    "interactionfourier2=vdwMatrixFourierExtended(Nlist,1,10);"
   ]
  },
  {
   "cell_type": "code",
   "execution_count": 9,
   "metadata": {},
   "outputs": [
    {
     "data": {
      "text/plain": [
       "-2.049186193276744"
      ]
     },
     "execution_count": 9,
     "metadata": {},
     "output_type": "execute_result"
    }
   ],
   "source": [
    "energycost_lr(config0,interactionfourier1,Nlist)"
   ]
  },
  {
   "cell_type": "code",
   "execution_count": 10,
   "metadata": {},
   "outputs": [
    {
     "data": {
      "text/plain": [
       "-2.0746840026346707"
      ]
     },
     "execution_count": 10,
     "metadata": {},
     "output_type": "execute_result"
    }
   ],
   "source": [
    "energycost_lr(config0,interactionfourier2,Nlist)"
   ]
  },
  {
   "cell_type": "code",
   "execution_count": 12,
   "metadata": {},
   "outputs": [
    {
     "name": "stdout",
     "output_type": "stream",
     "text": [
      "1.0000008762888508\n"
     ]
    }
   ],
   "source": [
    "Nmax=10\n",
    "const1=0\n",
    "for n3 in -Nmax:Nmax\n",
    "    for n2 in -Nmax:Nmax\n",
    "        for n1 in -Nmax:Nmax\n",
    "            displacement=[0,0.5,0.5]+[(n2+n3)*Nlist[1],(n3+n1)*Nlist[2],(n1+n2)*Nlist[3]]\n",
    "            distsquare=sum(abs2.(displacement))\n",
    "            const1+=(2*distsquare)^(-6/2)\n",
    "        end\n",
    "    end\n",
    "end\n",
    "println(\"$const1\")"
   ]
  },
  {
   "cell_type": "code",
   "execution_count": 14,
   "metadata": {},
   "outputs": [
    {
     "data": {
      "text/plain": [
       "12.877806405550672"
      ]
     },
     "execution_count": 14,
     "metadata": {},
     "output_type": "execute_result"
    }
   ],
   "source": [
    "energycost_lr(configmadeup,interactionfourier2,Nlist)"
   ]
  },
  {
   "cell_type": "code",
   "execution_count": 15,
   "metadata": {},
   "outputs": [
    {
     "data": {
      "text/plain": [
       "12.877773486529307"
      ]
     },
     "execution_count": 15,
     "metadata": {},
     "output_type": "execute_result"
    }
   ],
   "source": [
    "energycost_lr(configmadeup,interactionfourier1,Nlist)"
   ]
  },
  {
   "cell_type": "code",
   "execution_count": 43,
   "metadata": {},
   "outputs": [
    {
     "data": {
      "text/plain": [
       "12.877806405550672"
      ]
     },
     "execution_count": 43,
     "metadata": {},
     "output_type": "execute_result"
    }
   ],
   "source": [
    "energycost_lr(configmadeup,interactionfourier3,Nlist)"
   ]
  },
  {
   "cell_type": "code",
   "execution_count": 9,
   "metadata": {},
   "outputs": [],
   "source": [
    "intfourier2flat=reshape(interactionfourier2,8192);"
   ]
  },
  {
   "cell_type": "code",
   "execution_count": 38,
   "metadata": {},
   "outputs": [
    {
     "data": {
      "text/plain": [
       "Array{Complex{Float64},5}"
      ]
     },
     "execution_count": 38,
     "metadata": {},
     "output_type": "execute_result"
    }
   ],
   "source": [
    "typeof(interactionfourier2)"
   ]
  },
  {
   "cell_type": "code",
   "execution_count": 10,
   "metadata": {},
   "outputs": [],
   "source": [
    "filename=\"4X8X8X8InteractionFourier.txt\"\n",
    "open(filename, \"w\") do io\n",
    "    writedlm(filename,intfourier2flat)\n",
    "end"
   ]
  },
  {
   "cell_type": "code",
   "execution_count": 32,
   "metadata": {},
   "outputs": [
    {
     "ename": "LoadError",
     "evalue": "IOError: stat: unknown error (UNKNOWN) for file \"4X8X8X8InteractionFourier.txt\"",
     "output_type": "error",
     "traceback": [
      "IOError: stat: unknown error (UNKNOWN) for file \"4X8X8X8InteractionFourier.txt\"",
      "",
      "Stacktrace:",
      " [1] stat(::String) at .\\stat.jl:69",
      " [2] isfile at .\\stat.jl:311 [inlined]",
      " [3] readdlm_auto(::String, ::Char, ::Type{T} where T, ::Char, ::Bool; opts::Base.Iterators.Pairs{Symbol,Bool,Tuple{Symbol},NamedTuple{(:comments,),Tuple{Bool}}}) at C:\\Users\\gauta\\AppData\\Local\\Programs\\Julia 1.5.3\\share\\julia\\stdlib\\v1.5\\DelimitedFiles\\src\\DelimitedFiles.jl:233",
      " [4] #readdlm#6 at C:\\Users\\gauta\\AppData\\Local\\Programs\\Julia 1.5.3\\share\\julia\\stdlib\\v1.5\\DelimitedFiles\\src\\DelimitedFiles.jl:225 [inlined]",
      " [5] loadfourierint() at C:\\Users\\gauta\\Google Drive\\My Drive\\Research coding and data\\3D Spin Liquid\\WormPyrochlore.jl:870",
      " [6] top-level scope at In[32]:1",
      " [7] include_string(::Function, ::Module, ::String, ::String) at .\\loading.jl:1091"
     ]
    }
   ],
   "source": [
    "interactionfourier3=loadfourierint();"
   ]
  },
  {
   "cell_type": "code",
   "execution_count": 26,
   "metadata": {},
   "outputs": [
    {
     "data": {
      "text/plain": [
       "Array{Complex{Float64},5}"
      ]
     },
     "execution_count": 26,
     "metadata": {},
     "output_type": "execute_result"
    }
   ],
   "source": [
    "typeof(interactionfourier1)"
   ]
  },
  {
   "cell_type": "code",
   "execution_count": 27,
   "metadata": {},
   "outputs": [
    {
     "data": {
      "text/plain": [
       "Array{Complex{Float64},5}"
      ]
     },
     "execution_count": 27,
     "metadata": {},
     "output_type": "execute_result"
    }
   ],
   "source": [
    "typeof(interactionfourier2)"
   ]
  },
  {
   "cell_type": "code",
   "execution_count": 42,
   "metadata": {},
   "outputs": [
    {
     "data": {
      "text/plain": [
       "Array{Complex{Float64},5}"
      ]
     },
     "execution_count": 42,
     "metadata": {},
     "output_type": "execute_result"
    }
   ],
   "source": [
    "typeof(interactionfourier3)"
   ]
  },
  {
   "cell_type": "code",
   "execution_count": 37,
   "metadata": {},
   "outputs": [
    {
     "data": {
      "text/plain": [
       "0.11292107782519101 + 0.0im"
      ]
     },
     "execution_count": 37,
     "metadata": {},
     "output_type": "execute_result"
    }
   ],
   "source": [
    "interactionfourier4=reshape()"
   ]
  },
  {
   "cell_type": "code",
   "execution_count": 48,
   "metadata": {},
   "outputs": [
    {
     "name": "stdout",
     "output_type": "stream",
     "text": [
      "1: en=12.877806405550672\n",
      "101: en_avg=13.325036160102036\n",
      "201: en_avg=13.323269217933989\n"
     ]
    },
    {
     "data": {
      "text/plain": [
       "2-element Array{Any,1}:\n",
       " 13.323269217933989\n",
       "   [12.877806405550672, 13.532764447225132, 13.092241122179765]"
      ]
     },
     "execution_count": 48,
     "metadata": {},
     "output_type": "execute_result"
    }
   ],
   "source": [
    "RKenergyMC(configmadeup,Nlist,200)"
   ]
  },
  {
   "cell_type": "code",
   "execution_count": 10,
   "metadata": {},
   "outputs": [],
   "source": [
    "vdwintmatrix=vdwMatrixRealExtended(Nlist,1,10);"
   ]
  },
  {
   "cell_type": "code",
   "execution_count": 21,
   "metadata": {},
   "outputs": [],
   "source": [
    "vdwintmatrixflat=reshape(vdwintmatrix,8192);"
   ]
  },
  {
   "cell_type": "code",
   "execution_count": 22,
   "metadata": {},
   "outputs": [],
   "source": [
    "filename=\"4X8X8X8vdWInteractionRealSpace.txt\"\n",
    "open(filename, \"w\") do io\n",
    "    writedlm(filename,vdwintmatrixflat)\n",
    "end"
   ]
  },
  {
   "cell_type": "code",
   "execution_count": 13,
   "metadata": {},
   "outputs": [
    {
     "name": "stdout",
     "output_type": "stream",
     "text": [
      "Real space done\n"
     ]
    }
   ],
   "source": [
    "W2intfourier=W2vdwfourier(Nlist,vdwintmatrix);"
   ]
  },
  {
   "cell_type": "code",
   "execution_count": 23,
   "metadata": {},
   "outputs": [],
   "source": [
    "W2intfourierflat=reshape(W2intfourier,8192);"
   ]
  },
  {
   "cell_type": "code",
   "execution_count": 24,
   "metadata": {},
   "outputs": [],
   "source": [
    "filename=\"4X8X8X8W2Fourier.txt\"\n",
    "open(filename, \"w\") do io\n",
    "    writedlm(filename,W2intfourierflat)\n",
    "end"
   ]
  },
  {
   "cell_type": "code",
   "execution_count": 16,
   "metadata": {},
   "outputs": [
    {
     "data": {
      "text/plain": [
       "-0.41817906471451216"
      ]
     },
     "execution_count": 16,
     "metadata": {},
     "output_type": "execute_result"
    }
   ],
   "source": [
    "energycost_lr(configmadeup,W2intfourier,Nlist)"
   ]
  },
  {
   "cell_type": "code",
   "execution_count": 17,
   "metadata": {},
   "outputs": [
    {
     "data": {
      "text/plain": [
       "-0.008406862716373939"
      ]
     },
     "execution_count": 17,
     "metadata": {},
     "output_type": "execute_result"
    }
   ],
   "source": [
    "energycost_lr(config0,W2intfourier,Nlist)"
   ]
  },
  {
   "cell_type": "code",
   "execution_count": 20,
   "metadata": {},
   "outputs": [
    {
     "data": {
      "text/plain": [
       "-0.7676729657108952"
      ]
     },
     "execution_count": 20,
     "metadata": {},
     "output_type": "execute_result"
    }
   ],
   "source": [
    "energycost_lr(configpipi0,W2intfourier,Nlist)"
   ]
  },
  {
   "cell_type": "code",
   "execution_count": 13,
   "metadata": {},
   "outputs": [
    {
     "data": {
      "text/plain": [
       "2×2 Array{Int64,2}:\n",
       "  1  -3\n",
       " -4   1"
      ]
     },
     "execution_count": 13,
     "metadata": {},
     "output_type": "execute_result"
    }
   ],
   "source": [
    "A=[1 -3;-4 1]"
   ]
  },
  {
   "cell_type": "code",
   "execution_count": 22,
   "metadata": {},
   "outputs": [
    {
     "name": "stdout",
     "output_type": "stream",
     "text": [
      "1: Any[0, [0, 0, 0]], distance=0.0\n",
      "2: Any[1, [0, 0, 0]], distance=1.0\n",
      "3: Any[2, [0, 0, 0]], distance=1.0\n",
      "4: Any[3, [0, 0, 0]], distance=1.0\n",
      "5: Any[1, [1, 0, 0]], distance=1.0\n",
      "6: Any[2, [0, 1, 0]], distance=1.0\n",
      "7: Any[3, [0, 0, 1]], distance=1.0\n",
      "8: Any[2, [1, 0, 0]], distance=1.7320508075688772\n",
      "9: Any[3, [1, 0, 0]], distance=1.7320508075688772\n",
      "10: Any[1, [0, 1, 0]], distance=1.7320508075688772\n",
      "11: Any[3, [0, 1, 0]], distance=1.7320508075688772\n",
      "12: Any[2, [7, 1, 0]], distance=1.7320508075688772\n",
      "13: Any[1, [1, 7, 0]], distance=1.7320508075688772\n",
      "14: Any[1, [0, 0, 1]], distance=1.7320508075688772\n",
      "15: Any[2, [0, 0, 1]], distance=1.7320508075688772\n",
      "16: Any[3, [7, 0, 1]], distance=1.7320508075688772\n",
      "17: Any[3, [0, 7, 1]], distance=1.7320508075688772\n",
      "18: Any[1, [1, 0, 7]], distance=1.7320508075688772\n",
      "19: Any[2, [0, 1, 7]], distance=1.7320508075688772\n",
      "20: Any[0, [1, 0, 0]], distance=2.0\n",
      "21: Any[0, [7, 0, 0]], distance=2.0\n",
      "22: Any[0, [0, 1, 0]], distance=2.0\n",
      "23: Any[0, [7, 1, 0]], distance=2.0\n",
      "24: Any[0, [0, 7, 0]], distance=2.0\n",
      "25: Any[0, [1, 7, 0]], distance=2.0\n",
      "26: Any[0, [0, 0, 1]], distance=2.0\n",
      "27: Any[0, [7, 0, 1]], distance=2.0\n",
      "28: Any[0, [0, 7, 1]], distance=2.0\n",
      "29: Any[0, [0, 0, 7]], distance=2.0\n",
      "30: Any[0, [1, 0, 7]], distance=2.0\n",
      "31: Any[0, [0, 1, 7]], distance=2.0\n",
      "32: Any[3, [7, 1, 0]], distance=2.23606797749979\n",
      "33: Any[3, [1, 7, 0]], distance=2.23606797749979\n",
      "34: Any[2, [7, 0, 1]], distance=2.23606797749979\n",
      "35: Any[2, [7, 1, 1]], distance=2.23606797749979\n",
      "36: Any[3, [7, 1, 1]], distance=2.23606797749979\n",
      "37: Any[1, [0, 7, 1]], distance=2.23606797749979\n",
      "38: Any[1, [1, 7, 1]], distance=2.23606797749979\n",
      "39: Any[3, [1, 7, 1]], distance=2.23606797749979\n",
      "40: Any[2, [1, 0, 7]], distance=2.23606797749979\n",
      "41: Any[1, [0, 1, 7]], distance=2.23606797749979\n",
      "42: Any[1, [1, 1, 7]], distance=2.23606797749979\n",
      "43: Any[2, [1, 1, 7]], distance=2.23606797749979\n",
      "44: Any[2, [7, 0, 0]], distance=2.6457513110645907\n",
      "45: Any[3, [7, 0, 0]], distance=2.6457513110645907\n",
      "46: Any[1, [1, 1, 0]], distance=2.6457513110645907\n",
      "47: Any[2, [1, 1, 0]], distance=2.6457513110645907\n",
      "48: Any[1, [7, 1, 0]], distance=2.6457513110645907\n",
      "49: Any[2, [7, 2, 0]], distance=2.6457513110645907\n",
      "50: Any[1, [0, 7, 0]], distance=2.6457513110645907\n",
      "51: Any[3, [0, 7, 0]], distance=2.6457513110645907\n",
      "52: Any[2, [1, 7, 0]], distance=2.6457513110645907\n",
      "53: Any[1, [2, 7, 0]], distance=2.6457513110645907\n",
      "54: Any[1, [1, 0, 1]], distance=2.6457513110645907\n",
      "55: Any[3, [1, 0, 1]], distance=2.6457513110645907\n",
      "56: Any[1, [7, 0, 1]], distance=2.6457513110645907\n",
      "57: Any[2, [0, 1, 1]], distance=2.6457513110645907\n",
      "58: Any[3, [0, 1, 1]], distance=2.6457513110645907\n",
      "59: Any[2, [0, 7, 1]], distance=2.6457513110645907\n",
      "60: Any[3, [7, 0, 2]], distance=2.6457513110645907\n",
      "61: Any[3, [0, 7, 2]], distance=2.6457513110645907\n",
      "62: Any[1, [0, 0, 7]], distance=2.6457513110645907\n",
      "63: Any[2, [0, 0, 7]], distance=2.6457513110645907\n",
      "64: Any[3, [1, 0, 7]], distance=2.6457513110645907\n",
      "65: Any[1, [2, 0, 7]], distance=2.6457513110645907\n",
      "66: Any[3, [0, 1, 7]], distance=2.6457513110645907\n",
      "67: Any[2, [0, 2, 7]], distance=2.6457513110645907\n",
      "68: Any[0, [7, 1, 1]], distance=2.8284271247461903\n",
      "69: Any[0, [1, 7, 1]], distance=2.8284271247461903\n",
      "70: Any[0, [7, 7, 1]], distance=2.8284271247461903\n",
      "71: Any[0, [1, 1, 7]], distance=2.8284271247461903\n",
      "72: Any[0, [7, 1, 7]], distance=2.8284271247461903\n",
      "73: Any[0, [1, 7, 7]], distance=2.8284271247461903\n",
      "74: Any[1, [2, 0, 0]], distance=3.0\n",
      "75: Any[1, [7, 0, 0]], distance=3.0\n",
      "76: Any[3, [1, 1, 0]], distance=3.0\n",
      "77: Any[2, [0, 2, 0]], distance=3.0\n",
      "78: Any[2, [0, 7, 0]], distance=3.0\n",
      "79: Any[2, [1, 0, 1]], distance=3.0\n",
      "80: Any[1, [0, 1, 1]], distance=3.0\n",
      "81: Any[1, [7, 1, 1]], distance=3.0\n",
      "82: Any[2, [1, 7, 1]], distance=3.0\n",
      "83: Any[3, [7, 7, 1]], distance=3.0\n",
      "84: Any[3, [0, 0, 2]], distance=3.0\n",
      "85: Any[3, [7, 7, 2]], distance=3.0\n",
      "86: Any[3, [0, 0, 7]], distance=3.0\n",
      "87: Any[3, [1, 1, 7]], distance=3.0\n",
      "88: Any[2, [7, 1, 7]], distance=3.0\n",
      "89: Any[2, [7, 2, 7]], distance=3.0\n",
      "90: Any[1, [1, 7, 7]], distance=3.0\n",
      "91: Any[1, [2, 7, 7]], distance=3.0\n",
      "92: Any[3, [7, 2, 0]], distance=3.3166247903554\n",
      "93: Any[3, [2, 7, 0]], distance=3.3166247903554\n",
      "94: Any[2, [6, 1, 1]], distance=3.3166247903554\n",
      "95: Any[3, [6, 1, 1]], distance=3.3166247903554\n",
      "96: Any[1, [1, 6, 1]], distance=3.3166247903554\n",
      "97: Any[3, [1, 6, 1]], distance=3.3166247903554\n",
      "98: Any[2, [7, 0, 2]], distance=3.3166247903554\n",
      "99: Any[1, [0, 7, 2]], distance=3.3166247903554\n",
      "100: Any[1, [1, 1, 6]], distance=3.3166247903554\n",
      "101: Any[2, [1, 1, 6]], distance=3.3166247903554\n",
      "102: Any[2, [2, 0, 7]], distance=3.3166247903554\n",
      "103: Any[1, [0, 2, 7]], distance=3.3166247903554\n",
      "104: Any[0, [1, 1, 0]], distance=3.4641016151377544\n",
      "105: Any[0, [6, 1, 0]], distance=3.4641016151377544\n",
      "106: Any[0, [7, 2, 0]], distance=3.4641016151377544\n",
      "107: Any[0, [1, 6, 0]], distance=3.4641016151377544\n",
      "108: Any[0, [2, 7, 0]], distance=3.4641016151377544\n",
      "109: Any[0, [7, 7, 0]], distance=3.4641016151377544\n",
      "110: Any[0, [1, 0, 1]], distance=3.4641016151377544\n",
      "111: Any[0, [6, 0, 1]], distance=3.4641016151377544\n",
      "112: Any[0, [0, 1, 1]], distance=3.4641016151377544\n",
      "113: Any[0, [6, 1, 1]], distance=3.4641016151377544\n",
      "114: Any[0, [0, 6, 1]], distance=3.4641016151377544\n",
      "115: Any[0, [1, 6, 1]], distance=3.4641016151377544\n",
      "116: Any[0, [7, 0, 2]], distance=3.4641016151377544\n",
      "117: Any[0, [0, 7, 2]], distance=3.4641016151377544\n",
      "118: Any[0, [7, 7, 2]], distance=3.4641016151377544\n",
      "119: Any[0, [1, 0, 6]], distance=3.4641016151377544\n",
      "120: Any[0, [0, 1, 6]], distance=3.4641016151377544\n",
      "121: Any[0, [1, 1, 6]], distance=3.4641016151377544\n",
      "122: Any[0, [2, 0, 7]], distance=3.4641016151377544\n",
      "123: Any[0, [7, 0, 7]], distance=3.4641016151377544\n",
      "124: Any[0, [0, 2, 7]], distance=3.4641016151377544\n",
      "125: Any[0, [7, 2, 7]], distance=3.4641016151377544\n",
      "126: Any[0, [0, 7, 7]], distance=3.4641016151377544\n",
      "127: Any[0, [2, 7, 7]], distance=3.4641016151377544\n",
      "128: Any[2, [2, 0, 0]], distance=3.605551275463989\n",
      "129: Any[3, [2, 0, 0]], distance=3.605551275463989\n",
      "130: Any[2, [6, 1, 0]], distance=3.605551275463989\n",
      "131: Any[1, [0, 2, 0]], distance=3.605551275463989\n",
      "132: Any[3, [0, 2, 0]], distance=3.605551275463989\n",
      "133: Any[2, [6, 2, 0]], distance=3.605551275463989\n",
      "134: Any[1, [7, 2, 0]], distance=3.605551275463989\n",
      "135: Any[1, [1, 6, 0]], distance=3.605551275463989\n",
      "136: Any[1, [2, 6, 0]], distance=3.605551275463989\n",
      "137: Any[2, [2, 7, 0]], distance=3.605551275463989\n",
      "138: Any[3, [6, 0, 1]], distance=3.605551275463989\n",
      "139: Any[2, [7, 2, 1]], distance=3.605551275463989\n",
      "140: Any[3, [0, 6, 1]], distance=3.605551275463989\n",
      "141: Any[1, [2, 7, 1]], distance=3.605551275463989\n",
      "142: Any[1, [7, 7, 1]], distance=3.605551275463989\n",
      "143: Any[2, [7, 7, 1]], distance=3.605551275463989\n",
      "144: Any[1, [0, 0, 2]], distance=3.605551275463989\n",
      "145: Any[2, [0, 0, 2]], distance=3.605551275463989\n",
      "146: Any[3, [6, 0, 2]], distance=3.605551275463989\n",
      "147: Any[1, [7, 0, 2]], distance=3.605551275463989\n",
      "148: Any[3, [7, 1, 2]], distance=3.605551275463989\n",
      "149: Any[3, [0, 6, 2]], distance=3.605551275463989\n",
      "150: Any[2, [0, 7, 2]], distance=3.605551275463989\n",
      "151: Any[3, [1, 7, 2]], distance=3.605551275463989\n",
      "152: Any[1, [1, 0, 6]], distance=3.605551275463989\n",
      "153: Any[1, [2, 0, 6]], distance=3.605551275463989\n",
      "154: Any[2, [0, 1, 6]], distance=3.605551275463989\n",
      "155: Any[2, [0, 2, 6]], distance=3.605551275463989\n",
      "156: Any[3, [2, 0, 7]], distance=3.605551275463989\n",
      "157: Any[1, [2, 1, 7]], distance=3.605551275463989\n",
      "158: Any[1, [7, 1, 7]], distance=3.605551275463989\n",
      "159: Any[3, [7, 1, 7]], distance=3.605551275463989\n",
      "160: Any[3, [0, 2, 7]], distance=3.605551275463989\n",
      "161: Any[2, [1, 2, 7]], distance=3.605551275463989\n",
      "162: Any[2, [1, 7, 7]], distance=3.605551275463989\n",
      "163: Any[3, [1, 7, 7]], distance=3.605551275463989\n",
      "164: Any[3, [6, 1, 0]], distance=3.872983346207417\n",
      "165: Any[3, [1, 6, 0]], distance=3.872983346207417\n",
      "166: Any[2, [6, 0, 1]], distance=3.872983346207417\n",
      "167: Any[2, [6, 2, 1]], distance=3.872983346207417\n",
      "168: Any[3, [7, 2, 1]], distance=3.872983346207417\n",
      "169: Any[1, [0, 6, 1]], distance=3.872983346207417\n",
      "170: Any[1, [2, 6, 1]], distance=3.872983346207417\n",
      "171: Any[3, [2, 7, 1]], distance=3.872983346207417\n",
      "172: Any[3, [6, 1, 2]], distance=3.872983346207417\n",
      "173: Any[2, [7, 1, 2]], distance=3.872983346207417\n",
      "174: Any[3, [1, 6, 2]], distance=3.872983346207417\n",
      "175: Any[1, [1, 7, 2]], distance=3.872983346207417\n",
      "176: Any[1, [7, 7, 2]], distance=3.872983346207417\n",
      "177: Any[2, [7, 7, 2]], distance=3.872983346207417\n",
      "178: Any[2, [1, 0, 6]], distance=3.872983346207417\n",
      "179: Any[1, [0, 1, 6]], distance=3.872983346207417\n",
      "180: Any[1, [2, 1, 6]], distance=3.872983346207417\n",
      "181: Any[2, [1, 2, 6]], distance=3.872983346207417\n",
      "182: Any[2, [2, 1, 7]], distance=3.872983346207417\n",
      "183: Any[1, [1, 2, 7]], distance=3.872983346207417\n",
      "184: Any[1, [7, 2, 7]], distance=3.872983346207417\n",
      "185: Any[3, [7, 2, 7]], distance=3.872983346207417\n",
      "186: Any[2, [2, 7, 7]], distance=3.872983346207417\n",
      "187: Any[3, [2, 7, 7]], distance=3.872983346207417\n",
      "188: Any[0, [2, 0, 0]], distance=4.0\n",
      "189: Any[0, [6, 0, 0]], distance=4.0\n",
      "190: Any[0, [0, 2, 0]], distance=4.0\n",
      "191: Any[0, [6, 2, 0]], distance=4.0\n",
      "192: Any[0, [0, 6, 0]], distance=4.0\n",
      "193: Any[0, [2, 6, 0]], distance=4.0\n",
      "194: Any[0, [0, 0, 2]], distance=4.0\n",
      "195: Any[0, [6, 0, 2]], distance=4.0\n",
      "196: Any[0, [0, 6, 2]], distance=4.0\n",
      "197: Any[0, [0, 0, 6]], distance=4.0\n",
      "198: Any[0, [2, 0, 6]], distance=4.0\n",
      "199: Any[0, [0, 2, 6]], distance=4.0\n",
      "200: Any[3, [6, 2, 0]], distance=4.123105625617661\n",
      "201: Any[3, [2, 6, 0]], distance=4.123105625617661\n",
      "202: Any[3, [7, 7, 0]], distance=4.123105625617661\n",
      "203: Any[1, [1, 1, 1]], distance=4.123105625617661\n",
      "204: Any[2, [1, 1, 1]], distance=4.123105625617661\n",
      "205: Any[3, [1, 1, 1]], distance=4.123105625617661\n",
      "206: Any[1, [6, 1, 1]], distance=4.123105625617661\n",
      "207: Any[3, [6, 2, 1]], distance=4.123105625617661\n",
      "208: Any[2, [1, 6, 1]], distance=4.123105625617661\n",
      "209: Any[3, [2, 6, 1]], distance=4.123105625617661\n",
      "210: Any[2, [6, 0, 2]], distance=4.123105625617661\n",
      "211: Any[2, [6, 1, 2]], distance=4.123105625617661\n",
      "212: Any[1, [0, 6, 2]], distance=4.123105625617661\n",
      "213: Any[1, [1, 6, 2]], distance=4.123105625617661\n",
      "214: Any[3, [7, 7, 3]], distance=4.123105625617661\n",
      "215: Any[2, [2, 0, 6]], distance=4.123105625617661\n"
     ]
    },
    {
     "name": "stdout",
     "output_type": "stream",
     "text": [
      "216: Any[3, [1, 1, 6]], distance=4.123105625617661\n",
      "217: Any[2, [2, 1, 6]], distance=4.123105625617661\n",
      "218: Any[1, [0, 2, 6]], distance=4.123105625617661\n",
      "219: Any[1, [1, 2, 6]], distance=4.123105625617661\n",
      "220: Any[2, [7, 0, 7]], distance=4.123105625617661\n",
      "221: Any[2, [7, 3, 7]], distance=4.123105625617661\n",
      "222: Any[1, [0, 7, 7]], distance=4.123105625617661\n",
      "223: Any[1, [3, 7, 7]], distance=4.123105625617661\n",
      "224: Any[1, [2, 1, 0]], distance=4.358898943540674\n",
      "225: Any[1, [6, 1, 0]], distance=4.358898943540674\n",
      "226: Any[2, [1, 2, 0]], distance=4.358898943540674\n",
      "227: Any[2, [7, 3, 0]], distance=4.358898943540674\n",
      "228: Any[2, [1, 6, 0]], distance=4.358898943540674\n",
      "229: Any[1, [3, 7, 0]], distance=4.358898943540674\n",
      "230: Any[1, [7, 7, 0]], distance=4.358898943540674\n",
      "231: Any[2, [7, 7, 0]], distance=4.358898943540674\n",
      "232: Any[1, [2, 0, 1]], distance=4.358898943540674\n",
      "233: Any[1, [6, 0, 1]], distance=4.358898943540674\n",
      "234: Any[2, [0, 2, 1]], distance=4.358898943540674\n",
      "235: Any[1, [7, 2, 1]], distance=4.358898943540674\n",
      "236: Any[2, [0, 6, 1]], distance=4.358898943540674\n",
      "237: Any[2, [2, 7, 1]], distance=4.358898943540674\n",
      "238: Any[3, [1, 0, 2]], distance=4.358898943540674\n",
      "239: Any[3, [0, 1, 2]], distance=4.358898943540674\n",
      "240: Any[1, [7, 1, 2]], distance=4.358898943540674\n",
      "241: Any[3, [7, 6, 2]], distance=4.358898943540674\n",
      "242: Any[2, [1, 7, 2]], distance=4.358898943540674\n",
      "243: Any[3, [6, 7, 2]], distance=4.358898943540674\n",
      "244: Any[3, [7, 0, 3]], distance=4.358898943540674\n",
      "245: Any[3, [0, 7, 3]], distance=4.358898943540674\n",
      "246: Any[3, [1, 0, 6]], distance=4.358898943540674\n",
      "247: Any[3, [0, 1, 6]], distance=4.358898943540674\n",
      "248: Any[2, [7, 2, 6]], distance=4.358898943540674\n",
      "249: Any[1, [2, 7, 6]], distance=4.358898943540674\n",
      "250: Any[1, [3, 0, 7]], distance=4.358898943540674\n",
      "251: Any[1, [7, 0, 7]], distance=4.358898943540674\n",
      "252: Any[3, [7, 0, 7]], distance=4.358898943540674\n",
      "253: Any[3, [2, 1, 7]], distance=4.358898943540674\n",
      "254: Any[3, [1, 2, 7]], distance=4.358898943540674\n",
      "255: Any[2, [6, 2, 7]], distance=4.358898943540674\n",
      "256: Any[2, [0, 3, 7]], distance=4.358898943540674\n",
      "257: Any[1, [2, 6, 7]], distance=4.358898943540674\n",
      "258: Any[2, [0, 7, 7]], distance=4.358898943540674\n",
      "259: Any[3, [0, 7, 7]], distance=4.358898943540674\n",
      "260: Any[0, [6, 2, 1]], distance=4.47213595499958\n",
      "261: Any[0, [7, 2, 1]], distance=4.47213595499958\n",
      "262: Any[0, [2, 6, 1]], distance=4.47213595499958\n",
      "263: Any[0, [7, 6, 1]], distance=4.47213595499958\n",
      "264: Any[0, [2, 7, 1]], distance=4.47213595499958\n",
      "265: Any[0, [6, 7, 1]], distance=4.47213595499958\n",
      "266: Any[0, [6, 1, 2]], distance=4.47213595499958\n",
      "267: Any[0, [7, 1, 2]], distance=4.47213595499958\n",
      "268: Any[0, [1, 6, 2]], distance=4.47213595499958\n",
      "269: Any[0, [7, 6, 2]], distance=4.47213595499958\n",
      "270: Any[0, [1, 7, 2]], distance=4.47213595499958\n",
      "271: Any[0, [6, 7, 2]], distance=4.47213595499958\n",
      "272: Any[0, [2, 1, 6]], distance=4.47213595499958\n",
      "273: Any[0, [7, 1, 6]], distance=4.47213595499958\n",
      "274: Any[0, [1, 2, 6]], distance=4.47213595499958\n",
      "275: Any[0, [7, 2, 6]], distance=4.47213595499958\n",
      "276: Any[0, [1, 7, 6]], distance=4.47213595499958\n",
      "277: Any[0, [2, 7, 6]], distance=4.47213595499958\n",
      "278: Any[0, [2, 1, 7]], distance=4.47213595499958\n",
      "279: Any[0, [6, 1, 7]], distance=4.47213595499958\n",
      "280: Any[0, [1, 2, 7]], distance=4.47213595499958\n",
      "281: Any[0, [6, 2, 7]], distance=4.47213595499958\n",
      "282: Any[0, [1, 6, 7]], distance=4.47213595499958\n",
      "283: Any[0, [2, 6, 7]], distance=4.47213595499958\n",
      "284: Any[2, [6, 0, 0]], distance=4.58257569495584\n",
      "285: Any[3, [6, 0, 0]], distance=4.58257569495584\n",
      "286: Any[2, [2, 1, 0]], distance=4.58257569495584\n",
      "287: Any[1, [1, 2, 0]], distance=4.58257569495584\n",
      "288: Any[1, [6, 2, 0]], distance=4.58257569495584\n",
      "289: Any[2, [6, 3, 0]], distance=4.58257569495584\n",
      "290: Any[1, [0, 6, 0]], distance=4.58257569495584\n",
      "291: Any[3, [0, 6, 0]], distance=4.58257569495584\n",
      "292: Any[2, [2, 6, 0]], distance=4.58257569495584\n",
      "293: Any[1, [3, 6, 0]], distance=4.58257569495584\n",
      "294: Any[3, [2, 0, 1]], distance=4.58257569495584\n",
      "295: Any[3, [0, 2, 1]], distance=4.58257569495584\n",
      "296: Any[1, [1, 0, 2]], distance=4.58257569495584\n",
      "297: Any[1, [6, 0, 2]], distance=4.58257569495584\n",
      "298: Any[2, [0, 1, 2]], distance=4.58257569495584\n",
      "299: Any[2, [0, 6, 2]], distance=4.58257569495584\n",
      "300: Any[3, [6, 0, 3]], distance=4.58257569495584\n",
      "301: Any[3, [0, 6, 3]], distance=4.58257569495584\n",
      "302: Any[1, [0, 0, 6]], distance=4.58257569495584\n",
      "303: Any[2, [0, 0, 6]], distance=4.58257569495584\n",
      "304: Any[3, [2, 0, 6]], distance=4.58257569495584\n",
      "305: Any[1, [3, 0, 6]], distance=4.58257569495584\n",
      "306: Any[3, [0, 2, 6]], distance=4.58257569495584\n",
      "307: Any[2, [0, 3, 6]], distance=4.58257569495584\n",
      "308: Any[3, [2, 1, 0]], distance=4.795831523312719\n",
      "309: Any[3, [1, 2, 0]], distance=4.795831523312719\n",
      "310: Any[2, [2, 0, 1]], distance=4.795831523312719\n",
      "311: Any[1, [0, 2, 1]], distance=4.795831523312719\n",
      "312: Any[1, [6, 2, 1]], distance=4.795831523312719\n",
      "313: Any[2, [2, 6, 1]], distance=4.795831523312719\n",
      "314: Any[3, [7, 6, 1]], distance=4.795831523312719\n",
      "315: Any[3, [6, 7, 1]], distance=4.795831523312719\n",
      "316: Any[2, [1, 0, 2]], distance=4.795831523312719\n",
      "317: Any[1, [0, 1, 2]], distance=4.795831523312719\n",
      "318: Any[1, [6, 1, 2]], distance=4.795831523312719\n",
      "319: Any[2, [1, 6, 2]], distance=4.795831523312719\n",
      "320: Any[3, [7, 6, 3]], distance=4.795831523312719\n",
      "321: Any[3, [6, 7, 3]], distance=4.795831523312719\n",
      "322: Any[3, [2, 1, 6]], distance=4.795831523312719\n",
      "323: Any[2, [7, 1, 6]], distance=4.795831523312719\n",
      "324: Any[3, [1, 2, 6]], distance=4.795831523312719\n",
      "325: Any[2, [7, 3, 6]], distance=4.795831523312719\n",
      "326: Any[1, [1, 7, 6]], distance=4.795831523312719\n",
      "327: Any[1, [3, 7, 6]], distance=4.795831523312719\n",
      "328: Any[2, [6, 1, 7]], distance=4.795831523312719\n",
      "329: Any[2, [6, 3, 7]], distance=4.795831523312719\n",
      "330: Any[1, [1, 6, 7]], distance=4.795831523312719\n",
      "331: Any[1, [3, 6, 7]], distance=4.795831523312719\n",
      "332: Any[0, [1, 1, 1]], distance=4.898979485566356\n",
      "333: Any[0, [5, 1, 1]], distance=4.898979485566356\n",
      "334: Any[0, [1, 5, 1]], distance=4.898979485566356\n",
      "335: Any[0, [7, 7, 3]], distance=4.898979485566356\n",
      "336: Any[0, [1, 1, 5]], distance=4.898979485566356\n",
      "337: Any[0, [7, 3, 7]], distance=4.898979485566356\n",
      "338: Any[0, [3, 7, 7]], distance=4.898979485566356\n",
      "339: Any[0, [7, 7, 7]], distance=4.898979485566356\n",
      "340: Any[1, [3, 0, 0]], distance=5.0\n",
      "341: Any[1, [6, 0, 0]], distance=5.0\n",
      "342: Any[2, [0, 3, 0]], distance=5.0\n",
      "343: Any[3, [7, 3, 0]], distance=5.0\n",
      "344: Any[2, [0, 6, 0]], distance=5.0\n",
      "345: Any[3, [3, 7, 0]], distance=5.0\n",
      "346: Any[2, [5, 1, 1]], distance=5.0\n",
      "347: Any[3, [5, 1, 1]], distance=5.0\n",
      "348: Any[2, [5, 2, 1]], distance=5.0\n",
      "349: Any[1, [1, 5, 1]], distance=5.0\n",
      "350: Any[3, [1, 5, 1]], distance=5.0\n",
      "351: Any[1, [2, 5, 1]], distance=5.0\n",
      "352: Any[3, [5, 1, 2]], distance=5.0\n",
      "353: Any[2, [6, 2, 2]], distance=5.0\n",
      "354: Any[3, [6, 2, 2]], distance=5.0\n",
      "355: Any[3, [1, 5, 2]], distance=5.0\n",
      "356: Any[1, [2, 6, 2]], distance=5.0\n",
      "357: Any[3, [2, 6, 2]], distance=5.0\n",
      "358: Any[1, [7, 6, 2]], distance=5.0\n",
      "359: Any[2, [6, 7, 2]], distance=5.0\n",
      "360: Any[3, [0, 0, 3]], distance=5.0\n",
      "361: Any[2, [7, 0, 3]], distance=5.0\n",
      "362: Any[1, [0, 7, 3]], distance=5.0\n",
      "363: Any[1, [7, 7, 3]], distance=5.0\n",
      "364: Any[2, [7, 7, 3]], distance=5.0\n",
      "365: Any[1, [1, 1, 5]], distance=5.0\n",
      "366: Any[2, [1, 1, 5]], distance=5.0\n",
      "367: Any[1, [2, 1, 5]], distance=5.0\n",
      "368: Any[2, [1, 2, 5]], distance=5.0\n",
      "369: Any[3, [0, 0, 6]], distance=5.0\n",
      "370: Any[1, [2, 2, 6]], distance=5.0\n",
      "371: Any[2, [2, 2, 6]], distance=5.0\n",
      "372: Any[1, [7, 2, 6]], distance=5.0\n",
      "373: Any[2, [2, 7, 6]], distance=5.0\n",
      "374: Any[2, [3, 0, 7]], distance=5.0\n",
      "375: Any[3, [6, 2, 7]], distance=5.0\n",
      "376: Any[1, [0, 3, 7]], distance=5.0\n",
      "377: Any[1, [7, 3, 7]], distance=5.0\n",
      "378: Any[3, [7, 3, 7]], distance=5.0\n",
      "379: Any[3, [2, 6, 7]], distance=5.0\n",
      "380: Any[2, [3, 7, 7]], distance=5.0\n",
      "381: Any[3, [3, 7, 7]], distance=5.0\n",
      "382: Any[2, [5, 2, 0]], distance=5.196152422706632\n",
      "383: Any[3, [6, 3, 0]], distance=5.196152422706632\n",
      "384: Any[1, [7, 3, 0]], distance=5.196152422706632\n",
      "385: Any[1, [2, 5, 0]], distance=5.196152422706632\n",
      "386: Any[3, [3, 6, 0]], distance=5.196152422706632\n",
      "387: Any[2, [3, 7, 0]], distance=5.196152422706632\n",
      "388: Any[3, [5, 2, 1]], distance=5.196152422706632\n",
      "389: Any[2, [6, 3, 1]], distance=5.196152422706632\n",
      "390: Any[3, [2, 5, 1]], distance=5.196152422706632\n",
      "391: Any[1, [3, 6, 1]], distance=5.196152422706632\n",
      "392: Any[1, [7, 6, 1]], distance=5.196152422706632\n",
      "393: Any[2, [6, 7, 1]], distance=5.196152422706632\n",
      "394: Any[3, [5, 0, 2]], distance=5.196152422706632\n",
      "395: Any[2, [5, 1, 2]], distance=5.196152422706632\n",
      "396: Any[2, [7, 2, 2]], distance=5.196152422706632\n",
      "397: Any[3, [7, 2, 2]], distance=5.196152422706632\n",
      "398: Any[3, [0, 5, 2]], distance=5.196152422706632\n",
      "399: Any[1, [1, 5, 2]], distance=5.196152422706632\n",
      "400: Any[2, [7, 6, 2]], distance=5.196152422706632\n",
      "401: Any[1, [2, 7, 2]], distance=5.196152422706632\n",
      "402: Any[3, [2, 7, 2]], distance=5.196152422706632\n",
      "403: Any[1, [6, 7, 2]], distance=5.196152422706632\n",
      "404: Any[2, [6, 0, 3]], distance=5.196152422706632\n",
      "405: Any[1, [7, 0, 3]], distance=5.196152422706632\n",
      "406: Any[3, [6, 1, 3]], distance=5.196152422706632\n",
      "407: Any[1, [0, 6, 3]], distance=5.196152422706632\n",
      "408: Any[3, [1, 6, 3]], distance=5.196152422706632\n",
      "409: Any[2, [0, 7, 3]], distance=5.196152422706632\n",
      "410: Any[1, [2, 0, 5]], distance=5.196152422706632\n",
      "411: Any[2, [2, 1, 5]], distance=5.196152422706632\n",
      "412: Any[2, [0, 2, 5]], distance=5.196152422706632\n",
      "413: Any[1, [1, 2, 5]], distance=5.196152422706632\n",
      "414: Any[2, [3, 0, 6]], distance=5.196152422706632\n",
      "415: Any[1, [3, 1, 6]], distance=5.196152422706632\n",
      "416: Any[1, [7, 1, 6]], distance=5.196152422706632\n",
      "417: Any[3, [7, 2, 6]], distance=5.196152422706632\n",
      "418: Any[1, [0, 3, 6]], distance=5.196152422706632\n",
      "419: Any[2, [1, 3, 6]], distance=5.196152422706632\n",
      "420: Any[2, [1, 7, 6]], distance=5.196152422706632\n",
      "421: Any[3, [2, 7, 6]], distance=5.196152422706632\n",
      "422: Any[3, [3, 0, 7]], distance=5.196152422706632\n",
      "423: Any[3, [6, 1, 7]], distance=5.196152422706632\n",
      "424: Any[1, [2, 2, 7]], distance=5.196152422706632\n",
      "425: Any[2, [2, 2, 7]], distance=5.196152422706632\n",
      "426: Any[1, [6, 2, 7]], distance=5.196152422706632\n",
      "427: Any[3, [0, 3, 7]], distance=5.196152422706632\n",
      "428: Any[3, [1, 6, 7]], distance=5.196152422706632\n",
      "429: Any[2, [2, 6, 7]], distance=5.196152422706632\n"
     ]
    },
    {
     "name": "stdout",
     "output_type": "stream",
     "text": [
      "430: Any[0, [2, 1, 0]], distance=5.291502622129181\n",
      "431: Any[0, [5, 1, 0]], distance=5.291502622129181\n",
      "432: Any[0, [1, 2, 0]], distance=5.291502622129181\n",
      "433: Any[0, [5, 2, 0]], distance=5.291502622129181\n",
      "434: Any[0, [6, 3, 0]], distance=5.291502622129181\n",
      "435: Any[0, [7, 3, 0]], distance=5.291502622129181\n",
      "436: Any[0, [1, 5, 0]], distance=5.291502622129181\n",
      "437: Any[0, [2, 5, 0]], distance=5.291502622129181\n",
      "438: Any[0, [3, 6, 0]], distance=5.291502622129181\n",
      "439: Any[0, [7, 6, 0]], distance=5.291502622129181\n",
      "440: Any[0, [3, 7, 0]], distance=5.291502622129181\n",
      "441: Any[0, [6, 7, 0]], distance=5.291502622129181\n",
      "442: Any[0, [2, 0, 1]], distance=5.291502622129181\n",
      "443: Any[0, [5, 0, 1]], distance=5.291502622129181\n",
      "444: Any[0, [0, 2, 1]], distance=5.291502622129181\n",
      "445: Any[0, [5, 2, 1]], distance=5.291502622129181\n",
      "446: Any[0, [0, 5, 1]], distance=5.291502622129181\n",
      "447: Any[0, [2, 5, 1]], distance=5.291502622129181\n",
      "448: Any[0, [1, 0, 2]], distance=5.291502622129181\n",
      "449: Any[0, [5, 0, 2]], distance=5.291502622129181\n",
      "450: Any[0, [0, 1, 2]], distance=5.291502622129181\n",
      "451: Any[0, [5, 1, 2]], distance=5.291502622129181\n",
      "452: Any[0, [0, 5, 2]], distance=5.291502622129181\n",
      "453: Any[0, [1, 5, 2]], distance=5.291502622129181\n",
      "454: Any[0, [6, 0, 3]], distance=5.291502622129181\n",
      "455: Any[0, [7, 0, 3]], distance=5.291502622129181\n",
      "456: Any[0, [0, 6, 3]], distance=5.291502622129181\n",
      "457: Any[0, [7, 6, 3]], distance=5.291502622129181\n",
      "458: Any[0, [0, 7, 3]], distance=5.291502622129181\n",
      "459: Any[0, [6, 7, 3]], distance=5.291502622129181\n",
      "460: Any[0, [1, 0, 5]], distance=5.291502622129181\n",
      "461: Any[0, [2, 0, 5]], distance=5.291502622129181\n",
      "462: Any[0, [0, 1, 5]], distance=5.291502622129181\n",
      "463: Any[0, [2, 1, 5]], distance=5.291502622129181\n",
      "464: Any[0, [0, 2, 5]], distance=5.291502622129181\n",
      "465: Any[0, [1, 2, 5]], distance=5.291502622129181\n",
      "466: Any[0, [3, 0, 6]], distance=5.291502622129181\n",
      "467: Any[0, [7, 0, 6]], distance=5.291502622129181\n",
      "468: Any[0, [0, 3, 6]], distance=5.291502622129181\n",
      "469: Any[0, [7, 3, 6]], distance=5.291502622129181\n",
      "470: Any[0, [0, 7, 6]], distance=5.291502622129181\n",
      "471: Any[0, [3, 7, 6]], distance=5.291502622129181\n",
      "472: Any[0, [3, 0, 7]], distance=5.291502622129181\n",
      "473: Any[0, [6, 0, 7]], distance=5.291502622129181\n",
      "474: Any[0, [0, 3, 7]], distance=5.291502622129181\n",
      "475: Any[0, [6, 3, 7]], distance=5.291502622129181\n",
      "476: Any[0, [0, 6, 7]], distance=5.291502622129181\n",
      "477: Any[0, [3, 6, 7]], distance=5.291502622129181\n",
      "478: Any[2, [7, 3, 1]], distance=5.385164807134504\n",
      "479: Any[2, [7, 6, 1]], distance=5.385164807134504\n",
      "480: Any[1, [3, 7, 1]], distance=5.385164807134504\n",
      "481: Any[1, [6, 7, 1]], distance=5.385164807134504\n",
      "482: Any[3, [7, 1, 3]], distance=5.385164807134504\n",
      "483: Any[3, [1, 7, 3]], distance=5.385164807134504\n",
      "484: Any[3, [7, 1, 6]], distance=5.385164807134504\n",
      "485: Any[3, [1, 7, 6]], distance=5.385164807134504\n",
      "486: Any[1, [3, 1, 7]], distance=5.385164807134504\n",
      "487: Any[1, [6, 1, 7]], distance=5.385164807134504\n",
      "488: Any[2, [1, 3, 7]], distance=5.385164807134504\n",
      "489: Any[2, [1, 6, 7]], distance=5.385164807134504\n",
      "490: Any[2, [3, 0, 0]], distance=5.5677643628300215\n",
      "491: Any[3, [3, 0, 0]], distance=5.5677643628300215\n",
      "492: Any[2, [5, 1, 0]], distance=5.5677643628300215\n",
      "493: Any[3, [5, 2, 0]], distance=5.5677643628300215\n",
      "494: Any[1, [0, 3, 0]], distance=5.5677643628300215\n",
      "495: Any[3, [0, 3, 0]], distance=5.5677643628300215\n",
      "496: Any[2, [5, 3, 0]], distance=5.5677643628300215\n",
      "497: Any[1, [6, 3, 0]], distance=5.5677643628300215\n",
      "498: Any[1, [1, 5, 0]], distance=5.5677643628300215\n",
      "499: Any[3, [2, 5, 0]], distance=5.5677643628300215\n",
      "500: Any[1, [3, 5, 0]], distance=5.5677643628300215\n",
      "501: Any[2, [3, 6, 0]], distance=5.5677643628300215\n",
      "502: Any[3, [5, 0, 1]], distance=5.5677643628300215\n",
      "503: Any[3, [6, 3, 1]], distance=5.5677643628300215\n",
      "504: Any[3, [0, 5, 1]], distance=5.5677643628300215\n",
      "505: Any[3, [3, 6, 1]], distance=5.5677643628300215\n",
      "506: Any[2, [5, 0, 2]], distance=5.5677643628300215\n",
      "507: Any[2, [5, 2, 2]], distance=5.5677643628300215\n",
      "508: Any[3, [5, 2, 2]], distance=5.5677643628300215\n",
      "509: Any[1, [0, 5, 2]], distance=5.5677643628300215\n",
      "510: Any[1, [2, 5, 2]], distance=5.5677643628300215\n",
      "511: Any[3, [2, 5, 2]], distance=5.5677643628300215\n",
      "512: Any[1, [0, 0, 3]], distance=5.5677643628300215\n",
      "513: Any[2, [0, 0, 3]], distance=5.5677643628300215\n",
      "514: Any[3, [5, 0, 3]], distance=5.5677643628300215\n",
      "515: Any[1, [6, 0, 3]], distance=5.5677643628300215\n",
      "516: Any[2, [6, 1, 3]], distance=5.5677643628300215\n",
      "517: Any[3, [0, 5, 3]], distance=5.5677643628300215\n",
      "518: Any[2, [0, 6, 3]], distance=5.5677643628300215\n",
      "519: Any[1, [1, 6, 3]], distance=5.5677643628300215\n",
      "520: Any[1, [7, 6, 3]], distance=5.5677643628300215\n",
      "521: Any[2, [6, 7, 3]], distance=5.5677643628300215\n",
      "522: Any[1, [1, 0, 5]], distance=5.5677643628300215\n",
      "523: Any[2, [2, 0, 5]], distance=5.5677643628300215\n",
      "524: Any[1, [3, 0, 5]], distance=5.5677643628300215\n",
      "525: Any[2, [0, 1, 5]], distance=5.5677643628300215\n",
      "526: Any[1, [0, 2, 5]], distance=5.5677643628300215\n",
      "527: Any[1, [2, 2, 5]], distance=5.5677643628300215\n",
      "528: Any[2, [2, 2, 5]], distance=5.5677643628300215\n",
      "529: Any[2, [0, 3, 5]], distance=5.5677643628300215\n",
      "530: Any[3, [3, 0, 6]], distance=5.5677643628300215\n",
      "531: Any[2, [3, 1, 6]], distance=5.5677643628300215\n",
      "532: Any[3, [0, 3, 6]], distance=5.5677643628300215\n",
      "533: Any[1, [1, 3, 6]], distance=5.5677643628300215\n",
      "534: Any[1, [7, 3, 6]], distance=5.5677643628300215\n",
      "535: Any[2, [3, 7, 6]], distance=5.5677643628300215\n",
      "536: Any[3, [6, 3, 7]], distance=5.5677643628300215\n",
      "537: Any[3, [3, 6, 7]], distance=5.5677643628300215\n",
      "538: Any[0, [6, 2, 2]], distance=5.656854249492381\n",
      "539: Any[0, [2, 6, 2]], distance=5.656854249492381\n",
      "540: Any[0, [6, 6, 2]], distance=5.656854249492381\n",
      "541: Any[0, [2, 2, 6]], distance=5.656854249492381\n",
      "542: Any[0, [6, 2, 6]], distance=5.656854249492381\n",
      "543: Any[0, [2, 6, 6]], distance=5.656854249492381\n",
      "544: Any[3, [5, 1, 0]], distance=5.744562646538029\n",
      "545: Any[3, [1, 5, 0]], distance=5.744562646538029\n",
      "546: Any[2, [5, 0, 1]], distance=5.744562646538029\n",
      "547: Any[1, [2, 1, 1]], distance=5.744562646538029\n",
      "548: Any[1, [5, 1, 1]], distance=5.744562646538029\n",
      "549: Any[2, [1, 2, 1]], distance=5.744562646538029\n",
      "550: Any[2, [5, 3, 1]], distance=5.744562646538029\n",
      "551: Any[3, [7, 3, 1]], distance=5.744562646538029\n",
      "552: Any[1, [0, 5, 1]], distance=5.744562646538029\n",
      "553: Any[2, [1, 5, 1]], distance=5.744562646538029\n",
      "554: Any[1, [3, 5, 1]], distance=5.744562646538029\n",
      "555: Any[3, [3, 7, 1]], distance=5.744562646538029\n",
      "556: Any[3, [1, 1, 2]], distance=5.744562646538029\n",
      "557: Any[1, [6, 2, 2]], distance=5.744562646538029\n",
      "558: Any[1, [7, 2, 2]], distance=5.744562646538029\n",
      "559: Any[2, [2, 6, 2]], distance=5.744562646538029\n",
      "560: Any[3, [6, 6, 2]], distance=5.744562646538029\n",
      "561: Any[2, [2, 7, 2]], distance=5.744562646538029\n",
      "562: Any[3, [5, 1, 3]], distance=5.744562646538029\n",
      "563: Any[2, [7, 1, 3]], distance=5.744562646538029\n",
      "564: Any[3, [1, 5, 3]], distance=5.744562646538029\n",
      "565: Any[3, [6, 6, 3]], distance=5.744562646538029\n",
      "566: Any[2, [7, 6, 3]], distance=5.744562646538029\n",
      "567: Any[1, [1, 7, 3]], distance=5.744562646538029\n",
      "568: Any[1, [6, 7, 3]], distance=5.744562646538029\n",
      "569: Any[3, [7, 7, 4]], distance=5.744562646538029\n",
      "570: Any[2, [1, 0, 5]], distance=5.744562646538029\n",
      "571: Any[1, [0, 1, 5]], distance=5.744562646538029\n",
      "572: Any[3, [1, 1, 5]], distance=5.744562646538029\n",
      "573: Any[1, [3, 1, 5]], distance=5.744562646538029\n",
      "574: Any[2, [1, 3, 5]], distance=5.744562646538029\n",
      "575: Any[3, [2, 2, 6]], distance=5.744562646538029\n",
      "576: Any[2, [6, 2, 6]], distance=5.744562646538029\n",
      "577: Any[2, [6, 3, 6]], distance=5.744562646538029\n",
      "578: Any[3, [7, 3, 6]], distance=5.744562646538029\n",
      "579: Any[1, [2, 6, 6]], distance=5.744562646538029\n",
      "580: Any[1, [3, 6, 6]], distance=5.744562646538029\n",
      "581: Any[3, [3, 7, 6]], distance=5.744562646538029\n",
      "582: Any[2, [3, 1, 7]], distance=5.744562646538029\n",
      "583: Any[3, [2, 2, 7]], distance=5.744562646538029\n",
      "584: Any[1, [1, 3, 7]], distance=5.744562646538029\n",
      "585: Any[1, [6, 3, 7]], distance=5.744562646538029\n",
      "586: Any[2, [7, 4, 7]], distance=5.744562646538029\n",
      "587: Any[2, [3, 6, 7]], distance=5.744562646538029\n",
      "588: Any[1, [4, 7, 7]], distance=5.744562646538029\n",
      "589: Any[1, [7, 7, 7]], distance=5.744562646538029\n",
      "590: Any[2, [7, 7, 7]], distance=5.744562646538029\n",
      "591: Any[3, [7, 7, 7]], distance=5.744562646538029\n",
      "592: Any[3, [7, 6, 0]], distance=5.916079783099616\n",
      "593: Any[3, [6, 7, 0]], distance=5.916079783099616\n",
      "594: Any[2, [2, 1, 1]], distance=5.916079783099616\n",
      "595: Any[3, [2, 1, 1]], distance=5.916079783099616\n",
      "596: Any[1, [1, 2, 1]], distance=5.916079783099616\n",
      "597: Any[3, [1, 2, 1]], distance=5.916079783099616\n",
      "598: Any[1, [5, 2, 1]], distance=5.916079783099616\n",
      "599: Any[2, [2, 5, 1]], distance=5.916079783099616\n",
      "600: Any[1, [1, 1, 2]], distance=5.916079783099616\n",
      "601: Any[2, [1, 1, 2]], distance=5.916079783099616\n",
      "602: Any[1, [5, 1, 2]], distance=5.916079783099616\n",
      "603: Any[2, [1, 5, 2]], distance=5.916079783099616\n",
      "604: Any[3, [7, 6, 4]], distance=5.916079783099616\n",
      "605: Any[3, [6, 7, 4]], distance=5.916079783099616\n",
      "606: Any[3, [2, 1, 5]], distance=5.916079783099616\n",
      "607: Any[3, [1, 2, 5]], distance=5.916079783099616\n",
      "608: Any[2, [7, 0, 6]], distance=5.916079783099616\n",
      "609: Any[2, [7, 4, 6]], distance=5.916079783099616\n",
      "610: Any[1, [0, 7, 6]], distance=5.916079783099616\n",
      "611: Any[1, [4, 7, 6]], distance=5.916079783099616\n",
      "612: Any[2, [6, 0, 7]], distance=5.916079783099616\n",
      "613: Any[2, [6, 4, 7]], distance=5.916079783099616\n",
      "614: Any[1, [0, 6, 7]], distance=5.916079783099616\n",
      "615: Any[1, [4, 6, 7]], distance=5.916079783099616\n",
      "616: Any[0, [3, 0, 0]], distance=6.0\n",
      "617: Any[0, [5, 0, 0]], distance=6.0\n",
      "618: Any[0, [0, 3, 0]], distance=6.0\n",
      "619: Any[0, [5, 3, 0]], distance=6.0\n",
      "620: Any[0, [0, 5, 0]], distance=6.0\n",
      "621: Any[0, [3, 5, 0]], distance=6.0\n",
      "622: Any[0, [6, 3, 1]], distance=6.0\n",
      "623: Any[0, [3, 6, 1]], distance=6.0\n",
      "624: Any[0, [6, 6, 1]], distance=6.0\n",
      "625: Any[0, [5, 2, 2]], distance=6.0\n",
      "626: Any[0, [7, 2, 2]], distance=6.0\n",
      "627: Any[0, [2, 5, 2]], distance=6.0\n",
      "628: Any[0, [7, 5, 2]], distance=6.0\n",
      "629: Any[0, [2, 7, 2]], distance=6.0\n",
      "630: Any[0, [5, 7, 2]], distance=6.0\n",
      "631: Any[0, [0, 0, 3]], distance=6.0\n",
      "632: Any[0, [5, 0, 3]], distance=6.0\n",
      "633: Any[0, [6, 1, 3]], distance=6.0\n",
      "634: Any[0, [0, 5, 3]], distance=6.0\n",
      "635: Any[0, [1, 6, 3]], distance=6.0\n"
     ]
    },
    {
     "name": "stdout",
     "output_type": "stream",
     "text": [
      "636: Any[0, [6, 6, 3]], distance=6.0\n",
      "637: Any[0, [0, 0, 5]], distance=6.0\n",
      "638: Any[0, [3, 0, 5]], distance=6.0\n",
      "639: Any[0, [2, 2, 5]], distance=6.0\n",
      "640: Any[0, [7, 2, 5]], distance=6.0\n",
      "641: Any[0, [0, 3, 5]], distance=6.0\n",
      "642: Any[0, [2, 7, 5]], distance=6.0\n",
      "643: Any[0, [3, 1, 6]], distance=6.0\n",
      "644: Any[0, [6, 1, 6]], distance=6.0\n",
      "645: Any[0, [1, 3, 6]], distance=6.0\n",
      "646: Any[0, [6, 3, 6]], distance=6.0\n",
      "647: Any[0, [1, 6, 6]], distance=6.0\n",
      "648: Any[0, [3, 6, 6]], distance=6.0\n",
      "649: Any[0, [2, 2, 7]], distance=6.0\n",
      "650: Any[0, [5, 2, 7]], distance=6.0\n",
      "651: Any[0, [2, 5, 7]], distance=6.0\n",
      "652: Any[1, [2, 2, 0]], distance=6.082762530298219\n",
      "653: Any[2, [2, 2, 0]], distance=6.082762530298219\n",
      "654: Any[1, [5, 2, 0]], distance=6.082762530298219\n",
      "655: Any[3, [5, 3, 0]], distance=6.082762530298219\n",
      "656: Any[2, [6, 4, 0]], distance=6.082762530298219\n",
      "657: Any[2, [2, 5, 0]], distance=6.082762530298219\n",
      "658: Any[3, [3, 5, 0]], distance=6.082762530298219\n",
      "659: Any[1, [4, 6, 0]], distance=6.082762530298219\n",
      "660: Any[1, [7, 6, 0]], distance=6.082762530298219\n",
      "661: Any[2, [6, 7, 0]], distance=6.082762530298219\n",
      "662: Any[3, [5, 3, 1]], distance=6.082762530298219\n",
      "663: Any[1, [6, 3, 1]], distance=6.082762530298219\n",
      "664: Any[1, [7, 3, 1]], distance=6.082762530298219\n",
      "665: Any[3, [3, 5, 1]], distance=6.082762530298219\n",
      "666: Any[2, [3, 6, 1]], distance=6.082762530298219\n",
      "667: Any[2, [3, 7, 1]], distance=6.082762530298219\n",
      "668: Any[1, [2, 0, 2]], distance=6.082762530298219\n",
      "669: Any[3, [2, 0, 2]], distance=6.082762530298219\n",
      "670: Any[1, [5, 0, 2]], distance=6.082762530298219\n",
      "671: Any[2, [0, 2, 2]], distance=6.082762530298219\n",
      "672: Any[3, [0, 2, 2]], distance=6.082762530298219\n",
      "673: Any[2, [0, 5, 2]], distance=6.082762530298219\n",
      "674: Any[3, [7, 5, 2]], distance=6.082762530298219\n",
      "675: Any[3, [5, 7, 2]], distance=6.082762530298219\n",
      "676: Any[2, [5, 0, 3]], distance=6.082762530298219\n",
      "677: Any[2, [5, 1, 3]], distance=6.082762530298219\n",
      "678: Any[1, [6, 1, 3]], distance=6.082762530298219\n",
      "679: Any[1, [7, 1, 3]], distance=6.082762530298219\n",
      "680: Any[1, [0, 5, 3]], distance=6.082762530298219\n",
      "681: Any[1, [1, 5, 3]], distance=6.082762530298219\n",
      "682: Any[3, [7, 5, 3]], distance=6.082762530298219\n",
      "683: Any[2, [1, 6, 3]], distance=6.082762530298219\n",
      "684: Any[2, [1, 7, 3]], distance=6.082762530298219\n",
      "685: Any[3, [5, 7, 3]], distance=6.082762530298219\n",
      "686: Any[3, [6, 0, 4]], distance=6.082762530298219\n",
      "687: Any[3, [0, 6, 4]], distance=6.082762530298219\n",
      "688: Any[3, [2, 0, 5]], distance=6.082762530298219\n",
      "689: Any[2, [3, 0, 5]], distance=6.082762530298219\n",
      "690: Any[2, [3, 1, 5]], distance=6.082762530298219\n",
      "691: Any[3, [0, 2, 5]], distance=6.082762530298219\n",
      "692: Any[2, [7, 2, 5]], distance=6.082762530298219\n",
      "693: Any[1, [0, 3, 5]], distance=6.082762530298219\n",
      "694: Any[1, [1, 3, 5]], distance=6.082762530298219\n",
      "695: Any[2, [7, 3, 5]], distance=6.082762530298219\n",
      "696: Any[1, [2, 7, 5]], distance=6.082762530298219\n",
      "697: Any[1, [3, 7, 5]], distance=6.082762530298219\n",
      "698: Any[1, [4, 0, 6]], distance=6.082762530298219\n",
      "699: Any[1, [7, 0, 6]], distance=6.082762530298219\n",
      "700: Any[3, [3, 1, 6]], distance=6.082762530298219\n",
      "701: Any[3, [1, 3, 6]], distance=6.082762530298219\n",
      "702: Any[2, [0, 4, 6]], distance=6.082762530298219\n",
      "703: Any[2, [0, 7, 6]], distance=6.082762530298219\n",
      "704: Any[3, [6, 0, 7]], distance=6.082762530298219\n",
      "705: Any[3, [3, 1, 7]], distance=6.082762530298219\n",
      "706: Any[2, [5, 2, 7]], distance=6.082762530298219\n",
      "707: Any[3, [1, 3, 7]], distance=6.082762530298219\n",
      "708: Any[2, [5, 3, 7]], distance=6.082762530298219\n",
      "709: Any[1, [2, 5, 7]], distance=6.082762530298219\n",
      "710: Any[1, [3, 5, 7]], distance=6.082762530298219\n",
      "711: Any[3, [0, 6, 7]], distance=6.082762530298219\n",
      "712: Any[1, [3, 1, 0]], distance=6.244997998398398\n",
      "713: Any[1, [5, 1, 0]], distance=6.244997998398398\n",
      "714: Any[2, [1, 3, 0]], distance=6.244997998398398\n",
      "715: Any[2, [7, 4, 0]], distance=6.244997998398398\n",
      "716: Any[2, [1, 5, 0]], distance=6.244997998398398\n",
      "717: Any[2, [7, 6, 0]], distance=6.244997998398398\n",
      "718: Any[1, [4, 7, 0]], distance=6.244997998398398\n",
      "719: Any[1, [6, 7, 0]], distance=6.244997998398398\n",
      "720: Any[1, [3, 0, 1]], distance=6.244997998398398\n",
      "721: Any[1, [5, 0, 1]], distance=6.244997998398398\n",
      "722: Any[2, [0, 3, 1]], distance=6.244997998398398\n",
      "723: Any[2, [0, 5, 1]], distance=6.244997998398398\n",
      "724: Any[3, [1, 0, 3]], distance=6.244997998398398\n",
      "725: Any[3, [0, 1, 3]], distance=6.244997998398398\n",
      "726: Any[3, [7, 0, 4]], distance=6.244997998398398\n",
      "727: Any[3, [0, 7, 4]], distance=6.244997998398398\n",
      "728: Any[3, [1, 0, 5]], distance=6.244997998398398\n",
      "729: Any[3, [0, 1, 5]], distance=6.244997998398398\n",
      "730: Any[3, [7, 0, 6]], distance=6.244997998398398\n",
      "731: Any[3, [0, 7, 6]], distance=6.244997998398398\n",
      "732: Any[1, [4, 0, 7]], distance=6.244997998398398\n",
      "733: Any[1, [6, 0, 7]], distance=6.244997998398398\n",
      "734: Any[2, [0, 4, 7]], distance=6.244997998398398\n",
      "735: Any[2, [0, 6, 7]], distance=6.244997998398398\n",
      "736: Any[0, [5, 3, 1]], distance=6.324555320336759\n",
      "737: Any[0, [7, 3, 1]], distance=6.324555320336759\n",
      "738: Any[0, [3, 5, 1]], distance=6.324555320336759\n",
      "739: Any[0, [7, 5, 1]], distance=6.324555320336759\n",
      "740: Any[0, [3, 7, 1]], distance=6.324555320336759\n",
      "741: Any[0, [5, 7, 1]], distance=6.324555320336759\n",
      "742: Any[0, [5, 1, 3]], distance=6.324555320336759\n",
      "743: Any[0, [7, 1, 3]], distance=6.324555320336759\n",
      "744: Any[0, [1, 5, 3]], distance=6.324555320336759\n",
      "745: Any[0, [7, 5, 3]], distance=6.324555320336759\n",
      "746: Any[0, [1, 7, 3]], distance=6.324555320336759\n",
      "747: Any[0, [5, 7, 3]], distance=6.324555320336759\n",
      "748: Any[0, [3, 1, 5]], distance=6.324555320336759\n",
      "749: Any[0, [7, 1, 5]], distance=6.324555320336759\n",
      "750: Any[0, [1, 3, 5]], distance=6.324555320336759\n",
      "751: Any[0, [7, 3, 5]], distance=6.324555320336759\n",
      "752: Any[0, [1, 7, 5]], distance=6.324555320336759\n",
      "753: Any[0, [3, 7, 5]], distance=6.324555320336759\n",
      "754: Any[0, [3, 1, 7]], distance=6.324555320336759\n",
      "755: Any[0, [5, 1, 7]], distance=6.324555320336759\n",
      "756: Any[0, [1, 3, 7]], distance=6.324555320336759\n",
      "757: Any[0, [5, 3, 7]], distance=6.324555320336759\n",
      "758: Any[0, [1, 5, 7]], distance=6.324555320336759\n",
      "759: Any[0, [3, 5, 7]], distance=6.324555320336759\n",
      "760: Any[3, [2, 2, 0]], distance=6.4031242374328485\n",
      "761: Any[3, [6, 6, 1]], distance=6.4031242374328485\n",
      "762: Any[2, [2, 0, 2]], distance=6.4031242374328485\n",
      "763: Any[1, [0, 2, 2]], distance=6.4031242374328485\n",
      "764: Any[1, [5, 2, 2]], distance=6.4031242374328485\n",
      "765: Any[2, [6, 3, 2]], distance=6.4031242374328485\n",
      "766: Any[2, [2, 5, 2]], distance=6.4031242374328485\n",
      "767: Any[1, [3, 6, 2]], distance=6.4031242374328485\n",
      "768: Any[1, [6, 6, 2]], distance=6.4031242374328485\n",
      "769: Any[2, [6, 6, 2]], distance=6.4031242374328485\n",
      "770: Any[3, [6, 2, 3]], distance=6.4031242374328485\n",
      "771: Any[3, [2, 6, 3]], distance=6.4031242374328485\n",
      "772: Any[3, [6, 6, 4]], distance=6.4031242374328485\n",
      "773: Any[3, [2, 2, 5]], distance=6.4031242374328485\n",
      "774: Any[2, [6, 1, 6]], distance=6.4031242374328485\n",
      "775: Any[1, [3, 2, 6]], distance=6.4031242374328485\n",
      "776: Any[1, [6, 2, 6]], distance=6.4031242374328485\n",
      "777: Any[3, [6, 2, 6]], distance=6.4031242374328485\n",
      "778: Any[2, [2, 3, 6]], distance=6.4031242374328485\n",
      "779: Any[2, [6, 4, 6]], distance=6.4031242374328485\n",
      "780: Any[1, [1, 6, 6]], distance=6.4031242374328485\n",
      "781: Any[2, [2, 6, 6]], distance=6.4031242374328485\n",
      "782: Any[3, [2, 6, 6]], distance=6.4031242374328485\n",
      "783: Any[1, [4, 6, 6]], distance=6.4031242374328485\n",
      "784: Any[2, [5, 0, 0]], distance=6.557438524302\n",
      "785: Any[3, [5, 0, 0]], distance=6.557438524302\n",
      "786: Any[2, [3, 1, 0]], distance=6.557438524302\n",
      "787: Any[1, [1, 3, 0]], distance=6.557438524302\n",
      "788: Any[1, [5, 3, 0]], distance=6.557438524302\n",
      "789: Any[2, [5, 4, 0]], distance=6.557438524302\n",
      "790: Any[1, [0, 5, 0]], distance=6.557438524302\n",
      "791: Any[3, [0, 5, 0]], distance=6.557438524302\n",
      "792: Any[2, [3, 5, 0]], distance=6.557438524302\n",
      "793: Any[1, [4, 5, 0]], distance=6.557438524302\n",
      "794: Any[3, [3, 0, 1]], distance=6.557438524302\n",
      "795: Any[3, [0, 3, 1]], distance=6.557438524302\n",
      "796: Any[2, [5, 3, 2]], distance=6.557438524302\n",
      "797: Any[3, [6, 3, 2]], distance=6.557438524302\n",
      "798: Any[1, [3, 5, 2]], distance=6.557438524302\n",
      "799: Any[1, [7, 5, 2]], distance=6.557438524302\n",
      "800: Any[3, [3, 6, 2]], distance=6.557438524302\n",
      "801: Any[2, [5, 7, 2]], distance=6.557438524302\n",
      "802: Any[1, [1, 0, 3]], distance=6.557438524302\n",
      "803: Any[1, [5, 0, 3]], distance=6.557438524302\n",
      "804: Any[2, [0, 1, 3]], distance=6.557438524302\n",
      "805: Any[3, [5, 2, 3]], distance=6.557438524302\n",
      "806: Any[2, [6, 2, 3]], distance=6.557438524302\n",
      "807: Any[2, [0, 5, 3]], distance=6.557438524302\n",
      "808: Any[3, [2, 5, 3]], distance=6.557438524302\n",
      "809: Any[1, [2, 6, 3]], distance=6.557438524302\n",
      "810: Any[1, [6, 6, 3]], distance=6.557438524302\n",
      "811: Any[2, [6, 6, 3]], distance=6.557438524302\n",
      "812: Any[3, [5, 0, 4]], distance=6.557438524302\n",
      "813: Any[3, [0, 5, 4]], distance=6.557438524302\n",
      "814: Any[1, [7, 7, 4]], distance=6.557438524302\n",
      "815: Any[2, [7, 7, 4]], distance=6.557438524302\n",
      "816: Any[1, [0, 0, 5]], distance=6.557438524302\n",
      "817: Any[2, [0, 0, 5]], distance=6.557438524302\n",
      "818: Any[3, [3, 0, 5]], distance=6.557438524302\n",
      "819: Any[1, [4, 0, 5]], distance=6.557438524302\n",
      "820: Any[1, [3, 2, 5]], distance=6.557438524302\n",
      "821: Any[1, [7, 2, 5]], distance=6.557438524302\n",
      "822: Any[3, [0, 3, 5]], distance=6.557438524302\n",
      "823: Any[2, [2, 3, 5]], distance=6.557438524302\n",
      "824: Any[2, [0, 4, 5]], distance=6.557438524302\n",
      "825: Any[2, [2, 7, 5]], distance=6.557438524302\n",
      "826: Any[2, [3, 2, 6]], distance=6.557438524302\n",
      "827: Any[1, [2, 3, 6]], distance=6.557438524302\n",
      "828: Any[1, [6, 3, 6]], distance=6.557438524302\n",
      "829: Any[3, [6, 3, 6]], distance=6.557438524302\n",
      "830: Any[2, [3, 6, 6]], distance=6.557438524302\n",
      "831: Any[3, [3, 6, 6]], distance=6.557438524302\n",
      "832: Any[3, [5, 2, 7]], distance=6.557438524302\n",
      "833: Any[1, [7, 4, 7]], distance=6.557438524302\n",
      "834: Any[3, [7, 4, 7]], distance=6.557438524302\n",
      "835: Any[3, [2, 5, 7]], distance=6.557438524302\n",
      "836: Any[2, [4, 7, 7]], distance=6.557438524302\n",
      "837: Any[3, [4, 7, 7]], distance=6.557438524302\n",
      "838: Any[0, [2, 1, 1]], distance=6.6332495807108\n",
      "839: Any[0, [1, 2, 1]], distance=6.6332495807108\n",
      "840: Any[0, [1, 1, 2]], distance=6.6332495807108\n",
      "841: Any[0, [7, 6, 4]], distance=6.6332495807108\n",
      "842: Any[0, [6, 7, 4]], distance=6.6332495807108\n",
      "843: Any[0, [7, 7, 4]], distance=6.6332495807108\n"
     ]
    },
    {
     "name": "stdout",
     "output_type": "stream",
     "text": [
      "844: Any[0, [7, 4, 6]], distance=6.6332495807108\n",
      "845: Any[0, [4, 7, 6]], distance=6.6332495807108\n",
      "846: Any[0, [7, 7, 6]], distance=6.6332495807108\n",
      "847: Any[0, [6, 4, 7]], distance=6.6332495807108\n",
      "848: Any[0, [7, 4, 7]], distance=6.6332495807108\n",
      "849: Any[0, [4, 6, 7]], distance=6.6332495807108\n",
      "850: Any[0, [7, 6, 7]], distance=6.6332495807108\n",
      "851: Any[0, [4, 7, 7]], distance=6.6332495807108\n",
      "852: Any[0, [6, 7, 7]], distance=6.6332495807108\n",
      "853: Any[3, [3, 1, 0]], distance=6.708203932499369\n",
      "854: Any[3, [1, 3, 0]], distance=6.708203932499369\n",
      "855: Any[3, [6, 4, 0]], distance=6.708203932499369\n",
      "856: Any[3, [4, 6, 0]], distance=6.708203932499369\n",
      "857: Any[2, [3, 0, 1]], distance=6.708203932499369\n",
      "858: Any[1, [0, 3, 1]], distance=6.708203932499369\n",
      "859: Any[1, [5, 3, 1]], distance=6.708203932499369\n",
      "860: Any[2, [3, 5, 1]], distance=6.708203932499369\n",
      "861: Any[3, [7, 5, 1]], distance=6.708203932499369\n",
      "862: Any[3, [5, 7, 1]], distance=6.708203932499369\n",
      "863: Any[3, [5, 3, 2]], distance=6.708203932499369\n",
      "864: Any[3, [3, 5, 2]], distance=6.708203932499369\n",
      "865: Any[2, [1, 0, 3]], distance=6.708203932499369\n",
      "866: Any[1, [0, 1, 3]], distance=6.708203932499369\n",
      "867: Any[1, [5, 1, 3]], distance=6.708203932499369\n",
      "868: Any[2, [5, 2, 3]], distance=6.708203932499369\n",
      "869: Any[2, [1, 5, 3]], distance=6.708203932499369\n",
      "870: Any[1, [2, 5, 3]], distance=6.708203932499369\n",
      "871: Any[1, [7, 5, 3]], distance=6.708203932499369\n",
      "872: Any[2, [5, 7, 3]], distance=6.708203932499369\n",
      "873: Any[2, [6, 0, 4]], distance=6.708203932499369\n",
      "874: Any[3, [7, 5, 4]], distance=6.708203932499369\n",
      "875: Any[1, [0, 6, 4]], distance=6.708203932499369\n",
      "876: Any[1, [7, 6, 4]], distance=6.708203932499369\n",
      "877: Any[3, [5, 7, 4]], distance=6.708203932499369\n",
      "878: Any[2, [6, 7, 4]], distance=6.708203932499369\n",
      "879: Any[3, [3, 1, 5]], distance=6.708203932499369\n",
      "880: Any[2, [7, 1, 5]], distance=6.708203932499369\n",
      "881: Any[2, [3, 2, 5]], distance=6.708203932499369\n",
      "882: Any[3, [1, 3, 5]], distance=6.708203932499369\n",
      "883: Any[1, [2, 3, 5]], distance=6.708203932499369\n",
      "884: Any[1, [7, 3, 5]], distance=6.708203932499369\n",
      "885: Any[2, [7, 4, 5]], distance=6.708203932499369\n",
      "886: Any[1, [1, 7, 5]], distance=6.708203932499369\n",
      "887: Any[2, [3, 7, 5]], distance=6.708203932499369\n",
      "888: Any[1, [4, 7, 5]], distance=6.708203932499369\n",
      "889: Any[2, [4, 0, 6]], distance=6.708203932499369\n",
      "890: Any[1, [0, 4, 6]], distance=6.708203932499369\n",
      "891: Any[1, [7, 4, 6]], distance=6.708203932499369\n",
      "892: Any[2, [4, 7, 6]], distance=6.708203932499369\n",
      "893: Any[2, [5, 1, 7]], distance=6.708203932499369\n",
      "894: Any[3, [5, 3, 7]], distance=6.708203932499369\n",
      "895: Any[2, [5, 4, 7]], distance=6.708203932499369\n",
      "896: Any[3, [6, 4, 7]], distance=6.708203932499369\n",
      "897: Any[1, [1, 5, 7]], distance=6.708203932499369\n",
      "898: Any[3, [3, 5, 7]], distance=6.708203932499369\n",
      "899: Any[1, [4, 5, 7]], distance=6.708203932499369\n",
      "900: Any[3, [4, 6, 7]], distance=6.708203932499369\n",
      "901: Any[3, [7, 4, 0]], distance=6.855654600401044\n",
      "902: Any[3, [4, 7, 0]], distance=6.855654600401044\n",
      "903: Any[2, [6, 4, 1]], distance=6.855654600401044\n",
      "904: Any[1, [4, 6, 1]], distance=6.855654600401044\n",
      "905: Any[1, [6, 6, 1]], distance=6.855654600401044\n",
      "906: Any[2, [6, 6, 1]], distance=6.855654600401044\n",
      "907: Any[2, [7, 3, 2]], distance=6.855654600401044\n",
      "908: Any[2, [7, 5, 2]], distance=6.855654600401044\n",
      "909: Any[1, [3, 7, 2]], distance=6.855654600401044\n",
      "910: Any[1, [5, 7, 2]], distance=6.855654600401044\n",
      "911: Any[3, [7, 2, 3]], distance=6.855654600401044\n",
      "912: Any[3, [2, 7, 3]], distance=6.855654600401044\n",
      "913: Any[2, [7, 0, 4]], distance=6.855654600401044\n",
      "914: Any[3, [6, 1, 4]], distance=6.855654600401044\n",
      "915: Any[3, [1, 6, 4]], distance=6.855654600401044\n",
      "916: Any[2, [7, 6, 4]], distance=6.855654600401044\n",
      "917: Any[1, [0, 7, 4]], distance=6.855654600401044\n",
      "918: Any[1, [6, 7, 4]], distance=6.855654600401044\n",
      "919: Any[3, [7, 2, 5]], distance=6.855654600401044\n",
      "920: Any[3, [2, 7, 5]], distance=6.855654600401044\n",
      "921: Any[1, [4, 1, 6]], distance=6.855654600401044\n",
      "922: Any[1, [6, 1, 6]], distance=6.855654600401044\n",
      "923: Any[3, [6, 1, 6]], distance=6.855654600401044\n",
      "924: Any[2, [1, 4, 6]], distance=6.855654600401044\n",
      "925: Any[3, [7, 4, 6]], distance=6.855654600401044\n",
      "926: Any[2, [1, 6, 6]], distance=6.855654600401044\n",
      "927: Any[3, [1, 6, 6]], distance=6.855654600401044\n",
      "928: Any[3, [4, 7, 6]], distance=6.855654600401044\n",
      "929: Any[2, [4, 0, 7]], distance=6.855654600401044\n",
      "930: Any[1, [3, 2, 7]], distance=6.855654600401044\n",
      "931: Any[1, [5, 2, 7]], distance=6.855654600401044\n",
      "932: Any[2, [2, 3, 7]], distance=6.855654600401044\n",
      "933: Any[1, [0, 4, 7]], distance=6.855654600401044\n",
      "934: Any[1, [6, 4, 7]], distance=6.855654600401044\n",
      "935: Any[2, [2, 5, 7]], distance=6.855654600401044\n",
      "936: Any[2, [4, 6, 7]], distance=6.855654600401044\n",
      "937: Any[0, [2, 2, 0]], distance=6.928203230275509\n",
      "938: Any[0, [6, 4, 0]], distance=6.928203230275509\n",
      "939: Any[0, [4, 6, 0]], distance=6.928203230275509\n",
      "940: Any[0, [6, 6, 0]], distance=6.928203230275509\n",
      "941: Any[0, [2, 0, 2]], distance=6.928203230275509\n",
      "942: Any[0, [0, 2, 2]], distance=6.928203230275509\n",
      "943: Any[0, [6, 0, 4]], distance=6.928203230275509\n",
      "944: Any[0, [0, 6, 4]], distance=6.928203230275509\n",
      "945: Any[0, [6, 6, 4]], distance=6.928203230275509\n",
      "946: Any[0, [4, 0, 6]], distance=6.928203230275509\n",
      "947: Any[0, [6, 0, 6]], distance=6.928203230275509\n",
      "948: Any[0, [0, 4, 6]], distance=6.928203230275509\n",
      "949: Any[0, [6, 4, 6]], distance=6.928203230275509\n",
      "950: Any[0, [0, 6, 6]], distance=6.928203230275509\n",
      "951: Any[0, [4, 6, 6]], distance=6.928203230275509\n",
      "952: Any[1, [4, 0, 0]], distance=7.0\n",
      "953: Any[1, [5, 0, 0]], distance=7.0\n",
      "954: Any[2, [0, 4, 0]], distance=7.0\n",
      "955: Any[1, [6, 4, 0]], distance=7.0\n",
      "956: Any[1, [7, 4, 0]], distance=7.0\n",
      "957: Any[2, [0, 5, 0]], distance=7.0\n",
      "958: Any[2, [4, 6, 0]], distance=7.0\n",
      "959: Any[2, [4, 7, 0]], distance=7.0\n",
      "960: Any[2, [5, 4, 1]], distance=7.0\n",
      "961: Any[1, [4, 5, 1]], distance=7.0\n",
      "962: Any[1, [7, 5, 1]], distance=7.0\n",
      "963: Any[2, [5, 7, 1]], distance=7.0\n",
      "964: Any[3, [7, 3, 2]], distance=7.0\n",
      "965: Any[3, [3, 7, 2]], distance=7.0\n",
      "966: Any[2, [7, 2, 3]], distance=7.0\n",
      "967: Any[2, [7, 5, 3]], distance=7.0\n",
      "968: Any[1, [2, 7, 3]], distance=7.0\n",
      "969: Any[1, [5, 7, 3]], distance=7.0\n",
      "970: Any[3, [0, 0, 4]], distance=7.0\n",
      "971: Any[1, [6, 0, 4]], distance=7.0\n",
      "972: Any[1, [7, 0, 4]], distance=7.0\n",
      "973: Any[3, [5, 1, 4]], distance=7.0\n",
      "974: Any[3, [1, 5, 4]], distance=7.0\n",
      "975: Any[2, [0, 6, 4]], distance=7.0\n",
      "976: Any[2, [0, 7, 4]], distance=7.0\n",
      "977: Any[3, [0, 0, 5]], distance=7.0\n",
      "978: Any[1, [4, 1, 5]], distance=7.0\n",
      "979: Any[1, [7, 1, 5]], distance=7.0\n",
      "980: Any[3, [7, 3, 5]], distance=7.0\n",
      "981: Any[2, [1, 4, 5]], distance=7.0\n",
      "982: Any[2, [1, 7, 5]], distance=7.0\n",
      "983: Any[3, [3, 7, 5]], distance=7.0\n",
      "984: Any[3, [4, 0, 6]], distance=7.0\n",
      "985: Any[3, [0, 4, 6]], distance=7.0\n",
      "986: Any[3, [4, 0, 7]], distance=7.0\n",
      "987: Any[3, [5, 1, 7]], distance=7.0\n",
      "988: Any[2, [3, 2, 7]], distance=7.0\n",
      "989: Any[1, [2, 3, 7]], distance=7.0\n",
      "990: Any[1, [5, 3, 7]], distance=7.0\n",
      "991: Any[3, [0, 4, 7]], distance=7.0\n",
      "992: Any[3, [1, 5, 7]], distance=7.0\n",
      "993: Any[2, [3, 5, 7]], distance=7.0\n",
      "994: Any[3, [5, 4, 0]], distance=7.14142842854285\n",
      "995: Any[3, [4, 5, 0]], distance=7.14142842854285\n",
      "996: Any[1, [6, 3, 2]], distance=7.14142842854285\n",
      "997: Any[2, [3, 6, 2]], distance=7.14142842854285\n",
      "998: Any[1, [6, 2, 3]], distance=7.14142842854285\n",
      "999: Any[3, [6, 5, 3]], distance=7.14142842854285\n",
      "1000: Any[2, [2, 6, 3]], distance=7.14142842854285\n",
      "1001: Any[3, [5, 6, 3]], distance=7.14142842854285\n",
      "1002: Any[2, [5, 0, 4]], distance=7.14142842854285\n",
      "1003: Any[1, [0, 5, 4]], distance=7.14142842854285\n",
      "1004: Any[2, [4, 0, 5]], distance=7.14142842854285\n",
      "1005: Any[2, [6, 3, 5]], distance=7.14142842854285\n",
      "1006: Any[1, [0, 4, 5]], distance=7.14142842854285\n",
      "1007: Any[1, [3, 6, 5]], distance=7.14142842854285\n",
      "1008: Any[3, [3, 2, 6]], distance=7.14142842854285\n",
      "1009: Any[3, [2, 3, 6]], distance=7.14142842854285\n",
      "1010: Any[2, [5, 3, 6]], distance=7.14142842854285\n",
      "1011: Any[1, [3, 5, 6]], distance=7.14142842854285\n",
      "1012: Any[0, [3, 1, 0]], distance=7.211102550927978\n",
      "1013: Any[0, [1, 3, 0]], distance=7.211102550927978\n",
      "1014: Any[0, [5, 4, 0]], distance=7.211102550927978\n",
      "1015: Any[0, [7, 4, 0]], distance=7.211102550927978\n",
      "1016: Any[0, [4, 5, 0]], distance=7.211102550927978\n",
      "1017: Any[0, [7, 5, 0]], distance=7.211102550927978\n",
      "1018: Any[0, [4, 7, 0]], distance=7.211102550927978\n",
      "1019: Any[0, [5, 7, 0]], distance=7.211102550927978\n",
      "1020: Any[0, [3, 0, 1]], distance=7.211102550927978\n",
      "1021: Any[0, [0, 3, 1]], distance=7.211102550927978\n",
      "1022: Any[0, [5, 3, 2]], distance=7.211102550927978\n",
      "1023: Any[0, [6, 3, 2]], distance=7.211102550927978\n",
      "1024: Any[0, [3, 5, 2]], distance=7.211102550927978\n",
      "1025: Any[0, [6, 5, 2]], distance=7.211102550927978\n",
      "1026: Any[0, [3, 6, 2]], distance=7.211102550927978\n",
      "1027: Any[0, [5, 6, 2]], distance=7.211102550927978\n",
      "1028: Any[0, [1, 0, 3]], distance=7.211102550927978\n",
      "1029: Any[0, [0, 1, 3]], distance=7.211102550927978\n",
      "1030: Any[0, [5, 2, 3]], distance=7.211102550927978\n",
      "1031: Any[0, [6, 2, 3]], distance=7.211102550927978\n",
      "1032: Any[0, [2, 5, 3]], distance=7.211102550927978\n",
      "1033: Any[0, [6, 5, 3]], distance=7.211102550927978\n",
      "1034: Any[0, [2, 6, 3]], distance=7.211102550927978\n",
      "1035: Any[0, [5, 6, 3]], distance=7.211102550927978\n",
      "1036: Any[0, [5, 0, 4]], distance=7.211102550927978\n",
      "1037: Any[0, [7, 0, 4]], distance=7.211102550927978\n",
      "1038: Any[0, [0, 5, 4]], distance=7.211102550927978\n",
      "1039: Any[0, [7, 5, 4]], distance=7.211102550927978\n",
      "1040: Any[0, [0, 7, 4]], distance=7.211102550927978\n",
      "1041: Any[0, [5, 7, 4]], distance=7.211102550927978\n",
      "1042: Any[0, [4, 0, 5]], distance=7.211102550927978\n",
      "1043: Any[0, [7, 0, 5]], distance=7.211102550927978\n",
      "1044: Any[0, [3, 2, 5]], distance=7.211102550927978\n",
      "1045: Any[0, [6, 2, 5]], distance=7.211102550927978\n",
      "1046: Any[0, [2, 3, 5]], distance=7.211102550927978\n",
      "1047: Any[0, [6, 3, 5]], distance=7.211102550927978\n",
      "1048: Any[0, [0, 4, 5]], distance=7.211102550927978\n",
      "1049: Any[0, [7, 4, 5]], distance=7.211102550927978\n",
      "1050: Any[0, [2, 6, 5]], distance=7.211102550927978\n",
      "1051: Any[0, [3, 6, 5]], distance=7.211102550927978\n",
      "1052: Any[0, [0, 7, 5]], distance=7.211102550927978\n",
      "1053: Any[0, [4, 7, 5]], distance=7.211102550927978\n",
      "1054: Any[0, [3, 2, 6]], distance=7.211102550927978\n",
      "1055: Any[0, [5, 2, 6]], distance=7.211102550927978\n"
     ]
    },
    {
     "name": "stdout",
     "output_type": "stream",
     "text": [
      "1056: Any[0, [2, 3, 6]], distance=7.211102550927978\n",
      "1057: Any[0, [5, 3, 6]], distance=7.211102550927978\n",
      "1058: Any[0, [2, 5, 6]], distance=7.211102550927978\n",
      "1059: Any[0, [3, 5, 6]], distance=7.211102550927978\n",
      "1060: Any[0, [4, 0, 7]], distance=7.211102550927978\n",
      "1061: Any[0, [5, 0, 7]], distance=7.211102550927978\n",
      "1062: Any[0, [0, 4, 7]], distance=7.211102550927978\n",
      "1063: Any[0, [5, 4, 7]], distance=7.211102550927978\n",
      "1064: Any[0, [0, 5, 7]], distance=7.211102550927978\n",
      "1065: Any[0, [4, 5, 7]], distance=7.211102550927978\n",
      "1066: Any[3, [6, 4, 1]], distance=7.280109889280518\n",
      "1067: Any[2, [7, 4, 1]], distance=7.280109889280518\n",
      "1068: Any[2, [7, 5, 1]], distance=7.280109889280518\n",
      "1069: Any[3, [4, 6, 1]], distance=7.280109889280518\n",
      "1070: Any[1, [4, 7, 1]], distance=7.280109889280518\n",
      "1071: Any[1, [5, 7, 1]], distance=7.280109889280518\n",
      "1072: Any[2, [6, 1, 4]], distance=7.280109889280518\n",
      "1073: Any[3, [7, 1, 4]], distance=7.280109889280518\n",
      "1074: Any[1, [1, 6, 4]], distance=7.280109889280518\n",
      "1075: Any[1, [6, 6, 4]], distance=7.280109889280518\n",
      "1076: Any[2, [6, 6, 4]], distance=7.280109889280518\n",
      "1077: Any[3, [1, 7, 4]], distance=7.280109889280518\n",
      "1078: Any[3, [7, 1, 5]], distance=7.280109889280518\n",
      "1079: Any[3, [1, 7, 5]], distance=7.280109889280518\n",
      "1080: Any[2, [4, 1, 6]], distance=7.280109889280518\n",
      "1081: Any[1, [1, 4, 6]], distance=7.280109889280518\n",
      "1082: Any[1, [6, 4, 6]], distance=7.280109889280518\n",
      "1083: Any[3, [6, 4, 6]], distance=7.280109889280518\n",
      "1084: Any[2, [4, 6, 6]], distance=7.280109889280518\n",
      "1085: Any[3, [4, 6, 6]], distance=7.280109889280518\n",
      "1086: Any[1, [4, 1, 7]], distance=7.280109889280518\n",
      "1087: Any[1, [5, 1, 7]], distance=7.280109889280518\n",
      "1088: Any[2, [1, 4, 7]], distance=7.280109889280518\n",
      "1089: Any[2, [1, 5, 7]], distance=7.280109889280518\n",
      "1090: Any[1, [2, 2, 1]], distance=7.416198487095663\n",
      "1091: Any[2, [2, 2, 1]], distance=7.416198487095663\n",
      "1092: Any[3, [5, 4, 1]], distance=7.416198487095663\n",
      "1093: Any[3, [4, 5, 1]], distance=7.416198487095663\n",
      "1094: Any[1, [2, 1, 2]], distance=7.416198487095663\n",
      "1095: Any[3, [2, 1, 2]], distance=7.416198487095663\n",
      "1096: Any[2, [1, 2, 2]], distance=7.416198487095663\n",
      "1097: Any[3, [1, 2, 2]], distance=7.416198487095663\n",
      "1098: Any[1, [5, 3, 2]], distance=7.416198487095663\n",
      "1099: Any[1, [7, 3, 2]], distance=7.416198487095663\n",
      "1100: Any[2, [3, 5, 2]], distance=7.416198487095663\n",
      "1101: Any[3, [6, 5, 2]], distance=7.416198487095663\n",
      "1102: Any[3, [5, 6, 2]], distance=7.416198487095663\n",
      "1103: Any[2, [3, 7, 2]], distance=7.416198487095663\n",
      "1104: Any[1, [5, 2, 3]], distance=7.416198487095663\n",
      "1105: Any[1, [7, 2, 3]], distance=7.416198487095663\n",
      "1106: Any[2, [2, 5, 3]], distance=7.416198487095663\n",
      "1107: Any[2, [2, 7, 3]], distance=7.416198487095663\n",
      "1108: Any[2, [5, 1, 4]], distance=7.416198487095663\n",
      "1109: Any[1, [1, 5, 4]], distance=7.416198487095663\n",
      "1110: Any[3, [6, 5, 4]], distance=7.416198487095663\n",
      "1111: Any[1, [7, 5, 4]], distance=7.416198487095663\n",
      "1112: Any[3, [5, 6, 4]], distance=7.416198487095663\n",
      "1113: Any[2, [5, 7, 4]], distance=7.416198487095663\n",
      "1114: Any[2, [4, 1, 5]], distance=7.416198487095663\n",
      "1115: Any[3, [3, 2, 5]], distance=7.416198487095663\n",
      "1116: Any[2, [6, 2, 5]], distance=7.416198487095663\n",
      "1117: Any[3, [2, 3, 5]], distance=7.416198487095663\n",
      "1118: Any[1, [1, 4, 5]], distance=7.416198487095663\n",
      "1119: Any[2, [6, 4, 5]], distance=7.416198487095663\n",
      "1120: Any[1, [7, 4, 5]], distance=7.416198487095663\n",
      "1121: Any[1, [2, 6, 5]], distance=7.416198487095663\n",
      "1122: Any[1, [4, 6, 5]], distance=7.416198487095663\n",
      "1123: Any[2, [4, 7, 5]], distance=7.416198487095663\n",
      "1124: Any[2, [5, 2, 6]], distance=7.416198487095663\n",
      "1125: Any[2, [5, 4, 6]], distance=7.416198487095663\n",
      "1126: Any[1, [2, 5, 6]], distance=7.416198487095663\n",
      "1127: Any[1, [4, 5, 6]], distance=7.416198487095663\n",
      "1128: Any[1, [7, 7, 6]], distance=7.416198487095663\n",
      "1129: Any[2, [7, 7, 6]], distance=7.416198487095663\n",
      "1130: Any[3, [3, 2, 7]], distance=7.416198487095663\n",
      "1131: Any[3, [2, 3, 7]], distance=7.416198487095663\n",
      "1132: Any[3, [5, 4, 7]], distance=7.416198487095663\n",
      "1133: Any[3, [4, 5, 7]], distance=7.416198487095663\n",
      "1134: Any[1, [7, 6, 7]], distance=7.416198487095663\n",
      "1135: Any[3, [7, 6, 7]], distance=7.416198487095663\n",
      "1136: Any[2, [6, 7, 7]], distance=7.416198487095663\n",
      "1137: Any[3, [6, 7, 7]], distance=7.416198487095663\n",
      "1138: Any[2, [4, 0, 0]], distance=7.54983443527075\n",
      "1139: Any[3, [4, 0, 0]], distance=7.54983443527075\n",
      "1140: Any[1, [0, 4, 0]], distance=7.54983443527075\n",
      "1141: Any[3, [0, 4, 0]], distance=7.54983443527075\n",
      "1142: Any[1, [5, 4, 0]], distance=7.54983443527075\n",
      "1143: Any[2, [4, 5, 0]], distance=7.54983443527075\n",
      "1144: Any[3, [6, 6, 0]], distance=7.54983443527075\n",
      "1145: Any[1, [3, 1, 1]], distance=7.54983443527075\n",
      "1146: Any[3, [2, 2, 1]], distance=7.54983443527075\n",
      "1147: Any[2, [1, 3, 1]], distance=7.54983443527075\n",
      "1148: Any[2, [2, 1, 2]], distance=7.54983443527075\n",
      "1149: Any[1, [1, 2, 2]], distance=7.54983443527075\n",
      "1150: Any[3, [1, 1, 3]], distance=7.54983443527075\n",
      "1151: Any[1, [0, 0, 4]], distance=7.54983443527075\n",
      "1152: Any[2, [0, 0, 4]], distance=7.54983443527075\n",
      "1153: Any[1, [5, 0, 4]], distance=7.54983443527075\n",
      "1154: Any[2, [0, 5, 4]], distance=7.54983443527075\n",
      "1155: Any[3, [4, 0, 5]], distance=7.54983443527075\n",
      "1156: Any[3, [0, 4, 5]], distance=7.54983443527075\n",
      "1157: Any[2, [6, 0, 6]], distance=7.54983443527075\n",
      "1158: Any[1, [0, 6, 6]], distance=7.54983443527075\n",
      "1159: Any[3, [7, 7, 6]], distance=7.54983443527075\n",
      "1160: Any[2, [7, 6, 7]], distance=7.54983443527075\n",
      "1161: Any[1, [6, 7, 7]], distance=7.54983443527075\n",
      "1162: Any[1, [6, 4, 1]], distance=7.681145747868608\n",
      "1163: Any[3, [7, 4, 1]], distance=7.681145747868608\n",
      "1164: Any[2, [4, 6, 1]], distance=7.681145747868608\n",
      "1165: Any[3, [4, 7, 1]], distance=7.681145747868608\n",
      "1166: Any[1, [6, 1, 4]], distance=7.681145747868608\n",
      "1167: Any[2, [7, 1, 4]], distance=7.681145747868608\n",
      "1168: Any[2, [7, 5, 4]], distance=7.681145747868608\n",
      "1169: Any[2, [1, 6, 4]], distance=7.681145747868608\n",
      "1170: Any[1, [1, 7, 4]], distance=7.681145747868608\n",
      "1171: Any[1, [5, 7, 4]], distance=7.681145747868608\n",
      "1172: Any[3, [7, 4, 5]], distance=7.681145747868608\n",
      "1173: Any[3, [4, 7, 5]], distance=7.681145747868608\n",
      "1174: Any[3, [4, 1, 6]], distance=7.681145747868608\n",
      "1175: Any[3, [1, 4, 6]], distance=7.681145747868608\n",
      "1176: Any[2, [4, 1, 7]], distance=7.681145747868608\n",
      "1177: Any[1, [1, 4, 7]], distance=7.681145747868608\n",
      "1178: Any[1, [5, 4, 7]], distance=7.681145747868608\n",
      "1179: Any[2, [4, 5, 7]], distance=7.681145747868608\n",
      "1180: Any[0, [5, 4, 1]], distance=7.745966692414834\n",
      "1181: Any[0, [6, 4, 1]], distance=7.745966692414834\n",
      "1182: Any[0, [4, 5, 1]], distance=7.745966692414834\n",
      "1183: Any[0, [6, 5, 1]], distance=7.745966692414834\n",
      "1184: Any[0, [4, 6, 1]], distance=7.745966692414834\n",
      "1185: Any[0, [5, 6, 1]], distance=7.745966692414834\n",
      "1186: Any[0, [7, 3, 2]], distance=7.745966692414834\n",
      "1187: Any[0, [3, 7, 2]], distance=7.745966692414834\n",
      "1188: Any[0, [7, 2, 3]], distance=7.745966692414834\n",
      "1189: Any[0, [2, 7, 3]], distance=7.745966692414834\n",
      "1190: Any[0, [5, 1, 4]], distance=7.745966692414834\n",
      "1191: Any[0, [6, 1, 4]], distance=7.745966692414834\n",
      "1192: Any[0, [1, 5, 4]], distance=7.745966692414834\n",
      "1193: Any[0, [6, 5, 4]], distance=7.745966692414834\n",
      "1194: Any[0, [1, 6, 4]], distance=7.745966692414834\n",
      "1195: Any[0, [5, 6, 4]], distance=7.745966692414834\n",
      "1196: Any[0, [4, 1, 5]], distance=7.745966692414834\n",
      "1197: Any[0, [6, 1, 5]], distance=7.745966692414834\n",
      "1198: Any[0, [1, 4, 5]], distance=7.745966692414834\n",
      "1199: Any[0, [6, 4, 5]], distance=7.745966692414834\n",
      "1200: Any[0, [1, 6, 5]], distance=7.745966692414834\n",
      "1201: Any[0, [4, 6, 5]], distance=7.745966692414834\n",
      "1202: Any[0, [4, 1, 6]], distance=7.745966692414834\n",
      "1203: Any[0, [5, 1, 6]], distance=7.745966692414834\n",
      "1204: Any[0, [1, 4, 6]], distance=7.745966692414834\n",
      "1205: Any[0, [5, 4, 6]], distance=7.745966692414834\n",
      "1206: Any[0, [1, 5, 6]], distance=7.745966692414834\n",
      "1207: Any[0, [4, 5, 6]], distance=7.745966692414834\n",
      "1208: Any[0, [3, 2, 7]], distance=7.745966692414834\n",
      "1209: Any[0, [2, 3, 7]], distance=7.745966692414834\n",
      "1210: Any[1, [3, 2, 0]], distance=7.810249675906654\n",
      "1211: Any[2, [2, 3, 0]], distance=7.810249675906654\n",
      "1212: Any[3, [7, 5, 0]], distance=7.810249675906654\n",
      "1213: Any[1, [6, 6, 0]], distance=7.810249675906654\n",
      "1214: Any[2, [6, 6, 0]], distance=7.810249675906654\n",
      "1215: Any[3, [5, 7, 0]], distance=7.810249675906654\n",
      "1216: Any[2, [3, 1, 1]], distance=7.810249675906654\n",
      "1217: Any[3, [3, 1, 1]], distance=7.810249675906654\n",
      "1218: Any[1, [1, 3, 1]], distance=7.810249675906654\n",
      "1219: Any[3, [1, 3, 1]], distance=7.810249675906654\n",
      "1220: Any[1, [3, 0, 2]], distance=7.810249675906654\n",
      "1221: Any[2, [0, 3, 2]], distance=7.810249675906654\n",
      "1222: Any[3, [2, 0, 3]], distance=7.810249675906654\n",
      "1223: Any[1, [1, 1, 3]], distance=7.810249675906654\n",
      "1224: Any[2, [1, 1, 3]], distance=7.810249675906654\n",
      "1225: Any[3, [0, 2, 3]], distance=7.810249675906654\n",
      "1226: Any[2, [5, 3, 3]], distance=7.810249675906654\n",
      "1227: Any[3, [5, 3, 3]], distance=7.810249675906654\n",
      "1228: Any[1, [3, 5, 3]], distance=7.810249675906654\n",
      "1229: Any[3, [3, 5, 3]], distance=7.810249675906654\n",
      "1230: Any[1, [6, 5, 3]], distance=7.810249675906654\n",
      "1231: Any[2, [5, 6, 3]], distance=7.810249675906654\n",
      "1232: Any[2, [7, 0, 5]], distance=7.810249675906654\n",
      "1233: Any[1, [3, 3, 5]], distance=7.810249675906654\n",
      "1234: Any[2, [3, 3, 5]], distance=7.810249675906654\n",
      "1235: Any[1, [6, 3, 5]], distance=7.810249675906654\n",
      "1236: Any[2, [3, 6, 5]], distance=7.810249675906654\n",
      "1237: Any[1, [0, 7, 5]], distance=7.810249675906654\n",
      "1238: Any[1, [6, 0, 6]], distance=7.810249675906654\n",
      "1239: Any[3, [6, 0, 6]], distance=7.810249675906654\n",
      "1240: Any[3, [5, 3, 6]], distance=7.810249675906654\n",
      "1241: Any[3, [3, 5, 6]], distance=7.810249675906654\n",
      "1242: Any[2, [0, 6, 6]], distance=7.810249675906654\n",
      "1243: Any[3, [0, 6, 6]], distance=7.810249675906654\n",
      "1244: Any[2, [5, 0, 7]], distance=7.810249675906654\n",
      "1245: Any[1, [0, 5, 7]], distance=7.810249675906654\n",
      "1246: Any[2, [3, 2, 0]], distance=7.937253933193772\n",
      "1247: Any[1, [2, 3, 0]], distance=7.937253933193772\n",
      "1248: Any[1, [7, 5, 0]], distance=7.937253933193772\n",
      "1249: Any[2, [5, 7, 0]], distance=7.937253933193772\n",
      "1250: Any[1, [5, 4, 1]], distance=7.937253933193772\n",
      "1251: Any[1, [7, 4, 1]], distance=7.937253933193772\n",
      "1252: Any[2, [4, 5, 1]], distance=7.937253933193772\n",
      "1253: Any[2, [4, 7, 1]], distance=7.937253933193772\n",
      "1254: Any[3, [3, 0, 2]], distance=7.937253933193772\n"
     ]
    },
    {
     "name": "stdout",
     "output_type": "stream",
     "text": [
      "1255: Any[3, [0, 3, 2]], distance=7.937253933193772\n",
      "1256: Any[2, [5, 4, 2]], distance=7.937253933193772\n",
      "1257: Any[1, [4, 5, 2]], distance=7.937253933193772\n",
      "1258: Any[1, [6, 5, 2]], distance=7.937253933193772\n",
      "1259: Any[2, [5, 6, 2]], distance=7.937253933193772\n",
      "1260: Any[1, [2, 0, 3]], distance=7.937253933193772\n",
      "1261: Any[2, [0, 2, 3]], distance=7.937253933193772\n",
      "1262: Any[2, [6, 3, 3]], distance=7.937253933193772\n",
      "1263: Any[3, [6, 3, 3]], distance=7.937253933193772\n",
      "1264: Any[2, [6, 5, 3]], distance=7.937253933193772\n",
      "1265: Any[1, [3, 6, 3]], distance=7.937253933193772\n",
      "1266: Any[3, [3, 6, 3]], distance=7.937253933193772\n",
      "1267: Any[1, [5, 6, 3]], distance=7.937253933193772\n",
      "1268: Any[1, [5, 1, 4]], distance=7.937253933193772\n",
      "1269: Any[1, [7, 1, 4]], distance=7.937253933193772\n",
      "1270: Any[3, [5, 2, 4]], distance=7.937253933193772\n",
      "1271: Any[2, [1, 5, 4]], distance=7.937253933193772\n",
      "1272: Any[3, [2, 5, 4]], distance=7.937253933193772\n",
      "1273: Any[2, [1, 7, 4]], distance=7.937253933193772\n",
      "1274: Any[1, [7, 0, 5]], distance=7.937253933193772\n",
      "1275: Any[3, [4, 1, 5]], distance=7.937253933193772\n",
      "1276: Any[1, [4, 2, 5]], distance=7.937253933193772\n",
      "1277: Any[1, [6, 2, 5]], distance=7.937253933193772\n",
      "1278: Any[3, [6, 3, 5]], distance=7.937253933193772\n",
      "1279: Any[3, [1, 4, 5]], distance=7.937253933193772\n",
      "1280: Any[2, [2, 4, 5]], distance=7.937253933193772\n",
      "1281: Any[2, [2, 6, 5]], distance=7.937253933193772\n",
      "1282: Any[3, [3, 6, 5]], distance=7.937253933193772\n",
      "1283: Any[2, [0, 7, 5]], distance=7.937253933193772\n",
      "1284: Any[3, [5, 2, 6]], distance=7.937253933193772\n",
      "1285: Any[1, [3, 3, 6]], distance=7.937253933193772\n",
      "1286: Any[2, [3, 3, 6]], distance=7.937253933193772\n",
      "1287: Any[1, [5, 3, 6]], distance=7.937253933193772\n",
      "1288: Any[3, [2, 5, 6]], distance=7.937253933193772\n",
      "1289: Any[2, [3, 5, 6]], distance=7.937253933193772\n",
      "1290: Any[3, [5, 0, 7]], distance=7.937253933193772\n",
      "1291: Any[3, [4, 1, 7]], distance=7.937253933193772\n",
      "1292: Any[3, [1, 4, 7]], distance=7.937253933193772\n",
      "1293: Any[3, [0, 5, 7]], distance=7.937253933193772\n",
      "1294: Any[0, [4, 0, 0]], distance=8.0\n",
      "1295: Any[0, [0, 4, 0]], distance=8.0\n",
      "1296: Any[0, [0, 0, 4]], distance=8.0\n",
      "1297: Any[2, [6, 4, 2]], distance=8.06225774829855\n",
      "1298: Any[2, [6, 5, 2]], distance=8.06225774829855\n",
      "1299: Any[1, [4, 6, 2]], distance=8.06225774829855\n",
      "1300: Any[1, [5, 6, 2]], distance=8.06225774829855\n",
      "1301: Any[3, [6, 2, 4]], distance=8.06225774829855\n",
      "1302: Any[3, [2, 6, 4]], distance=8.06225774829855\n",
      "1303: Any[3, [6, 2, 5]], distance=8.06225774829855\n",
      "1304: Any[3, [2, 6, 5]], distance=8.06225774829855\n",
      "1305: Any[1, [4, 2, 6]], distance=8.06225774829855\n",
      "1306: Any[1, [5, 2, 6]], distance=8.06225774829855\n",
      "1307: Any[2, [2, 4, 6]], distance=8.06225774829855\n",
      "1308: Any[2, [2, 5, 6]], distance=8.06225774829855\n",
      "1309: Any[1, [4, 1, 0]], distance=8.18535277187245\n",
      "1310: Any[3, [3, 2, 0]], distance=8.18535277187245\n",
      "1311: Any[3, [2, 3, 0]], distance=8.18535277187245\n",
      "1312: Any[2, [1, 4, 0]], distance=8.18535277187245\n",
      "1313: Any[2, [7, 5, 0]], distance=8.18535277187245\n",
      "1314: Any[1, [5, 7, 0]], distance=8.18535277187245\n",
      "1315: Any[1, [4, 0, 1]], distance=8.18535277187245\n",
      "1316: Any[2, [0, 4, 1]], distance=8.18535277187245\n",
      "1317: Any[3, [6, 5, 1]], distance=8.18535277187245\n",
      "1318: Any[3, [5, 6, 1]], distance=8.18535277187245\n",
      "1319: Any[2, [3, 0, 2]], distance=8.18535277187245\n",
      "1320: Any[1, [0, 3, 2]], distance=8.18535277187245\n",
      "1321: Any[3, [5, 4, 2]], distance=8.18535277187245\n",
      "1322: Any[3, [4, 5, 2]], distance=8.18535277187245\n",
      "1323: Any[2, [2, 0, 3]], distance=8.18535277187245\n",
      "1324: Any[1, [0, 2, 3]], distance=8.18535277187245\n",
      "1325: Any[3, [1, 0, 4]], distance=8.18535277187245\n",
      "1326: Any[3, [0, 1, 4]], distance=8.18535277187245\n",
      "1327: Any[2, [5, 2, 4]], distance=8.18535277187245\n",
      "1328: Any[1, [2, 5, 4]], distance=8.18535277187245\n",
      "1329: Any[1, [6, 5, 4]], distance=8.18535277187245\n",
      "1330: Any[2, [5, 6, 4]], distance=8.18535277187245\n",
      "1331: Any[3, [7, 0, 5]], distance=8.18535277187245\n",
      "1332: Any[2, [6, 1, 5]], distance=8.18535277187245\n",
      "1333: Any[2, [4, 2, 5]], distance=8.18535277187245\n",
      "1334: Any[1, [2, 4, 5]], distance=8.18535277187245\n",
      "1335: Any[1, [6, 4, 5]], distance=8.18535277187245\n",
      "1336: Any[1, [1, 6, 5]], distance=8.18535277187245\n",
      "1337: Any[2, [4, 6, 5]], distance=8.18535277187245\n",
      "1338: Any[3, [0, 7, 5]], distance=8.18535277187245\n",
      "1339: Any[2, [5, 1, 6]], distance=8.18535277187245\n",
      "1340: Any[3, [5, 4, 6]], distance=8.18535277187245\n",
      "1341: Any[1, [1, 5, 6]], distance=8.18535277187245\n",
      "1342: Any[3, [4, 5, 6]], distance=8.18535277187245\n",
      "1343: Any[1, [5, 0, 7]], distance=8.18535277187245\n",
      "1344: Any[2, [0, 5, 7]], distance=8.18535277187245\n",
      "1345: Any[0, [2, 2, 1]], distance=8.246211251235321\n",
      "1346: Any[0, [7, 4, 1]], distance=8.246211251235321\n",
      "1347: Any[0, [4, 7, 1]], distance=8.246211251235321\n",
      "1348: Any[0, [2, 1, 2]], distance=8.246211251235321\n",
      "1349: Any[0, [1, 2, 2]], distance=8.246211251235321\n",
      "1350: Any[0, [7, 1, 4]], distance=8.246211251235321\n",
      "1351: Any[0, [1, 7, 4]], distance=8.246211251235321\n",
      "1352: Any[0, [7, 6, 6]], distance=8.246211251235321\n",
      "1353: Any[0, [6, 7, 6]], distance=8.246211251235321\n",
      "1354: Any[0, [4, 1, 7]], distance=8.246211251235321\n",
      "1355: Any[0, [1, 4, 7]], distance=8.246211251235321\n",
      "1356: Any[0, [6, 6, 7]], distance=8.246211251235321\n",
      "1357: Any[3, [6, 4, 2]], distance=8.306623862918075\n",
      "1358: Any[3, [4, 6, 2]], distance=8.306623862918075\n",
      "1359: Any[2, [6, 2, 4]], distance=8.306623862918075\n",
      "1360: Any[2, [6, 5, 4]], distance=8.306623862918075\n",
      "1361: Any[1, [2, 6, 4]], distance=8.306623862918075\n",
      "1362: Any[1, [5, 6, 4]], distance=8.306623862918075\n",
      "1363: Any[3, [6, 4, 5]], distance=8.306623862918075\n",
      "1364: Any[3, [4, 6, 5]], distance=8.306623862918075\n",
      "1365: Any[2, [4, 2, 6]], distance=8.306623862918075\n",
      "1366: Any[1, [2, 4, 6]], distance=8.306623862918075\n",
      "1367: Any[1, [5, 4, 6]], distance=8.306623862918075\n",
      "1368: Any[2, [4, 5, 6]], distance=8.306623862918075\n",
      "1369: Any[0, [3, 1, 1]], distance=8.48528137423857\n",
      "1370: Any[0, [1, 3, 1]], distance=8.48528137423857\n",
      "1371: Any[0, [1, 1, 3]], distance=8.48528137423857\n",
      "1372: Any[0, [5, 3, 3]], distance=8.48528137423857\n",
      "1373: Any[0, [3, 5, 3]], distance=8.48528137423857\n",
      "1374: Any[0, [5, 5, 3]], distance=8.48528137423857\n",
      "1375: Any[0, [3, 3, 5]], distance=8.48528137423857\n",
      "1376: Any[0, [5, 3, 5]], distance=8.48528137423857\n",
      "1377: Any[0, [3, 5, 5]], distance=8.48528137423857\n",
      "1378: Any[0, [7, 7, 5]], distance=8.48528137423857\n",
      "1379: Any[0, [7, 5, 7]], distance=8.48528137423857\n",
      "1380: Any[0, [5, 7, 7]], distance=8.48528137423857\n",
      "1381: Any[2, [4, 1, 0]], distance=8.54400374531753\n",
      "1382: Any[1, [1, 4, 0]], distance=8.54400374531753\n",
      "1383: Any[3, [4, 0, 1]], distance=8.54400374531753\n",
      "1384: Any[3, [0, 4, 1]], distance=8.54400374531753\n",
      "1385: Any[1, [6, 5, 1]], distance=8.54400374531753\n",
      "1386: Any[2, [5, 6, 1]], distance=8.54400374531753\n",
      "1387: Any[1, [5, 3, 3]], distance=8.54400374531753\n",
      "1388: Any[1, [6, 3, 3]], distance=8.54400374531753\n",
      "1389: Any[2, [7, 3, 3]], distance=8.54400374531753\n",
      "1390: Any[3, [7, 3, 3]], distance=8.54400374531753\n",
      "1391: Any[2, [3, 5, 3]], distance=8.54400374531753\n",
      "1392: Any[3, [5, 5, 3]], distance=8.54400374531753\n",
      "1393: Any[2, [3, 6, 3]], distance=8.54400374531753\n",
      "1394: Any[1, [3, 7, 3]], distance=8.54400374531753\n",
      "1395: Any[3, [3, 7, 3]], distance=8.54400374531753\n",
      "1396: Any[1, [1, 0, 4]], distance=8.54400374531753\n",
      "1397: Any[2, [0, 1, 4]], distance=8.54400374531753\n",
      "1398: Any[3, [5, 5, 4]], distance=8.54400374531753\n",
      "1399: Any[1, [6, 1, 5]], distance=8.54400374531753\n",
      "1400: Any[3, [3, 3, 5]], distance=8.54400374531753\n",
      "1401: Any[2, [5, 3, 5]], distance=8.54400374531753\n",
      "1402: Any[2, [5, 4, 5]], distance=8.54400374531753\n",
      "1403: Any[1, [3, 5, 5]], distance=8.54400374531753\n",
      "1404: Any[1, [4, 5, 5]], distance=8.54400374531753\n",
      "1405: Any[2, [1, 6, 5]], distance=8.54400374531753\n",
      "1406: Any[3, [5, 1, 6]], distance=8.54400374531753\n",
      "1407: Any[3, [3, 3, 6]], distance=8.54400374531753\n",
      "1408: Any[3, [1, 5, 6]], distance=8.54400374531753\n",
      "1409: Any[1, [3, 3, 7]], distance=8.54400374531753\n",
      "1410: Any[2, [3, 3, 7]], distance=8.54400374531753\n",
      "1411: Any[3, [4, 1, 0]], distance=8.660254037844387\n",
      "1412: Any[3, [1, 4, 0]], distance=8.660254037844387\n",
      "1413: Any[2, [4, 0, 1]], distance=8.660254037844387\n",
      "1414: Any[1, [0, 4, 1]], distance=8.660254037844387\n",
      "1415: Any[2, [6, 5, 1]], distance=8.660254037844387\n",
      "1416: Any[1, [5, 6, 1]], distance=8.660254037844387\n",
      "1417: Any[2, [7, 4, 2]], distance=8.660254037844387\n",
      "1418: Any[1, [4, 7, 2]], distance=8.660254037844387\n",
      "1419: Any[2, [1, 0, 4]], distance=8.660254037844387\n",
      "1420: Any[1, [0, 1, 4]], distance=8.660254037844387\n",
      "1421: Any[3, [7, 2, 4]], distance=8.660254037844387\n",
      "1422: Any[3, [2, 7, 4]], distance=8.660254037844387\n",
      "1423: Any[3, [6, 1, 5]], distance=8.660254037844387\n",
      "1424: Any[3, [1, 6, 5]], distance=8.660254037844387\n",
      "1425: Any[1, [5, 1, 6]], distance=8.660254037844387\n",
      "1426: Any[2, [1, 5, 6]], distance=8.660254037844387\n",
      "1427: Any[1, [4, 2, 7]], distance=8.660254037844387\n",
      "1428: Any[2, [2, 4, 7]], distance=8.660254037844387\n",
      "1429: Any[0, [3, 2, 0]], distance=8.717797887081348\n",
      "1430: Any[0, [2, 3, 0]], distance=8.717797887081348\n",
      "1431: Any[0, [6, 5, 0]], distance=8.717797887081348\n",
      "1432: Any[0, [5, 6, 0]], distance=8.717797887081348\n",
      "1433: Any[0, [3, 0, 2]], distance=8.717797887081348\n",
      "1434: Any[0, [0, 3, 2]], distance=8.717797887081348\n",
      "1435: Any[0, [5, 4, 2]], distance=8.717797887081348\n",
      "1436: Any[0, [4, 5, 2]], distance=8.717797887081348\n",
      "1437: Any[0, [5, 5, 2]], distance=8.717797887081348\n",
      "1438: Any[0, [2, 0, 3]], distance=8.717797887081348\n",
      "1439: Any[0, [0, 2, 3]], distance=8.717797887081348\n",
      "1440: Any[0, [6, 3, 3]], distance=8.717797887081348\n",
      "1441: Any[0, [3, 6, 3]], distance=8.717797887081348\n",
      "1442: Any[0, [5, 2, 4]], distance=8.717797887081348\n",
      "1443: Any[0, [2, 5, 4]], distance=8.717797887081348\n"
     ]
    },
    {
     "name": "stdout",
     "output_type": "stream",
     "text": [
      "1444: Any[0, [5, 5, 4]], distance=8.717797887081348\n",
      "1445: Any[0, [6, 0, 5]], distance=8.717797887081348\n",
      "1446: Any[0, [4, 2, 5]], distance=8.717797887081348\n",
      "1447: Any[0, [5, 2, 5]], distance=8.717797887081348\n",
      "1448: Any[0, [2, 4, 5]], distance=8.717797887081348\n",
      "1449: Any[0, [5, 4, 5]], distance=8.717797887081348\n",
      "1450: Any[0, [2, 5, 5]], distance=8.717797887081348\n",
      "1451: Any[0, [4, 5, 5]], distance=8.717797887081348\n",
      "1452: Any[0, [0, 6, 5]], distance=8.717797887081348\n",
      "1453: Any[0, [5, 0, 6]], distance=8.717797887081348\n",
      "1454: Any[0, [3, 3, 6]], distance=8.717797887081348\n",
      "1455: Any[0, [0, 5, 6]], distance=8.717797887081348\n",
      "1456: Any[1, [5, 4, 2]], distance=8.774964387392123\n",
      "1457: Any[1, [6, 4, 2]], distance=8.774964387392123\n",
      "1458: Any[2, [4, 5, 2]], distance=8.774964387392123\n",
      "1459: Any[2, [4, 6, 2]], distance=8.774964387392123\n",
      "1460: Any[1, [5, 2, 4]], distance=8.774964387392123\n",
      "1461: Any[1, [6, 2, 4]], distance=8.774964387392123\n",
      "1462: Any[2, [2, 5, 4]], distance=8.774964387392123\n",
      "1463: Any[2, [2, 6, 4]], distance=8.774964387392123\n",
      "1464: Any[3, [4, 2, 5]], distance=8.774964387392123\n",
      "1465: Any[3, [2, 4, 5]], distance=8.774964387392123\n",
      "1466: Any[3, [4, 2, 6]], distance=8.774964387392123\n",
      "1467: Any[3, [2, 4, 6]], distance=8.774964387392123\n",
      "1468: Any[3, [7, 4, 2]], distance=8.888194417315589\n",
      "1469: Any[3, [4, 7, 2]], distance=8.888194417315589\n",
      "1470: Any[2, [7, 2, 4]], distance=8.888194417315589\n",
      "1471: Any[1, [2, 7, 4]], distance=8.888194417315589\n",
      "1472: Any[2, [4, 2, 7]], distance=8.888194417315589\n",
      "1473: Any[1, [2, 4, 7]], distance=8.888194417315589\n",
      "1474: Any[0, [6, 4, 2]], distance=8.94427190999916\n",
      "1475: Any[0, [4, 6, 2]], distance=8.94427190999916\n",
      "1476: Any[0, [6, 2, 4]], distance=8.94427190999916\n",
      "1477: Any[0, [2, 6, 4]], distance=8.94427190999916\n",
      "1478: Any[0, [4, 2, 6]], distance=8.94427190999916\n",
      "1479: Any[0, [2, 4, 6]], distance=8.94427190999916\n",
      "1480: Any[1, [2, 2, 2]], distance=9.0\n",
      "1481: Any[2, [2, 2, 2]], distance=9.0\n",
      "1482: Any[3, [2, 2, 2]], distance=9.0\n",
      "1483: Any[3, [5, 5, 2]], distance=9.0\n",
      "1484: Any[1, [7, 3, 3]], distance=9.0\n",
      "1485: Any[2, [3, 7, 3]], distance=9.0\n",
      "1486: Any[2, [5, 2, 5]], distance=9.0\n",
      "1487: Any[1, [2, 5, 5]], distance=9.0\n",
      "1488: Any[1, [7, 6, 6]], distance=9.0\n",
      "1489: Any[2, [6, 7, 6]], distance=9.0\n",
      "1490: Any[3, [3, 3, 7]], distance=9.0\n",
      "1491: Any[3, [6, 6, 7]], distance=9.0\n",
      "1492: Any[1, [3, 2, 1]], distance=9.1104335791443\n",
      "1493: Any[2, [2, 3, 1]], distance=9.1104335791443\n",
      "1494: Any[1, [3, 1, 2]], distance=9.1104335791443\n",
      "1495: Any[2, [1, 3, 2]], distance=9.1104335791443\n",
      "1496: Any[3, [2, 1, 3]], distance=9.1104335791443\n",
      "1497: Any[3, [1, 2, 3]], distance=9.1104335791443\n",
      "1498: Any[2, [7, 6, 6]], distance=9.1104335791443\n",
      "1499: Any[3, [7, 6, 6]], distance=9.1104335791443\n",
      "1500: Any[1, [6, 7, 6]], distance=9.1104335791443\n",
      "1501: Any[3, [6, 7, 6]], distance=9.1104335791443\n",
      "1502: Any[1, [6, 6, 7]], distance=9.1104335791443\n",
      "1503: Any[2, [6, 6, 7]], distance=9.1104335791443\n",
      "1504: Any[0, [4, 1, 0]], distance=9.16515138991168\n",
      "1505: Any[0, [1, 4, 0]], distance=9.16515138991168\n",
      "1506: Any[0, [4, 0, 1]], distance=9.16515138991168\n",
      "1507: Any[0, [0, 4, 1]], distance=9.16515138991168\n",
      "1508: Any[0, [1, 0, 4]], distance=9.16515138991168\n",
      "1509: Any[0, [0, 1, 4]], distance=9.16515138991168\n",
      "1510: Any[2, [3, 2, 1]], distance=9.219544457292887\n",
      "1511: Any[1, [2, 3, 1]], distance=9.219544457292887\n",
      "1512: Any[3, [3, 1, 2]], distance=9.219544457292887\n",
      "1513: Any[3, [1, 3, 2]], distance=9.219544457292887\n",
      "1514: Any[1, [7, 4, 2]], distance=9.219544457292887\n",
      "1515: Any[2, [4, 7, 2]], distance=9.219544457292887\n",
      "1516: Any[1, [2, 1, 3]], distance=9.219544457292887\n",
      "1517: Any[2, [1, 2, 3]], distance=9.219544457292887\n",
      "1518: Any[2, [5, 4, 3]], distance=9.219544457292887\n",
      "1519: Any[1, [4, 5, 3]], distance=9.219544457292887\n",
      "1520: Any[1, [5, 5, 3]], distance=9.219544457292887\n",
      "1521: Any[2, [5, 5, 3]], distance=9.219544457292887\n",
      "1522: Any[1, [7, 2, 4]], distance=9.219544457292887\n",
      "1523: Any[3, [5, 3, 4]], distance=9.219544457292887\n",
      "1524: Any[3, [3, 5, 4]], distance=9.219544457292887\n",
      "1525: Any[2, [2, 7, 4]], distance=9.219544457292887\n",
      "1526: Any[1, [4, 3, 5]], distance=9.219544457292887\n",
      "1527: Any[1, [5, 3, 5]], distance=9.219544457292887\n",
      "1528: Any[3, [5, 3, 5]], distance=9.219544457292887\n",
      "1529: Any[2, [3, 4, 5]], distance=9.219544457292887\n",
      "1530: Any[2, [3, 5, 5]], distance=9.219544457292887\n",
      "1531: Any[3, [3, 5, 5]], distance=9.219544457292887\n",
      "1532: Any[1, [7, 7, 5]], distance=9.219544457292887\n",
      "1533: Any[2, [7, 7, 5]], distance=9.219544457292887\n",
      "1534: Any[3, [4, 2, 7]], distance=9.219544457292887\n",
      "1535: Any[3, [2, 4, 7]], distance=9.219544457292887\n",
      "1536: Any[1, [7, 5, 7]], distance=9.219544457292887\n",
      "1537: Any[3, [7, 5, 7]], distance=9.219544457292887\n",
      "1538: Any[2, [5, 7, 7]], distance=9.219544457292887\n",
      "1539: Any[3, [5, 7, 7]], distance=9.219544457292887\n",
      "1540: Any[3, [6, 5, 0]], distance=9.327379053088816\n",
      "1541: Any[3, [5, 6, 0]], distance=9.327379053088816\n",
      "1542: Any[3, [3, 2, 1]], distance=9.327379053088816\n",
      "1543: Any[3, [2, 3, 1]], distance=9.327379053088816\n",
      "1544: Any[2, [3, 1, 2]], distance=9.327379053088816\n",
      "1545: Any[1, [1, 3, 2]], distance=9.327379053088816\n",
      "1546: Any[2, [2, 1, 3]], distance=9.327379053088816\n",
      "1547: Any[1, [1, 2, 3]], distance=9.327379053088816\n",
      "1548: Any[3, [5, 4, 3]], distance=9.327379053088816\n",
      "1549: Any[3, [4, 5, 3]], distance=9.327379053088816\n",
      "1550: Any[2, [5, 3, 4]], distance=9.327379053088816\n",
      "1551: Any[1, [3, 5, 4]], distance=9.327379053088816\n",
      "1552: Any[1, [5, 5, 4]], distance=9.327379053088816\n",
      "1553: Any[2, [5, 5, 4]], distance=9.327379053088816\n",
      "1554: Any[2, [6, 0, 5]], distance=9.327379053088816\n",
      "1555: Any[2, [4, 3, 5]], distance=9.327379053088816\n",
      "1556: Any[1, [3, 4, 5]], distance=9.327379053088816\n",
      "1557: Any[1, [5, 4, 5]], distance=9.327379053088816\n",
      "1558: Any[3, [5, 4, 5]], distance=9.327379053088816\n",
      "1559: Any[2, [4, 5, 5]], distance=9.327379053088816\n",
      "1560: Any[3, [4, 5, 5]], distance=9.327379053088816\n",
      "1561: Any[1, [0, 6, 5]], distance=9.327379053088816\n",
      "1562: Any[2, [5, 0, 6]], distance=9.327379053088816\n",
      "1563: Any[1, [0, 5, 6]], distance=9.327379053088816\n",
      "1564: Any[0, [5, 5, 1]], distance=9.38083151964686\n",
      "1565: Any[0, [7, 3, 3]], distance=9.38083151964686\n",
      "1566: Any[0, [3, 7, 3]], distance=9.38083151964686\n",
      "1567: Any[0, [5, 1, 5]], distance=9.38083151964686\n",
      "1568: Any[0, [1, 5, 5]], distance=9.38083151964686\n",
      "1569: Any[0, [3, 3, 7]], distance=9.38083151964686\n",
      "1570: Any[1, [4, 1, 1]], distance=9.433981132056603\n",
      "1571: Any[2, [1, 4, 1]], distance=9.433981132056603\n",
      "1572: Any[3, [1, 1, 4]], distance=9.433981132056603\n",
      "1573: Any[3, [7, 7, 5]], distance=9.433981132056603\n",
      "1574: Any[2, [7, 5, 7]], distance=9.433981132056603\n",
      "1575: Any[1, [5, 7, 7]], distance=9.433981132056603\n",
      "1576: Any[1, [3, 3, 0]], distance=9.539392014169456\n",
      "1577: Any[2, [3, 3, 0]], distance=9.539392014169456\n",
      "1578: Any[1, [6, 5, 0]], distance=9.539392014169456\n",
      "1579: Any[2, [5, 6, 0]], distance=9.539392014169456\n",
      "1580: Any[1, [5, 5, 2]], distance=9.539392014169456\n",
      "1581: Any[2, [5, 5, 2]], distance=9.539392014169456\n",
      "1582: Any[1, [3, 0, 3]], distance=9.539392014169456\n",
      "1583: Any[3, [3, 0, 3]], distance=9.539392014169456\n",
      "1584: Any[2, [0, 3, 3]], distance=9.539392014169456\n",
      "1585: Any[3, [0, 3, 3]], distance=9.539392014169456\n",
      "1586: Any[2, [6, 4, 3]], distance=9.539392014169456\n",
      "1587: Any[1, [4, 6, 3]], distance=9.539392014169456\n",
      "1588: Any[3, [6, 3, 4]], distance=9.539392014169456\n",
      "1589: Any[3, [3, 6, 4]], distance=9.539392014169456\n",
      "1590: Any[1, [6, 0, 5]], distance=9.539392014169456\n",
      "1591: Any[1, [5, 2, 5]], distance=9.539392014169456\n",
      "1592: Any[3, [5, 2, 5]], distance=9.539392014169456\n",
      "1593: Any[2, [2, 5, 5]], distance=9.539392014169456\n",
      "1594: Any[3, [2, 5, 5]], distance=9.539392014169456\n",
      "1595: Any[2, [0, 6, 5]], distance=9.539392014169456\n",
      "1596: Any[3, [5, 0, 6]], distance=9.539392014169456\n",
      "1597: Any[1, [4, 3, 6]], distance=9.539392014169456\n",
      "1598: Any[2, [3, 4, 6]], distance=9.539392014169456\n",
      "1599: Any[3, [0, 5, 6]], distance=9.539392014169456\n",
      "1600: Any[0, [7, 4, 2]], distance=9.591663046625438\n",
      "1601: Any[0, [4, 7, 2]], distance=9.591663046625438\n",
      "1602: Any[0, [7, 2, 4]], distance=9.591663046625438\n",
      "1603: Any[0, [2, 7, 4]], distance=9.591663046625438\n",
      "1604: Any[0, [4, 2, 7]], distance=9.591663046625438\n",
      "1605: Any[0, [2, 4, 7]], distance=9.591663046625438\n",
      "1606: Any[1, [4, 2, 0]], distance=9.643650760992955\n",
      "1607: Any[2, [2, 4, 0]], distance=9.643650760992955\n",
      "1608: Any[2, [6, 5, 0]], distance=9.643650760992955\n",
      "1609: Any[1, [5, 6, 0]], distance=9.643650760992955\n",
      "1610: Any[1, [4, 0, 2]], distance=9.643650760992955\n",
      "1611: Any[2, [0, 4, 2]], distance=9.643650760992955\n",
      "1612: Any[3, [6, 4, 3]], distance=9.643650760992955\n",
      "1613: Any[3, [4, 6, 3]], distance=9.643650760992955\n",
      "1614: Any[3, [2, 0, 4]], distance=9.643650760992955\n",
      "1615: Any[3, [0, 2, 4]], distance=9.643650760992955\n",
      "1616: Any[2, [6, 3, 4]], distance=9.643650760992955\n",
      "1617: Any[1, [3, 6, 4]], distance=9.643650760992955\n",
      "1618: Any[3, [6, 0, 5]], distance=9.643650760992955\n",
      "1619: Any[3, [0, 6, 5]], distance=9.643650760992955\n",
      "1620: Any[1, [5, 0, 6]], distance=9.643650760992955\n",
      "1621: Any[2, [4, 3, 6]], distance=9.643650760992955\n",
      "1622: Any[1, [3, 4, 6]], distance=9.643650760992955\n",
      "1623: Any[2, [0, 5, 6]], distance=9.643650760992955\n",
      "1624: Any[2, [4, 1, 1]], distance=9.746794344808963\n",
      "1625: Any[3, [4, 1, 1]], distance=9.746794344808963\n",
      "1626: Any[1, [1, 4, 1]], distance=9.746794344808963\n",
      "1627: Any[3, [1, 4, 1]], distance=9.746794344808963\n",
      "1628: Any[1, [1, 1, 4]], distance=9.746794344808963\n",
      "1629: Any[2, [1, 1, 4]], distance=9.746794344808963\n",
      "1630: Any[0, [2, 2, 2]], distance=9.797958971132712\n",
      "1631: Any[0, [6, 6, 6]], distance=9.797958971132712\n",
      "1632: Any[2, [4, 2, 0]], distance=9.848857801796104\n",
      "1633: Any[3, [3, 3, 0]], distance=9.848857801796104\n",
      "1634: Any[1, [2, 4, 0]], distance=9.848857801796104\n",
      "1635: Any[3, [5, 5, 1]], distance=9.848857801796104\n",
      "1636: Any[3, [4, 0, 2]], distance=9.848857801796104\n",
      "1637: Any[3, [0, 4, 2]], distance=9.848857801796104\n",
      "1638: Any[2, [3, 0, 3]], distance=9.848857801796104\n",
      "1639: Any[1, [0, 3, 3]], distance=9.848857801796104\n",
      "1640: Any[1, [2, 0, 4]], distance=9.848857801796104\n",
      "1641: Any[2, [0, 2, 4]], distance=9.848857801796104\n",
      "1642: Any[2, [5, 1, 5]], distance=9.848857801796104\n",
      "1643: Any[1, [1, 5, 5]], distance=9.848857801796104\n",
      "1644: Any[1, [5, 4, 3]], distance=9.9498743710662\n",
      "1645: Any[2, [4, 5, 3]], distance=9.9498743710662\n"
     ]
    },
    {
     "name": "stdout",
     "output_type": "stream",
     "text": [
      "1646: Any[1, [5, 3, 4]], distance=9.9498743710662\n",
      "1647: Any[2, [3, 5, 4]], distance=9.9498743710662\n",
      "1648: Any[3, [4, 3, 5]], distance=9.9498743710662\n",
      "1649: Any[3, [3, 4, 5]], distance=9.9498743710662\n",
      "1650: Any[0, [3, 2, 1]], distance=10.0\n",
      "1651: Any[0, [2, 3, 1]], distance=10.0\n",
      "1652: Any[0, [3, 1, 2]], distance=10.0\n",
      "1653: Any[0, [1, 3, 2]], distance=10.0\n",
      "1654: Any[0, [2, 1, 3]], distance=10.0\n",
      "1655: Any[0, [1, 2, 3]], distance=10.0\n",
      "1656: Any[0, [5, 4, 3]], distance=10.0\n",
      "1657: Any[0, [4, 5, 3]], distance=10.0\n",
      "1658: Any[0, [5, 3, 4]], distance=10.0\n",
      "1659: Any[0, [3, 5, 4]], distance=10.0\n",
      "1660: Any[0, [4, 3, 5]], distance=10.0\n",
      "1661: Any[0, [3, 4, 5]], distance=10.0\n",
      "1662: Any[0, [7, 6, 5]], distance=10.0\n",
      "1663: Any[0, [6, 7, 5]], distance=10.0\n",
      "1664: Any[0, [7, 5, 6]], distance=10.0\n",
      "1665: Any[0, [5, 7, 6]], distance=10.0\n",
      "1666: Any[0, [6, 5, 7]], distance=10.0\n",
      "1667: Any[0, [5, 6, 7]], distance=10.0\n",
      "1668: Any[3, [4, 2, 0]], distance=10.04987562112089\n",
      "1669: Any[3, [2, 4, 0]], distance=10.04987562112089\n",
      "1670: Any[2, [4, 0, 2]], distance=10.04987562112089\n",
      "1671: Any[1, [0, 4, 2]], distance=10.04987562112089\n",
      "1672: Any[2, [2, 0, 4]], distance=10.04987562112089\n",
      "1673: Any[1, [0, 2, 4]], distance=10.04987562112089\n",
      "1674: Any[1, [6, 4, 3]], distance=10.14889156509222\n",
      "1675: Any[2, [4, 6, 3]], distance=10.14889156509222\n",
      "1676: Any[1, [6, 3, 4]], distance=10.14889156509222\n",
      "1677: Any[2, [3, 6, 4]], distance=10.14889156509222\n",
      "1678: Any[3, [4, 3, 6]], distance=10.14889156509222\n",
      "1679: Any[3, [3, 4, 6]], distance=10.14889156509222\n",
      "1680: Any[1, [5, 5, 1]], distance=10.246950765959598\n",
      "1681: Any[2, [5, 5, 1]], distance=10.246950765959598\n",
      "1682: Any[2, [7, 4, 3]], distance=10.246950765959598\n",
      "1683: Any[1, [4, 7, 3]], distance=10.246950765959598\n",
      "1684: Any[3, [7, 3, 4]], distance=10.246950765959598\n",
      "1685: Any[3, [3, 7, 4]], distance=10.246950765959598\n",
      "1686: Any[1, [5, 1, 5]], distance=10.246950765959598\n",
      "1687: Any[3, [5, 1, 5]], distance=10.246950765959598\n",
      "1688: Any[2, [1, 5, 5]], distance=10.246950765959598\n",
      "1689: Any[3, [1, 5, 5]], distance=10.246950765959598\n",
      "1690: Any[1, [4, 3, 7]], distance=10.246950765959598\n",
      "1691: Any[2, [3, 4, 7]], distance=10.246950765959598\n",
      "1692: Any[3, [7, 4, 3]], distance=10.344080432788601\n",
      "1693: Any[3, [4, 7, 3]], distance=10.344080432788601\n",
      "1694: Any[2, [7, 3, 4]], distance=10.344080432788601\n",
      "1695: Any[1, [3, 7, 4]], distance=10.344080432788601\n",
      "1696: Any[2, [4, 3, 7]], distance=10.344080432788601\n",
      "1697: Any[1, [3, 4, 7]], distance=10.344080432788601\n",
      "1698: Any[0, [3, 3, 0]], distance=10.392304845413264\n",
      "1699: Any[0, [5, 5, 0]], distance=10.392304845413264\n",
      "1700: Any[0, [4, 1, 1]], distance=10.392304845413264\n",
      "1701: Any[0, [1, 4, 1]], distance=10.392304845413264\n",
      "1702: Any[0, [3, 0, 3]], distance=10.392304845413264\n",
      "1703: Any[0, [0, 3, 3]], distance=10.392304845413264\n",
      "1704: Any[0, [6, 4, 3]], distance=10.392304845413264\n",
      "1705: Any[0, [4, 6, 3]], distance=10.392304845413264\n",
      "1706: Any[0, [1, 1, 4]], distance=10.392304845413264\n",
      "1707: Any[0, [6, 3, 4]], distance=10.392304845413264\n",
      "1708: Any[0, [3, 6, 4]], distance=10.392304845413264\n",
      "1709: Any[0, [5, 0, 5]], distance=10.392304845413264\n",
      "1710: Any[0, [0, 5, 5]], distance=10.392304845413264\n",
      "1711: Any[0, [4, 3, 6]], distance=10.392304845413264\n",
      "1712: Any[0, [3, 4, 6]], distance=10.392304845413264\n",
      "1713: Any[0, [4, 2, 0]], distance=10.583005244258363\n",
      "1714: Any[0, [2, 4, 0]], distance=10.583005244258363\n",
      "1715: Any[0, [4, 0, 2]], distance=10.583005244258363\n",
      "1716: Any[0, [0, 4, 2]], distance=10.583005244258363\n",
      "1717: Any[0, [2, 0, 4]], distance=10.583005244258363\n",
      "1718: Any[0, [0, 2, 4]], distance=10.583005244258363\n",
      "1719: Any[1, [3, 2, 2]], distance=10.63014581273465\n",
      "1720: Any[2, [2, 3, 2]], distance=10.63014581273465\n",
      "1721: Any[3, [2, 2, 3]], distance=10.63014581273465\n",
      "1722: Any[1, [6, 6, 6]], distance=10.63014581273465\n",
      "1723: Any[2, [6, 6, 6]], distance=10.63014581273465\n",
      "1724: Any[3, [6, 6, 6]], distance=10.63014581273465\n",
      "1725: Any[2, [3, 2, 2]], distance=10.723805294763608\n",
      "1726: Any[3, [3, 2, 2]], distance=10.723805294763608\n",
      "1727: Any[1, [2, 3, 2]], distance=10.723805294763608\n",
      "1728: Any[3, [2, 3, 2]], distance=10.723805294763608\n",
      "1729: Any[1, [2, 2, 3]], distance=10.723805294763608\n",
      "1730: Any[2, [2, 2, 3]], distance=10.723805294763608\n",
      "1731: Any[1, [7, 4, 3]], distance=10.723805294763608\n",
      "1732: Any[2, [4, 7, 3]], distance=10.723805294763608\n",
      "1733: Any[1, [7, 3, 4]], distance=10.723805294763608\n",
      "1734: Any[2, [5, 4, 4]], distance=10.723805294763608\n",
      "1735: Any[3, [5, 4, 4]], distance=10.723805294763608\n",
      "1736: Any[1, [4, 5, 4]], distance=10.723805294763608\n",
      "1737: Any[3, [4, 5, 4]], distance=10.723805294763608\n",
      "1738: Any[2, [3, 7, 4]], distance=10.723805294763608\n",
      "1739: Any[1, [4, 4, 5]], distance=10.723805294763608\n",
      "1740: Any[2, [4, 4, 5]], distance=10.723805294763608\n",
      "1741: Any[1, [7, 6, 5]], distance=10.723805294763608\n",
      "1742: Any[2, [6, 7, 5]], distance=10.723805294763608\n",
      "1743: Any[1, [7, 5, 6]], distance=10.723805294763608\n",
      "1744: Any[2, [5, 7, 6]], distance=10.723805294763608\n",
      "1745: Any[3, [4, 3, 7]], distance=10.723805294763608\n",
      "1746: Any[3, [3, 4, 7]], distance=10.723805294763608\n",
      "1747: Any[3, [6, 5, 7]], distance=10.723805294763608\n",
      "1748: Any[3, [5, 6, 7]], distance=10.723805294763608\n",
      "1749: Any[1, [3, 3, 1]], distance=10.816653826391969\n",
      "1750: Any[2, [3, 3, 1]], distance=10.816653826391969\n",
      "1751: Any[1, [3, 1, 3]], distance=10.816653826391969\n",
      "1752: Any[3, [3, 1, 3]], distance=10.816653826391969\n",
      "1753: Any[2, [1, 3, 3]], distance=10.816653826391969\n",
      "1754: Any[3, [1, 3, 3]], distance=10.816653826391969\n",
      "1755: Any[2, [7, 6, 5]], distance=10.816653826391969\n",
      "1756: Any[1, [6, 7, 5]], distance=10.816653826391969\n",
      "1757: Any[3, [7, 5, 6]], distance=10.816653826391969\n",
      "1758: Any[3, [5, 7, 6]], distance=10.816653826391969\n",
      "1759: Any[1, [6, 5, 7]], distance=10.816653826391969\n",
      "1760: Any[2, [5, 6, 7]], distance=10.816653826391969\n",
      "1761: Any[1, [4, 2, 1]], distance=10.908712114635714\n",
      "1762: Any[2, [2, 4, 1]], distance=10.908712114635714\n",
      "1763: Any[1, [4, 1, 2]], distance=10.908712114635714\n",
      "1764: Any[2, [1, 4, 2]], distance=10.908712114635714\n",
      "1765: Any[3, [2, 1, 4]], distance=10.908712114635714\n",
      "1766: Any[3, [1, 2, 4]], distance=10.908712114635714\n",
      "1767: Any[3, [7, 6, 5]], distance=10.908712114635714\n",
      "1768: Any[3, [6, 7, 5]], distance=10.908712114635714\n",
      "1769: Any[2, [7, 5, 6]], distance=10.908712114635714\n",
      "1770: Any[1, [5, 7, 6]], distance=10.908712114635714\n",
      "1771: Any[2, [6, 5, 7]], distance=10.908712114635714\n",
      "1772: Any[1, [5, 6, 7]], distance=10.908712114635714\n",
      "1773: Any[3, [5, 5, 0]], distance=11.0\n",
      "1774: Any[3, [3, 3, 1]], distance=11.0\n",
      "1775: Any[2, [3, 1, 3]], distance=11.0\n",
      "1776: Any[1, [1, 3, 3]], distance=11.0\n",
      "1777: Any[2, [5, 0, 5]], distance=11.0\n",
      "1778: Any[1, [0, 5, 5]], distance=11.0\n",
      "1779: Any[2, [4, 2, 1]], distance=11.090536506409418\n",
      "1780: Any[1, [2, 4, 1]], distance=11.090536506409418\n",
      "1781: Any[3, [4, 1, 2]], distance=11.090536506409418\n",
      "1782: Any[3, [1, 4, 2]], distance=11.090536506409418\n",
      "1783: Any[1, [2, 1, 4]], distance=11.090536506409418\n",
      "1784: Any[2, [1, 2, 4]], distance=11.090536506409418\n",
      "1785: Any[0, [7, 4, 3]], distance=11.135528725660043\n",
      "1786: Any[0, [4, 7, 3]], distance=11.135528725660043\n",
      "1787: Any[0, [7, 3, 4]], distance=11.135528725660043\n",
      "1788: Any[0, [3, 7, 4]], distance=11.135528725660043\n",
      "1789: Any[0, [4, 3, 7]], distance=11.135528725660043\n",
      "1790: Any[0, [3, 4, 7]], distance=11.135528725660043\n",
      "1791: Any[3, [4, 2, 1]], distance=11.180339887498949\n",
      "1792: Any[3, [2, 4, 1]], distance=11.180339887498949\n",
      "1793: Any[2, [4, 1, 2]], distance=11.180339887498949\n",
      "1794: Any[1, [1, 4, 2]], distance=11.180339887498949\n",
      "1795: Any[2, [2, 1, 4]], distance=11.180339887498949\n",
      "1796: Any[1, [1, 2, 4]], distance=11.180339887498949\n",
      "1797: Any[2, [6, 4, 4]], distance=11.180339887498949\n",
      "1798: Any[3, [6, 4, 4]], distance=11.180339887498949\n",
      "1799: Any[1, [4, 6, 4]], distance=11.180339887498949\n",
      "1800: Any[3, [4, 6, 4]], distance=11.180339887498949\n",
      "1801: Any[1, [4, 4, 6]], distance=11.180339887498949\n",
      "1802: Any[2, [4, 4, 6]], distance=11.180339887498949\n",
      "1803: Any[1, [4, 3, 0]], distance=11.269427669584644\n",
      "1804: Any[2, [3, 4, 0]], distance=11.269427669584644\n",
      "1805: Any[1, [5, 5, 0]], distance=11.269427669584644\n",
      "1806: Any[2, [5, 5, 0]], distance=11.269427669584644\n",
      "1807: Any[1, [4, 0, 3]], distance=11.269427669584644\n",
      "1808: Any[2, [0, 4, 3]], distance=11.269427669584644\n",
      "1809: Any[3, [3, 0, 4]], distance=11.269427669584644\n",
      "1810: Any[3, [0, 3, 4]], distance=11.269427669584644\n",
      "1811: Any[1, [5, 0, 5]], distance=11.269427669584644\n",
      "1812: Any[3, [5, 0, 5]], distance=11.269427669584644\n",
      "1813: Any[2, [0, 5, 5]], distance=11.269427669584644\n",
      "1814: Any[3, [0, 5, 5]], distance=11.269427669584644\n",
      "1815: Any[2, [4, 3, 0]], distance=11.357816691600547\n",
      "1816: Any[1, [3, 4, 0]], distance=11.357816691600547\n",
      "1817: Any[3, [4, 0, 3]], distance=11.357816691600547\n",
      "1818: Any[3, [0, 4, 3]], distance=11.357816691600547\n",
      "1819: Any[1, [3, 0, 4]], distance=11.357816691600547\n",
      "1820: Any[2, [0, 3, 4]], distance=11.357816691600547\n",
      "1821: Any[1, [5, 4, 4]], distance=11.357816691600547\n",
      "1822: Any[2, [4, 5, 4]], distance=11.357816691600547\n",
      "1823: Any[3, [4, 4, 5]], distance=11.357816691600547\n",
      "1824: Any[0, [3, 2, 2]], distance=11.489125293076057\n",
      "1825: Any[0, [2, 3, 2]], distance=11.489125293076057\n",
      "1826: Any[0, [2, 2, 3]], distance=11.489125293076057\n",
      "1827: Any[0, [5, 4, 4]], distance=11.489125293076057\n",
      "1828: Any[0, [4, 5, 4]], distance=11.489125293076057\n",
      "1829: Any[0, [4, 4, 5]], distance=11.489125293076057\n",
      "1830: Any[0, [6, 6, 5]], distance=11.489125293076057\n",
      "1831: Any[0, [6, 5, 6]], distance=11.489125293076057\n",
      "1832: Any[0, [5, 6, 6]], distance=11.489125293076057\n",
      "1833: Any[3, [4, 3, 0]], distance=11.61895003862225\n",
      "1834: Any[3, [3, 4, 0]], distance=11.61895003862225\n",
      "1835: Any[2, [4, 0, 3]], distance=11.61895003862225\n",
      "1836: Any[1, [0, 4, 3]], distance=11.61895003862225\n",
      "1837: Any[2, [3, 0, 4]], distance=11.61895003862225\n",
      "1838: Any[1, [0, 3, 4]], distance=11.61895003862225\n",
      "1839: Any[0, [3, 3, 1]], distance=11.661903789690601\n",
      "1840: Any[0, [3, 1, 3]], distance=11.661903789690601\n",
      "1841: Any[0, [1, 3, 3]], distance=11.661903789690601\n",
      "1842: Any[0, [7, 5, 5]], distance=11.661903789690601\n",
      "1843: Any[0, [5, 7, 5]], distance=11.661903789690601\n",
      "1844: Any[0, [5, 5, 7]], distance=11.661903789690601\n",
      "1845: Any[1, [6, 4, 4]], distance=11.704699910719626\n",
      "1846: Any[2, [4, 6, 4]], distance=11.704699910719626\n"
     ]
    },
    {
     "name": "stdout",
     "output_type": "stream",
     "text": [
      "1847: Any[3, [4, 4, 6]], distance=11.704699910719626\n",
      "1848: Any[0, [4, 2, 1]], distance=11.832159566199232\n",
      "1849: Any[0, [2, 4, 1]], distance=11.832159566199232\n",
      "1850: Any[0, [4, 1, 2]], distance=11.832159566199232\n",
      "1851: Any[0, [1, 4, 2]], distance=11.832159566199232\n",
      "1852: Any[0, [2, 1, 4]], distance=11.832159566199232\n",
      "1853: Any[0, [1, 2, 4]], distance=11.832159566199232\n",
      "1854: Any[2, [7, 4, 4]], distance=11.958260743101398\n",
      "1855: Any[3, [7, 4, 4]], distance=11.958260743101398\n",
      "1856: Any[1, [4, 7, 4]], distance=11.958260743101398\n",
      "1857: Any[3, [4, 7, 4]], distance=11.958260743101398\n",
      "1858: Any[1, [4, 4, 7]], distance=11.958260743101398\n",
      "1859: Any[2, [4, 4, 7]], distance=11.958260743101398\n",
      "1860: Any[0, [6, 4, 4]], distance=12.0\n",
      "1861: Any[0, [4, 6, 4]], distance=12.0\n",
      "1862: Any[0, [4, 4, 6]], distance=12.0\n",
      "1863: Any[0, [4, 3, 0]], distance=12.165525060596439\n",
      "1864: Any[0, [3, 4, 0]], distance=12.165525060596439\n",
      "1865: Any[0, [4, 0, 3]], distance=12.165525060596439\n",
      "1866: Any[0, [0, 4, 3]], distance=12.165525060596439\n",
      "1867: Any[0, [3, 0, 4]], distance=12.165525060596439\n",
      "1868: Any[0, [0, 3, 4]], distance=12.165525060596439\n",
      "1869: Any[1, [3, 3, 2]], distance=12.288205727444508\n",
      "1870: Any[2, [3, 3, 2]], distance=12.288205727444508\n",
      "1871: Any[1, [3, 2, 3]], distance=12.288205727444508\n",
      "1872: Any[3, [3, 2, 3]], distance=12.288205727444508\n",
      "1873: Any[2, [2, 3, 3]], distance=12.288205727444508\n",
      "1874: Any[3, [2, 3, 3]], distance=12.288205727444508\n",
      "1875: Any[1, [6, 6, 5]], distance=12.288205727444508\n",
      "1876: Any[2, [6, 6, 5]], distance=12.288205727444508\n",
      "1877: Any[1, [6, 5, 6]], distance=12.288205727444508\n",
      "1878: Any[3, [6, 5, 6]], distance=12.288205727444508\n",
      "1879: Any[2, [5, 6, 6]], distance=12.288205727444508\n",
      "1880: Any[3, [5, 6, 6]], distance=12.288205727444508\n",
      "1881: Any[1, [4, 2, 2]], distance=12.36931687685298\n",
      "1882: Any[3, [3, 3, 2]], distance=12.36931687685298\n",
      "1883: Any[2, [2, 4, 2]], distance=12.36931687685298\n",
      "1884: Any[2, [3, 2, 3]], distance=12.36931687685298\n",
      "1885: Any[1, [2, 3, 3]], distance=12.36931687685298\n",
      "1886: Any[3, [2, 2, 4]], distance=12.36931687685298\n",
      "1887: Any[1, [7, 4, 4]], distance=12.36931687685298\n",
      "1888: Any[2, [4, 7, 4]], distance=12.36931687685298\n",
      "1889: Any[1, [7, 5, 5]], distance=12.36931687685298\n",
      "1890: Any[3, [6, 6, 5]], distance=12.36931687685298\n",
      "1891: Any[2, [5, 7, 5]], distance=12.36931687685298\n",
      "1892: Any[2, [6, 5, 6]], distance=12.36931687685298\n",
      "1893: Any[1, [5, 6, 6]], distance=12.36931687685298\n",
      "1894: Any[3, [4, 4, 7]], distance=12.36931687685298\n",
      "1895: Any[3, [5, 5, 7]], distance=12.36931687685298\n",
      "1896: Any[1, [4, 3, 1]], distance=12.529964086141668\n",
      "1897: Any[2, [3, 4, 1]], distance=12.529964086141668\n",
      "1898: Any[2, [4, 2, 2]], distance=12.529964086141668\n",
      "1899: Any[3, [4, 2, 2]], distance=12.529964086141668\n",
      "1900: Any[1, [2, 4, 2]], distance=12.529964086141668\n",
      "1901: Any[3, [2, 4, 2]], distance=12.529964086141668\n",
      "1902: Any[1, [4, 1, 3]], distance=12.529964086141668\n",
      "1903: Any[2, [1, 4, 3]], distance=12.529964086141668\n",
      "1904: Any[3, [3, 1, 4]], distance=12.529964086141668\n",
      "1905: Any[1, [2, 2, 4]], distance=12.529964086141668\n",
      "1906: Any[2, [2, 2, 4]], distance=12.529964086141668\n",
      "1907: Any[3, [1, 3, 4]], distance=12.529964086141668\n",
      "1908: Any[2, [7, 5, 5]], distance=12.529964086141668\n",
      "1909: Any[3, [7, 5, 5]], distance=12.529964086141668\n",
      "1910: Any[1, [5, 7, 5]], distance=12.529964086141668\n",
      "1911: Any[3, [5, 7, 5]], distance=12.529964086141668\n",
      "1912: Any[1, [5, 5, 7]], distance=12.529964086141668\n",
      "1913: Any[2, [5, 5, 7]], distance=12.529964086141668\n",
      "1914: Any[2, [4, 3, 1]], distance=12.609520212918492\n",
      "1915: Any[1, [3, 4, 1]], distance=12.609520212918492\n",
      "1916: Any[3, [4, 1, 3]], distance=12.609520212918492\n",
      "1917: Any[3, [1, 4, 3]], distance=12.609520212918492\n",
      "1918: Any[1, [3, 1, 4]], distance=12.609520212918492\n",
      "1919: Any[2, [1, 3, 4]], distance=12.609520212918492\n",
      "1920: Any[3, [4, 3, 1]], distance=12.767145334803704\n",
      "1921: Any[3, [3, 4, 1]], distance=12.767145334803704\n",
      "1922: Any[2, [4, 1, 3]], distance=12.767145334803704\n",
      "1923: Any[1, [1, 4, 3]], distance=12.767145334803704\n",
      "1924: Any[2, [3, 1, 4]], distance=12.767145334803704\n",
      "1925: Any[1, [1, 3, 4]], distance=12.767145334803704\n",
      "1926: Any[0, [7, 4, 4]], distance=12.806248474865697\n",
      "1927: Any[0, [4, 7, 4]], distance=12.806248474865697\n",
      "1928: Any[0, [4, 4, 7]], distance=12.806248474865697\n",
      "1929: Any[1, [4, 4, 0]], distance=13.0\n",
      "1930: Any[2, [4, 4, 0]], distance=13.0\n",
      "1931: Any[1, [4, 0, 4]], distance=13.0\n",
      "1932: Any[3, [4, 0, 4]], distance=13.0\n",
      "1933: Any[2, [0, 4, 4]], distance=13.0\n",
      "1934: Any[3, [0, 4, 4]], distance=13.0\n",
      "1935: Any[0, [3, 3, 2]], distance=13.114877048604\n",
      "1936: Any[0, [3, 2, 3]], distance=13.114877048604\n",
      "1937: Any[0, [2, 3, 3]], distance=13.114877048604\n",
      "1938: Any[0, [6, 5, 5]], distance=13.114877048604\n",
      "1939: Any[0, [5, 6, 5]], distance=13.114877048604\n",
      "1940: Any[0, [5, 5, 6]], distance=13.114877048604\n",
      "1941: Any[0, [4, 2, 2]], distance=13.2664991614216\n",
      "1942: Any[0, [2, 4, 2]], distance=13.2664991614216\n",
      "1943: Any[0, [2, 2, 4]], distance=13.2664991614216\n",
      "1944: Any[3, [4, 4, 0]], distance=13.30413469565007\n",
      "1945: Any[2, [4, 0, 4]], distance=13.30413469565007\n",
      "1946: Any[1, [0, 4, 4]], distance=13.30413469565007\n",
      "1947: Any[0, [4, 3, 1]], distance=13.416407864998739\n",
      "1948: Any[0, [3, 4, 1]], distance=13.416407864998739\n",
      "1949: Any[0, [4, 1, 3]], distance=13.416407864998739\n",
      "1950: Any[0, [1, 4, 3]], distance=13.416407864998739\n",
      "1951: Any[0, [3, 1, 4]], distance=13.416407864998739\n",
      "1952: Any[0, [1, 3, 4]], distance=13.416407864998739\n",
      "1953: Any[0, [4, 4, 0]], distance=13.856406460551018\n",
      "1954: Any[0, [4, 0, 4]], distance=13.856406460551018\n",
      "1955: Any[0, [0, 4, 4]], distance=13.856406460551018\n",
      "1956: Any[1, [3, 3, 3]], distance=13.892443989449804\n",
      "1957: Any[2, [3, 3, 3]], distance=13.892443989449804\n",
      "1958: Any[3, [3, 3, 3]], distance=13.892443989449804\n",
      "1959: Any[1, [6, 5, 5]], distance=13.892443989449804\n",
      "1960: Any[2, [5, 6, 5]], distance=13.892443989449804\n",
      "1961: Any[3, [5, 5, 6]], distance=13.892443989449804\n",
      "1962: Any[1, [4, 3, 2]], distance=13.96424004376894\n",
      "1963: Any[2, [3, 4, 2]], distance=13.96424004376894\n",
      "1964: Any[1, [4, 2, 3]], distance=13.96424004376894\n",
      "1965: Any[2, [2, 4, 3]], distance=13.96424004376894\n",
      "1966: Any[3, [3, 2, 4]], distance=13.96424004376894\n",
      "1967: Any[3, [2, 3, 4]], distance=13.96424004376894\n",
      "1968: Any[2, [6, 5, 5]], distance=13.96424004376894\n",
      "1969: Any[3, [6, 5, 5]], distance=13.96424004376894\n",
      "1970: Any[1, [5, 6, 5]], distance=13.96424004376894\n",
      "1971: Any[3, [5, 6, 5]], distance=13.96424004376894\n",
      "1972: Any[1, [5, 5, 6]], distance=13.96424004376894\n",
      "1973: Any[2, [5, 5, 6]], distance=13.96424004376894\n",
      "1974: Any[2, [4, 3, 2]], distance=14.035668847618199\n",
      "1975: Any[1, [3, 4, 2]], distance=14.035668847618199\n",
      "1976: Any[3, [4, 2, 3]], distance=14.035668847618199\n",
      "1977: Any[3, [2, 4, 3]], distance=14.035668847618199\n",
      "1978: Any[1, [3, 2, 4]], distance=14.035668847618199\n",
      "1979: Any[2, [2, 3, 4]], distance=14.035668847618199\n",
      "1980: Any[3, [4, 3, 2]], distance=14.106735979665885\n",
      "1981: Any[3, [3, 4, 2]], distance=14.106735979665885\n",
      "1982: Any[2, [4, 2, 3]], distance=14.106735979665885\n",
      "1983: Any[1, [2, 4, 3]], distance=14.106735979665885\n",
      "1984: Any[2, [3, 2, 4]], distance=14.106735979665885\n",
      "1985: Any[1, [2, 3, 4]], distance=14.106735979665885\n",
      "1986: Any[1, [4, 4, 1]], distance=14.247806848775006\n",
      "1987: Any[2, [4, 4, 1]], distance=14.247806848775006\n",
      "1988: Any[1, [4, 1, 4]], distance=14.247806848775006\n",
      "1989: Any[3, [4, 1, 4]], distance=14.247806848775006\n",
      "1990: Any[2, [1, 4, 4]], distance=14.247806848775006\n",
      "1991: Any[3, [1, 4, 4]], distance=14.247806848775006\n",
      "1992: Any[3, [4, 4, 1]], distance=14.45683229480096\n",
      "1993: Any[2, [4, 1, 4]], distance=14.45683229480096\n",
      "1994: Any[1, [1, 4, 4]], distance=14.45683229480096\n",
      "1995: Any[0, [3, 3, 3]], distance=14.696938456699069\n",
      "1996: Any[0, [5, 5, 5]], distance=14.696938456699069\n",
      "1997: Any[0, [4, 3, 2]], distance=14.832396974191326\n",
      "1998: Any[0, [3, 4, 2]], distance=14.832396974191326\n",
      "1999: Any[0, [4, 2, 3]], distance=14.832396974191326\n",
      "2000: Any[0, [2, 4, 3]], distance=14.832396974191326\n",
      "2001: Any[0, [3, 2, 4]], distance=14.832396974191326\n",
      "2002: Any[0, [2, 3, 4]], distance=14.832396974191326\n",
      "2003: Any[0, [4, 4, 1]], distance=15.0996688705415\n",
      "2004: Any[0, [4, 1, 4]], distance=15.0996688705415\n",
      "2005: Any[0, [1, 4, 4]], distance=15.0996688705415\n",
      "2006: Any[1, [4, 3, 3]], distance=15.524174696260024\n",
      "2007: Any[2, [3, 4, 3]], distance=15.524174696260024\n",
      "2008: Any[3, [3, 3, 4]], distance=15.524174696260024\n",
      "2009: Any[1, [5, 5, 5]], distance=15.524174696260024\n",
      "2010: Any[2, [5, 5, 5]], distance=15.524174696260024\n",
      "2011: Any[3, [5, 5, 5]], distance=15.524174696260024\n",
      "2012: Any[2, [4, 3, 3]], distance=15.588457268119896\n",
      "2013: Any[3, [4, 3, 3]], distance=15.588457268119896\n",
      "2014: Any[1, [3, 4, 3]], distance=15.588457268119896\n",
      "2015: Any[3, [3, 4, 3]], distance=15.588457268119896\n",
      "2016: Any[1, [3, 3, 4]], distance=15.588457268119896\n",
      "2017: Any[2, [3, 3, 4]], distance=15.588457268119896\n",
      "2018: Any[1, [4, 4, 2]], distance=15.652475842498529\n",
      "2019: Any[2, [4, 4, 2]], distance=15.652475842498529\n",
      "2020: Any[1, [4, 2, 4]], distance=15.652475842498529\n",
      "2021: Any[3, [4, 2, 4]], distance=15.652475842498529\n",
      "2022: Any[2, [2, 4, 4]], distance=15.652475842498529\n",
      "2023: Any[3, [2, 4, 4]], distance=15.652475842498529\n",
      "2024: Any[3, [4, 4, 2]], distance=15.7797338380595\n",
      "2025: Any[2, [4, 2, 4]], distance=15.7797338380595\n",
      "2026: Any[1, [2, 4, 4]], distance=15.7797338380595\n",
      "2027: Any[0, [4, 3, 3]], distance=16.3707055437449\n",
      "2028: Any[0, [3, 4, 3]], distance=16.3707055437449\n",
      "2029: Any[0, [3, 3, 4]], distance=16.3707055437449\n",
      "2030: Any[0, [4, 4, 2]], distance=16.492422502470642\n",
      "2031: Any[0, [4, 2, 4]], distance=16.492422502470642\n",
      "2032: Any[0, [2, 4, 4]], distance=16.492422502470642\n",
      "2033: Any[1, [4, 4, 3]], distance=17.175564037317667\n",
      "2034: Any[2, [4, 4, 3]], distance=17.175564037317667\n",
      "2035: Any[1, [4, 3, 4]], distance=17.175564037317667\n",
      "2036: Any[3, [4, 3, 4]], distance=17.175564037317667\n",
      "2037: Any[2, [3, 4, 4]], distance=17.175564037317667\n",
      "2038: Any[3, [3, 4, 4]], distance=17.175564037317667\n",
      "2039: Any[3, [4, 4, 3]], distance=17.233687939614086\n",
      "2040: Any[2, [4, 3, 4]], distance=17.233687939614086\n",
      "2041: Any[1, [3, 4, 4]], distance=17.233687939614086\n",
      "2042: Any[0, [4, 4, 3]], distance=18.0\n",
      "2043: Any[0, [4, 3, 4]], distance=18.0\n",
      "2044: Any[0, [3, 4, 4]], distance=18.0\n"
     ]
    },
    {
     "name": "stdout",
     "output_type": "stream",
     "text": [
      "2045: Any[1, [4, 4, 4]], distance=18.788294228055936\n",
      "2046: Any[2, [4, 4, 4]], distance=18.788294228055936\n",
      "2047: Any[3, [4, 4, 4]], distance=18.788294228055936\n",
      "2048: Any[0, [4, 4, 4]], distance=19.595917942265423\n"
     ]
    }
   ],
   "source": [
    "enumerateneighbors([8,8,8])"
   ]
  },
  {
   "cell_type": "code",
   "execution_count": 24,
   "metadata": {},
   "outputs": [
    {
     "name": "stdout",
     "output_type": "stream",
     "text": [
      "Oh oh 2000th repeat\n",
      "Total 396\n"
     ]
    }
   ],
   "source": [
    "configin=initializebycopying([4,4,4]);"
   ]
  },
  {
   "cell_type": "code",
   "execution_count": 8,
   "metadata": {},
   "outputs": [
    {
     "data": {
      "text/plain": [
       "(4, 2, 2, 2)"
      ]
     },
     "execution_count": 8,
     "metadata": {},
     "output_type": "execute_result"
    }
   ],
   "source": [
    "size(configin)"
   ]
  },
  {
   "cell_type": "code",
   "execution_count": 18,
   "metadata": {},
   "outputs": [],
   "source": [
    "intfourier=loadfourierint(\"4X8X8X8InteractionFourier.txt\");"
   ]
  },
  {
   "cell_type": "code",
   "execution_count": 9,
   "metadata": {},
   "outputs": [
    {
     "data": {
      "text/plain": [
       "2-element Array{Complex{Float64},1}:\n",
       "   0.0014555347136379182 + 0.0im\n",
       " -2.2685428299266784e-21 + 0.0im"
      ]
     },
     "execution_count": 9,
     "metadata": {},
     "output_type": "execute_result"
    }
   ],
   "source": [
    "W3W4vdwcalc(configin,[8,8,8],intfourier)"
   ]
  },
  {
   "cell_type": "code",
   "execution_count": 14,
   "metadata": {},
   "outputs": [
    {
     "data": {
      "text/plain": [
       "2-element Array{Float64,1}:\n",
       "  0.0014555347136379184\n",
       " -6.533669950278153e-5"
      ]
     },
     "execution_count": 14,
     "metadata": {},
     "output_type": "execute_result"
    }
   ],
   "source": [
    "W3W4vdwcalc(configin,[8,8,8],intfourier)"
   ]
  },
  {
   "cell_type": "code",
   "execution_count": 17,
   "metadata": {},
   "outputs": [
    {
     "data": {
      "text/plain": [
       "2-element Array{Float64,1}:\n",
       "  0.001455534713637976\n",
       " -6.533669950327007e-5"
      ]
     },
     "execution_count": 17,
     "metadata": {},
     "output_type": "execute_result"
    }
   ],
   "source": [
    "W3W4vdwcalc(configin,[8,8,8],intfourier)"
   ]
  },
  {
   "cell_type": "code",
   "execution_count": 21,
   "metadata": {},
   "outputs": [
    {
     "data": {
      "text/plain": [
       "2-element Array{Float64,1}:\n",
       "  0.0037156893932813813\n",
       " -0.0001711490530696327"
      ]
     },
     "execution_count": 21,
     "metadata": {},
     "output_type": "execute_result"
    }
   ],
   "source": [
    "W3W4vdwcalc(configin,[8,8,8],intfourier)"
   ]
  },
  {
   "cell_type": "code",
   "execution_count": 26,
   "metadata": {},
   "outputs": [
    {
     "data": {
      "text/plain": [
       "2-element Array{Float64,1}:\n",
       "  0.0019075656495666166\n",
       " -8.649917021606519e-5"
      ]
     },
     "execution_count": 26,
     "metadata": {},
     "output_type": "execute_result"
    }
   ],
   "source": [
    "W3W4vdwcalc(configin,[8,8,8],intfourier)"
   ]
  },
  {
   "cell_type": "code",
   "execution_count": 3,
   "metadata": {
    "scrolled": true
   },
   "outputs": [
    {
     "name": "stdout",
     "output_type": "stream",
     "text": [
      "Oh oh 2000th repeat\n",
      "Total 396\n",
      "1: HLRavg=13.007945090106455, W2avg=-0.5515598802653549, W3avg=0.0, W4avg=0.0\n",
      "2: HLRavg=13.245958198737416, W2avg=-0.5614602970969169, W3avg=0.0, W4avg=0.0\n",
      "3: HLRavg=13.401137492535057, W2avg=-0.5729849852428005, W3avg=0.0, W4avg=0.0\n",
      "4: HLRavg=13.323799409462705, W2avg=-0.5680328698213497, W3avg=0.0, W4avg=0.0\n",
      "5: HLRavg=13.280325918105472, W2avg=-0.5663227745085344, W3avg=0.0, W4avg=0.0\n",
      "6: HLRavg=13.222356416025633, W2avg=-0.5630271483017654, W3avg=0.0, W4avg=0.0\n",
      "7: HLRavg=13.168171785660444, W2avg=-0.5604615449480335, W3avg=0.0, W4avg=0.0\n",
      "8: HLRavg=13.188983424523842, W2avg=-0.5621801088226438, W3avg=0.0, W4avg=0.0\n",
      "9: HLRavg=13.236630668480222, W2avg=-0.563823232392866, W3avg=0.0, W4avg=0.0\n",
      "10: HLRavg=13.234476536364483, W2avg=-0.5638839877248544, W3avg=0.0, W4avg=0.0\n",
      "11: HLRavg=13.243360675072404, W2avg=-0.5652549345168019, W3avg=0.0, W4avg=0.0\n",
      "12: HLRavg=13.266489339523332, W2avg=-0.5674814309643286, W3avg=0.0, W4avg=0.0\n",
      "13: HLRavg=13.258044229123843, W2avg=-0.5665783291113049, W3avg=0.0, W4avg=0.0\n",
      "14: HLRavg=13.282977988522036, W2avg=-0.5685656186404967, W3avg=0.0, W4avg=0.0\n",
      "15: HLRavg=13.26076179418064, W2avg=-0.5674402378160764, W3avg=0.0, W4avg=0.0\n",
      "16: HLRavg=13.281694124858436, W2avg=-0.5693169360125646, W3avg=0.0, W4avg=0.0\n",
      "17: HLRavg=13.294522900487394, W2avg=-0.5699618541562563, W3avg=0.0, W4avg=0.0\n",
      "18: HLRavg=13.285996552164507, W2avg=-0.5697728618633806, W3avg=0.0, W4avg=0.0\n",
      "19: HLRavg=13.314795698898584, W2avg=-0.5716761441162739, W3avg=0.0, W4avg=0.0\n",
      "20: HLRavg=13.307312265679098, W2avg=-0.5716436889738495, W3avg=0.0, W4avg=0.0\n"
     ]
    },
    {
     "data": {
      "text/plain": [
       "5-element Array{Float64,1}:\n",
       "  0.1745849609375\n",
       " 13.307312265679098\n",
       " -0.5716436889738495\n",
       "  0.0\n",
       "  0.0"
      ]
     },
     "execution_count": 3,
     "metadata": {},
     "output_type": "execute_result"
    }
   ],
   "source": [
    "RK_MC_with_W3W4([8,8,8],20,1)"
   ]
  },
  {
   "cell_type": "code",
   "execution_count": 5,
   "metadata": {},
   "outputs": [
    {
     "name": "stdout",
     "output_type": "stream",
     "text": [
      "Oh oh 2000th repeat\n",
      "Total 395\n",
      "1: HLRavg=13.425717520762314, W2avg=-0.5832847339252758, W3avg=0.00345591517170432, W4avg=-0.00011115964253681986\n",
      "2: HLRavg=13.407052283999972, W2avg=-0.5781497279269112, W3avg=0.0034128323258048538, W4avg=-0.00011440060451601482\n",
      "3: HLRavg=13.406603126666957, W2avg=-0.5746396958647128, W3avg=0.003392406862297063, W4avg=-0.00011471160141347864\n"
     ]
    },
    {
     "data": {
      "text/plain": [
       "5-element Array{Float64,1}:\n",
       "  0.17887369791666666\n",
       " 13.406603126666957\n",
       " -0.5746396958647128\n",
       "  0.003392406862297063\n",
       " -0.00011471160141347864"
      ]
     },
     "execution_count": 5,
     "metadata": {},
     "output_type": "execute_result"
    }
   ],
   "source": [
    "RK_MC_with_W3W4([8,8,8],3,1)"
   ]
  },
  {
   "cell_type": "code",
   "execution_count": 3,
   "metadata": {},
   "outputs": [
    {
     "data": {
      "text/plain": [
       "2-element Array{Any,1}:\n",
       "  [0, 1, 0]\n",
       " 2"
      ]
     },
     "execution_count": 3,
     "metadata": {},
     "output_type": "execute_result"
    }
   ],
   "source": [
    "neighbdata(5,0)"
   ]
  },
  {
   "cell_type": "code",
   "execution_count": 4,
   "metadata": {},
   "outputs": [
    {
     "data": {
      "text/plain": [
       "2-element Array{Float64,1}:\n",
       " 2.0\n",
       " 6.6"
      ]
     },
     "execution_count": 4,
     "metadata": {},
     "output_type": "execute_result"
    }
   ],
   "source": [
    "2*[1,3.3]"
   ]
  },
  {
   "cell_type": "code",
   "execution_count": null,
   "metadata": {},
   "outputs": [],
   "source": [
    "M2vdwcalc(configin,[8,8,8],intfourier)"
   ]
  },
  {
   "cell_type": "code",
   "execution_count": 3,
   "metadata": {},
   "outputs": [
    {
     "data": {
      "text/plain": [
       "Float64"
      ]
     },
     "execution_count": 3,
     "metadata": {},
     "output_type": "execute_result"
    }
   ],
   "source": [
    "typeof(3.4)"
   ]
  },
  {
   "cell_type": "code",
   "execution_count": 4,
   "metadata": {},
   "outputs": [],
   "source": [
    "vdwintmatrix=reshape(readdlm(\"4X8X8X8vdWInteractionRealSpace.txt\",'\\t',Float64,'\\n',comments=true),(4,4,8,8,8));"
   ]
  },
  {
   "cell_type": "code",
   "execution_count": 5,
   "metadata": {},
   "outputs": [
    {
     "name": "stdout",
     "output_type": "stream",
     "text": [
      "Real space done\n"
     ]
    }
   ],
   "source": [
    "L2vdWmat=L2vdwRealSpace([8,8,8],vdwintmatrix);"
   ]
  },
  {
   "cell_type": "code",
   "execution_count": 7,
   "metadata": {},
   "outputs": [],
   "source": [
    "L2vdWmatFourier=fft(L2vdWmat,[3,4,5]);"
   ]
  },
  {
   "cell_type": "code",
   "execution_count": 8,
   "metadata": {},
   "outputs": [],
   "source": [
    "filename=\"4X8X8X8L2vdWFourier.txt\"\n",
    "open(filename, \"w\") do io\n",
    "    writedlm(filename,reshape(L2vdWmatFourier,8192))\n",
    "end"
   ]
  },
  {
   "cell_type": "code",
   "execution_count": 11,
   "metadata": {},
   "outputs": [
    {
     "data": {
      "text/plain": [
       "-0.6616111789308948"
      ]
     },
     "execution_count": 11,
     "metadata": {},
     "output_type": "execute_result"
    }
   ],
   "source": [
    "energycost_lr(configin, L2vdWmatFourier, [8,8,8]) "
   ]
  },
  {
   "cell_type": "code",
   "execution_count": 17,
   "metadata": {},
   "outputs": [
    {
     "data": {
      "text/plain": [
       "-1.535345931421657"
      ]
     },
     "execution_count": 17,
     "metadata": {},
     "output_type": "execute_result"
    }
   ],
   "source": [
    "energycost_lr(configpi0pi, L2vdWmatFourier, [8,8,8]) "
   ]
  },
  {
   "cell_type": "code",
   "execution_count": 83,
   "metadata": {},
   "outputs": [
    {
     "name": "stdout",
     "output_type": "stream",
     "text": [
      "Oh oh 2000th repeat\n",
      "Total 395\n"
     ]
    }
   ],
   "source": [
    "configin=initializebycopying([8,8,8]);"
   ]
  },
  {
   "cell_type": "code",
   "execution_count": null,
   "metadata": {},
   "outputs": [],
   "source": [
    "M2vdwcalc(configin,[8,8,8],intfourier)"
   ]
  },
  {
   "cell_type": "code",
   "execution_count": 44,
   "metadata": {},
   "outputs": [],
   "source": [
    "vdwintmatrix=vdwMatrixRealExtended([4,4,4],1,10);"
   ]
  },
  {
   "cell_type": "code",
   "execution_count": 82,
   "metadata": {},
   "outputs": [],
   "source": [
    "vdwintfourier=loadfourierint(\"4X8X8X8InteractionFourier.txt\");"
   ]
  },
  {
   "cell_type": "code",
   "execution_count": 45,
   "metadata": {},
   "outputs": [],
   "source": [
    "vdwintfourier=fft(vdwintmatrix,[3,4,5]);"
   ]
  },
  {
   "cell_type": "code",
   "execution_count": 48,
   "metadata": {},
   "outputs": [
    {
     "data": {
      "text/plain": [
       "0.02515050057330676"
      ]
     },
     "execution_count": 48,
     "metadata": {},
     "output_type": "execute_result"
    }
   ],
   "source": [
    "energycost_lr(configin,vdwintfourier,[4,4,4])/64"
   ]
  },
  {
   "cell_type": "code",
   "execution_count": 49,
   "metadata": {},
   "outputs": [
    {
     "name": "stdout",
     "output_type": "stream",
     "text": [
      "104.661871 seconds (1.96 G allocations: 89.250 GiB, 14.64% gc time)\n"
     ]
    },
    {
     "data": {
      "text/plain": [
       "1.0658591729708868 + 2.1026316706164913e-18im"
      ]
     },
     "execution_count": 49,
     "metadata": {},
     "output_type": "execute_result"
    }
   ],
   "source": [
    "@time M2vdwcalc(configin, [4,4,4], vdwintfourier)"
   ]
  },
  {
   "cell_type": "code",
   "execution_count": 53,
   "metadata": {},
   "outputs": [
    {
     "name": "stdout",
     "output_type": "stream",
     "text": [
      " 23.913967 seconds (251.90 M allocations: 26.263 GiB, 12.53% gc time)\n"
     ]
    },
    {
     "data": {
      "text/plain": [
       "0.9715932350277648 - 1.5477933760515556e-19im"
      ]
     },
     "execution_count": 53,
     "metadata": {},
     "output_type": "execute_result"
    }
   ],
   "source": [
    "@time M2vdwcalc(configin, [4,4,4], vdwintfourier)"
   ]
  },
  {
   "cell_type": "code",
   "execution_count": 54,
   "metadata": {},
   "outputs": [
    {
     "name": "stdout",
     "output_type": "stream",
     "text": [
      " 24.260577 seconds (251.66 M allocations: 26.250 GiB, 12.54% gc time)\n"
     ]
    },
    {
     "data": {
      "text/plain": [
       "0.9715932350277648 - 1.5477933760515556e-19im"
      ]
     },
     "execution_count": 54,
     "metadata": {},
     "output_type": "execute_result"
    }
   ],
   "source": [
    "@time M2vdwcalc(configin, [4,4,4], vdwintfourier)"
   ]
  },
  {
   "cell_type": "code",
   "execution_count": 56,
   "metadata": {},
   "outputs": [
    {
     "name": "stdout",
     "output_type": "stream",
     "text": [
      " 23.992207 seconds (251.94 M allocations: 26.265 GiB, 12.57% gc time)\n"
     ]
    },
    {
     "data": {
      "text/plain": [
       "0.9715932350277648 - 1.5477933760515556e-19im"
      ]
     },
     "execution_count": 56,
     "metadata": {},
     "output_type": "execute_result"
    }
   ],
   "source": [
    "@time M2vdwcalc(configin, [4,4,4], vdwintfourier)"
   ]
  },
  {
   "cell_type": "code",
   "execution_count": 58,
   "metadata": {},
   "outputs": [
    {
     "name": "stdout",
     "output_type": "stream",
     "text": [
      " 23.296193 seconds (251.92 M allocations: 26.263 GiB, 12.67% gc time)\n"
     ]
    },
    {
     "data": {
      "text/plain": [
       "0.9715932350277648"
      ]
     },
     "execution_count": 58,
     "metadata": {},
     "output_type": "execute_result"
    }
   ],
   "source": [
    "@time M2vdwcalc(configin, [4,4,4], vdwintfourier)"
   ]
  },
  {
   "cell_type": "code",
   "execution_count": 60,
   "metadata": {},
   "outputs": [
    {
     "name": "stdout",
     "output_type": "stream",
     "text": [
      " 24.046487 seconds (251.92 M allocations: 26.264 GiB, 12.52% gc time)\n"
     ]
    },
    {
     "data": {
      "text/plain": [
       "0.9715932350277648"
      ]
     },
     "execution_count": 60,
     "metadata": {},
     "output_type": "execute_result"
    }
   ],
   "source": [
    "@time M2vdwcalc(configin, [4,4,4], vdwintfourier)"
   ]
  },
  {
   "cell_type": "code",
   "execution_count": 62,
   "metadata": {},
   "outputs": [
    {
     "name": "stdout",
     "output_type": "stream",
     "text": [
      " 23.251902 seconds (251.92 M allocations: 26.263 GiB, 12.92% gc time)\n"
     ]
    },
    {
     "data": {
      "text/plain": [
       "0.8773272971871421"
      ]
     },
     "execution_count": 62,
     "metadata": {},
     "output_type": "execute_result"
    }
   ],
   "source": [
    "@time M2vdwcalc(configin, [4,4,4], vdwintfourier)"
   ]
  },
  {
   "cell_type": "code",
   "execution_count": 64,
   "metadata": {},
   "outputs": [
    {
     "name": "stdout",
     "output_type": "stream",
     "text": [
      "  7.951508 seconds (50.58 M allocations: 5.263 GiB, 7.60% gc time)\n"
     ]
    },
    {
     "data": {
      "text/plain": [
       "0.8773272971871421"
      ]
     },
     "execution_count": 64,
     "metadata": {},
     "output_type": "execute_result"
    }
   ],
   "source": [
    "@time M2vdwcalc(configin, [4,4,4], vdwintfourier)"
   ]
  },
  {
   "cell_type": "code",
   "execution_count": 65,
   "metadata": {},
   "outputs": [
    {
     "name": "stdout",
     "output_type": "stream",
     "text": [
      "  7.699255 seconds (50.33 M allocations: 5.250 GiB, 7.74% gc time)\n"
     ]
    },
    {
     "data": {
      "text/plain": [
       "0.8773272971871421"
      ]
     },
     "execution_count": 65,
     "metadata": {},
     "output_type": "execute_result"
    }
   ],
   "source": [
    "@time M2vdwcalc(configin, [4,4,4], vdwintfourier)"
   ]
  },
  {
   "cell_type": "code",
   "execution_count": 72,
   "metadata": {},
   "outputs": [
    {
     "name": "stdout",
     "output_type": "stream",
     "text": [
      "  5.099386 seconds (205.23 k allocations: 10.135 MiB)\n"
     ]
    },
    {
     "data": {
      "text/plain": [
       "2-element Array{Float64,1}:\n",
       "  0.00023840404135839444\n",
       " -1.0809877295358181e-5"
      ]
     },
     "execution_count": 72,
     "metadata": {},
     "output_type": "execute_result"
    }
   ],
   "source": [
    "@time W3W4vdwcalc(configin,[4,4,4],vdwintfourier)"
   ]
  },
  {
   "cell_type": "code",
   "execution_count": 81,
   "metadata": {},
   "outputs": [
    {
     "name": "stdout",
     "output_type": "stream",
     "text": [
      "  4.534448 seconds (610.17 k allocations: 50.847 MiB, 0.35% gc time)\n"
     ]
    },
    {
     "data": {
      "text/plain": [
       "1.065859172970889"
      ]
     },
     "execution_count": 81,
     "metadata": {},
     "output_type": "execute_result"
    }
   ],
   "source": [
    "@time M2vdwcalc(configin, [4,4,4], vdwintfourier)"
   ]
  },
  {
   "cell_type": "code",
   "execution_count": 76,
   "metadata": {},
   "outputs": [
    {
     "name": "stdout",
     "output_type": "stream",
     "text": [
      "102.525531 seconds (1.96 G allocations: 89.262 GiB, 14.72% gc time)\n"
     ]
    },
    {
     "data": {
      "text/plain": [
       "1.0658591729708868 + 2.1026316706164913e-18im"
      ]
     },
     "execution_count": 76,
     "metadata": {},
     "output_type": "execute_result"
    }
   ],
   "source": [
    "@time testM2vdwcalc(configin, [4,4,4], vdwintfourier)"
   ]
  },
  {
   "cell_type": "code",
   "execution_count": 84,
   "metadata": {},
   "outputs": [
    {
     "name": "stdout",
     "output_type": "stream",
     "text": [
      "2252.463336 seconds (22.02 M allocations: 2.297 GiB, 0.01% gc time)\n"
     ]
    },
    {
     "data": {
      "text/plain": [
       "1.6484439292361643"
      ]
     },
     "execution_count": 84,
     "metadata": {},
     "output_type": "execute_result"
    }
   ],
   "source": [
    "@time M2vdwcalc(configin, [8,8,8], vdwintfourier)"
   ]
  },
  {
   "cell_type": "code",
   "execution_count": null,
   "metadata": {},
   "outputs": [],
   "source": []
  }
 ],
 "metadata": {
  "kernelspec": {
   "display_name": "Julia 1.5.3",
   "language": "julia",
   "name": "julia-1.5"
  },
  "language_info": {
   "file_extension": ".jl",
   "mimetype": "application/julia",
   "name": "julia",
   "version": "1.5.3"
  }
 },
 "nbformat": 4,
 "nbformat_minor": 2
}
